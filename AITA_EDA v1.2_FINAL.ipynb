{
 "cells": [
  {
   "cell_type": "markdown",
   "metadata": {},
   "source": [
    "# Am I the Asshole (AITA) Prediction"
   ]
  },
  {
   "cell_type": "markdown",
   "metadata": {},
   "source": [
    "The purpose of this project is to 1) find the features most likely to predict who the crowd determines is an asshole, and 2) predict who is in fact an asshole. The data comes from Reddit's AITA subreddit (www.reddit.com/r/AITA).\n",
    "\n",
    "The data, mostly cleaned here, https://github.com/iterative/aita_dataset/blob/master/aita_clean.csv.dvc, includes the most essential features below. I have added a series of features based on hypotheses, also described below, attempting to discern what is an effective way to guess at assholery. Exploratory data analysis is used to derive relationships between You're The Asshole and Not The Asshole (categorical variable) and the various parameters examined.\n",
    "\n",
    "All observations are threads (title and body). No information about the poster other than what is in the body is known.\n",
    "\n",
    "It is more than likely that some people have posted more than once, about different situations; it's fair to say that the number of observations is representative of the number of situations asked about, and not representative of how many people are asking for help from the community (the latter of which we have no number for)."
   ]
  },
  {
   "cell_type": "markdown",
   "metadata": {},
   "source": [
    "# Data Fields"
   ]
  },
  {
   "cell_type": "markdown",
   "metadata": {},
   "source": [
    "- id: The unique post ID\n",
    "- timestamp: The timestamp of the post in datetime (originally in epoch time)\n",
    "- title: The subject line of the post\n",
    "- body: The full body of the post\n",
    "- edited: Whether it was edited or not (T/F)\n",
    "- verdict: The community's decision (\"You're the Asshole\" and \"Everyone Sucks\" both count as being an asshole)\n",
    "- score: The number of \"upvotes\" the community gave to that post (roughly, how much interest the community had in that post)\n",
    "- num_comments: How many people commented on the post\n",
    "- is_asshole: 1 for yes, 0 for no"
   ]
  },
  {
   "cell_type": "markdown",
   "metadata": {},
   "source": [
    "# Importing the Data"
   ]
  },
  {
   "cell_type": "code",
   "execution_count": 1,
   "metadata": {},
   "outputs": [
    {
     "name": "stderr",
     "output_type": "stream",
     "text": [
      "C:\\Users\\Robert Malka\\Anaconda3\\lib\\site-packages\\statsmodels\\tools\\_testing.py:19: FutureWarning: pandas.util.testing is deprecated. Use the functions in the public API at pandas.testing instead.\n",
      "  import pandas.util.testing as tm\n"
     ]
    }
   ],
   "source": [
    "#import required packages\n",
    "#basics\n",
    "import pandas as pd \n",
    "import numpy as np\n",
    "import datetime\n",
    "\n",
    "#misc\n",
    "import gc\n",
    "import os\n",
    "import time\n",
    "import warnings\n",
    "\n",
    "#stats\n",
    "from scipy import sparse\n",
    "import scipy.stats as ss\n",
    "\n",
    "#viz\n",
    "import matplotlib.pyplot as plt\n",
    "import matplotlib.gridspec as gridspec \n",
    "import seaborn as sns\n",
    "from wordcloud import WordCloud ,STOPWORDS\n",
    "from PIL import Image\n",
    "\n",
    "#nlp\n",
    "import string\n",
    "import re    #for regex\n",
    "import nltk\n",
    "from nltk.corpus import stopwords\n",
    "from nltk import pos_tag\n",
    "from nltk.stem.wordnet import WordNetLemmatizer \n",
    "from nltk.tokenize import word_tokenize\n",
    "# Tweet tokenizer does not split at apostophes which is what we want\n",
    "from nltk.tokenize import TweetTokenizer   \n",
    "import nltk\n",
    "from nltk.sentiment.vader import SentimentIntensityAnalyzer\n",
    "\n",
    "from nltk.classify import NaiveBayesClassifier\n",
    "from nltk.corpus import subjectivity\n",
    "from nltk.sentiment import SentimentAnalyzer\n",
    "from nltk.sentiment.util import *\n",
    "from nltk.corpus import stopwords\n",
    "from nltk.classify import SklearnClassifier\n",
    "\n",
    "\n",
    "#FeatureEngineering\n",
    "from sklearn.feature_extraction.text import TfidfVectorizer, CountVectorizer, HashingVectorizer\n",
    "from sklearn.decomposition import TruncatedSVD\n",
    "from sklearn.base import BaseEstimator, ClassifierMixin\n",
    "from sklearn.utils.validation import check_X_y, check_is_fitted\n",
    "from sklearn.linear_model import LogisticRegression\n",
    "from sklearn import metrics\n",
    "from sklearn.metrics import log_loss\n",
    "from sklearn.model_selection import StratifiedKFold\n",
    "from sklearn.model_selection import KFold\n",
    "from sklearn.model_selection import train_test_split\n",
    "from sklearn.naive_bayes import MultinomialNB\n",
    "from sklearn.neighbors import KNeighborsClassifier \n",
    "from sklearn.cluster import KMeans\n",
    "\n",
    "#textstat\n",
    "import textstat\n",
    "\n",
    "\n",
    "#settings\n",
    "start_time = time.time()\n",
    "color = sns.color_palette()\n",
    "sns.set_style(\"dark\")\n",
    "eng_stopwords = set(stopwords.words(\"english\"))\n",
    "warnings.filterwarnings(\"ignore\")\n",
    "\n",
    "lem = WordNetLemmatizer()\n",
    "tokenizer = TweetTokenizer()\n",
    "\n",
    "%matplotlib inline\n"
   ]
  },
  {
   "cell_type": "code",
   "execution_count": 2,
   "metadata": {},
   "outputs": [],
   "source": [
    "df = pd.read_csv(r\"C:\\Users\\Robert Malka\\Desktop\\aita_clean_3.2.csv\")"
   ]
  },
  {
   "cell_type": "markdown",
   "metadata": {},
   "source": [
    "# Exploring the Data"
   ]
  },
  {
   "cell_type": "code",
   "execution_count": 3,
   "metadata": {},
   "outputs": [
    {
     "data": {
      "text/html": [
       "<div>\n",
       "<style scoped>\n",
       "    .dataframe tbody tr th:only-of-type {\n",
       "        vertical-align: middle;\n",
       "    }\n",
       "\n",
       "    .dataframe tbody tr th {\n",
       "        vertical-align: top;\n",
       "    }\n",
       "\n",
       "    .dataframe thead th {\n",
       "        text-align: right;\n",
       "    }\n",
       "</style>\n",
       "<table border=\"1\" class=\"dataframe\">\n",
       "  <thead>\n",
       "    <tr style=\"text-align: right;\">\n",
       "      <th></th>\n",
       "      <th>id</th>\n",
       "      <th>timestamp</th>\n",
       "      <th>title</th>\n",
       "      <th>body</th>\n",
       "      <th>edited</th>\n",
       "      <th>verdict</th>\n",
       "      <th>score</th>\n",
       "      <th>num_comments</th>\n",
       "      <th>is_asshole</th>\n",
       "    </tr>\n",
       "  </thead>\n",
       "  <tbody>\n",
       "    <tr>\n",
       "      <th>0</th>\n",
       "      <td>1ytxov</td>\n",
       "      <td>2014-02-24 21:50:51</td>\n",
       "      <td>[AITA] I wrote an explanation in TIL and came ...</td>\n",
       "      <td>[Here is the post in question](http://www.redd...</td>\n",
       "      <td>False</td>\n",
       "      <td>asshole</td>\n",
       "      <td>52</td>\n",
       "      <td>13.0</td>\n",
       "      <td>1</td>\n",
       "    </tr>\n",
       "    <tr>\n",
       "      <th>1</th>\n",
       "      <td>1yu29c</td>\n",
       "      <td>2014-02-24 22:33:04</td>\n",
       "      <td>[AITA] Threw my parent's donuts away</td>\n",
       "      <td>My parents are diabetic, morbidly obese, and a...</td>\n",
       "      <td>True</td>\n",
       "      <td>asshole</td>\n",
       "      <td>140</td>\n",
       "      <td>27.0</td>\n",
       "      <td>1</td>\n",
       "    </tr>\n",
       "    <tr>\n",
       "      <th>2</th>\n",
       "      <td>1yu8hi</td>\n",
       "      <td>2014-02-24 23:31:17</td>\n",
       "      <td>I told a goth girl she looked like a clown.</td>\n",
       "      <td>I was four.</td>\n",
       "      <td>False</td>\n",
       "      <td>not the asshole</td>\n",
       "      <td>74</td>\n",
       "      <td>15.0</td>\n",
       "      <td>0</td>\n",
       "    </tr>\n",
       "    <tr>\n",
       "      <th>3</th>\n",
       "      <td>1yuc78</td>\n",
       "      <td>2014-02-25 00:05:28</td>\n",
       "      <td>[AItA]: Argument I had with another redditor i...</td>\n",
       "      <td>http://www.reddit.com/r/HIMYM/comments/1vvfkq/...</td>\n",
       "      <td>True</td>\n",
       "      <td>everyone sucks</td>\n",
       "      <td>22</td>\n",
       "      <td>3.0</td>\n",
       "      <td>1</td>\n",
       "    </tr>\n",
       "    <tr>\n",
       "      <th>4</th>\n",
       "      <td>1yueqb</td>\n",
       "      <td>2014-02-25 00:29:24</td>\n",
       "      <td>[AITA] I let my story get a little long and bo...</td>\n",
       "      <td>NaN</td>\n",
       "      <td>False</td>\n",
       "      <td>not the asshole</td>\n",
       "      <td>6</td>\n",
       "      <td>4.0</td>\n",
       "      <td>0</td>\n",
       "    </tr>\n",
       "  </tbody>\n",
       "</table>\n",
       "</div>"
      ],
      "text/plain": [
       "       id            timestamp  \\\n",
       "0  1ytxov  2014-02-24 21:50:51   \n",
       "1  1yu29c  2014-02-24 22:33:04   \n",
       "2  1yu8hi  2014-02-24 23:31:17   \n",
       "3  1yuc78  2014-02-25 00:05:28   \n",
       "4  1yueqb  2014-02-25 00:29:24   \n",
       "\n",
       "                                               title  \\\n",
       "0  [AITA] I wrote an explanation in TIL and came ...   \n",
       "1               [AITA] Threw my parent's donuts away   \n",
       "2        I told a goth girl she looked like a clown.   \n",
       "3  [AItA]: Argument I had with another redditor i...   \n",
       "4  [AITA] I let my story get a little long and bo...   \n",
       "\n",
       "                                                body  edited          verdict  \\\n",
       "0  [Here is the post in question](http://www.redd...   False          asshole   \n",
       "1  My parents are diabetic, morbidly obese, and a...    True          asshole   \n",
       "2                                        I was four.   False  not the asshole   \n",
       "3  http://www.reddit.com/r/HIMYM/comments/1vvfkq/...    True   everyone sucks   \n",
       "4                                                NaN   False  not the asshole   \n",
       "\n",
       "   score  num_comments  is_asshole  \n",
       "0     52          13.0           1  \n",
       "1    140          27.0           1  \n",
       "2     74          15.0           0  \n",
       "3     22           3.0           1  \n",
       "4      6           4.0           0  "
      ]
     },
     "execution_count": 3,
     "metadata": {},
     "output_type": "execute_result"
    }
   ],
   "source": [
    "df.head()"
   ]
  },
  {
   "cell_type": "code",
   "execution_count": 4,
   "metadata": {},
   "outputs": [
    {
     "name": "stdout",
     "output_type": "stream",
     "text": [
      "<class 'pandas.core.frame.DataFrame'>\n",
      "RangeIndex: 97628 entries, 0 to 97627\n",
      "Data columns (total 9 columns):\n",
      " #   Column        Non-Null Count  Dtype  \n",
      "---  ------        --------------  -----  \n",
      " 0   id            97628 non-null  object \n",
      " 1   timestamp     97628 non-null  object \n",
      " 2   title         97628 non-null  object \n",
      " 3   body          97541 non-null  object \n",
      " 4   edited        97628 non-null  bool   \n",
      " 5   verdict       97628 non-null  object \n",
      " 6   score         97628 non-null  int64  \n",
      " 7   num_comments  97628 non-null  float64\n",
      " 8   is_asshole    97628 non-null  int64  \n",
      "dtypes: bool(1), float64(1), int64(2), object(5)\n",
      "memory usage: 6.1+ MB\n"
     ]
    }
   ],
   "source": [
    "df.info()"
   ]
  },
  {
   "cell_type": "code",
   "execution_count": 5,
   "metadata": {},
   "outputs": [
    {
     "data": {
      "text/plain": [
       "id               object\n",
       "timestamp        object\n",
       "title            object\n",
       "body             object\n",
       "edited             bool\n",
       "verdict          object\n",
       "score             int64\n",
       "num_comments    float64\n",
       "is_asshole        int64\n",
       "dtype: object"
      ]
     },
     "execution_count": 5,
     "metadata": {},
     "output_type": "execute_result"
    }
   ],
   "source": [
    "df.dtypes"
   ]
  },
  {
   "cell_type": "markdown",
   "metadata": {},
   "source": [
    "Verifying that there are no typos or missing variables in the data..."
   ]
  },
  {
   "cell_type": "code",
   "execution_count": 6,
   "metadata": {},
   "outputs": [
    {
     "data": {
      "text/plain": [
       "array(['I love the musical *Les Miserables*. A coworker of mine said that they didn\\'t like it. I asked why and they said, among other things, that \"it\\'s not a musical, it\\'s an opera.\"\\n\\nNow, I happen to be an opera singer. I told them adamantly that it is NOT an opera. There are a number of things that make this true, but if you can take my word for it- and I hope you can- it\\'s not a matter of opinion whether a mainstream musical is an opera or not. It is a musical, period.\\n\\nMy coworker thought otherwise. \"My boyfriend writes musicals and he agrees with me\" was the extent of her argument. Well, he may well write musicals but that doesn\\'t mean he knows anything about opera. You might as well ask a jazz pianist to tell you about Beethoven- it\\'s not the same area of expertise even if it\\'s related. I told her \"You\\'re entitled to your opinion even if it\\'s wrong\" in a sort-of joking way. Maybe I was being dickish.\\n\\nI gotta know- am I the asshole?'],\n",
       "      dtype=object)"
      ]
     },
     "execution_count": 6,
     "metadata": {},
     "output_type": "execute_result"
    }
   ],
   "source": [
    "#Checking to see if there are any NaN values in e.g. cell 5 of column body. None, which is great.\n",
    "\n",
    "df['body'].values[5:6]"
   ]
  },
  {
   "cell_type": "code",
   "execution_count": 7,
   "metadata": {},
   "outputs": [],
   "source": [
    "df = df.dropna()"
   ]
  },
  {
   "cell_type": "code",
   "execution_count": 8,
   "metadata": {},
   "outputs": [
    {
     "name": "stdout",
     "output_type": "stream",
     "text": [
      "               column_name  percent_missing\n",
      "id                      id              0.0\n",
      "timestamp        timestamp              0.0\n",
      "title                title              0.0\n",
      "body                  body              0.0\n",
      "edited              edited              0.0\n",
      "verdict            verdict              0.0\n",
      "score                score              0.0\n",
      "num_comments  num_comments              0.0\n",
      "is_asshole      is_asshole              0.0\n"
     ]
    }
   ],
   "source": [
    "#Function that calculates percentage of missing data per column.\n",
    "#subheading, e.g. filling missing data.\n",
    "\n",
    "percent_missing = df.isnull().sum() * 100 / len(df)\n",
    "missing_value_df = pd.DataFrame({'column_name': df.columns,\n",
    "                                 'percent_missing': percent_missing})\n",
    "print(missing_value_df)"
   ]
  },
  {
   "cell_type": "markdown",
   "metadata": {},
   "source": [
    "# Hypotheses & Visualizations"
   ]
  },
  {
   "cell_type": "markdown",
   "metadata": {},
   "source": [
    "## Histogram of is_asshole\n",
    "\n",
    "### So we know what we're looking at..."
   ]
  },
  {
   "cell_type": "code",
   "execution_count": 9,
   "metadata": {},
   "outputs": [
    {
     "data": {
      "text/plain": [
       "Text(0.5, 1.0, 'How many Assholes there are on the AITA subreddit')"
      ]
     },
     "execution_count": 9,
     "metadata": {},
     "output_type": "execute_result"
    },
    {
     "data": {
      "image/png": "[encoded data removed]",
      "text/plain": [
       "<Figure size 432x288 with 1 Axes>"
      ]
     },
     "metadata": {
      "needs_background": "light"
     },
     "output_type": "display_data"
    }
   ],
   "source": [
    "#Categories are '0' and '1'\n",
    "\n",
    "plt.hist(df['is_asshole'], bins=3);\n",
    "plt.xlabel('is_asshole (yes = right bar)')\n",
    "plt.ylabel('Count of is_asshole')\n",
    "plt.title('How many Assholes there are on the AITA subreddit')"
   ]
  },
  {
   "cell_type": "markdown",
   "metadata": {},
   "source": [
    "Interesting! So most of the time, people are NOT considered assholes ('0' (the left side) are not deemed assholes) -- it's actually only about 25,000 of 97,000 people -- or a little more than 25% -- of people who are deemed an asshole in the first place."
   ]
  },
  {
   "cell_type": "markdown",
   "metadata": {},
   "source": [
    "# Features"
   ]
  },
  {
   "cell_type": "markdown",
   "metadata": {},
   "source": [
    "I'm opting to examine some core features of the Title and the Body. They can be described as the following:\n",
    "\n",
    "- countI: How many times I is said in the body of the text. (Does number of \"I\"s correlate with narcissism/being an asshole?)\n",
    "- countHeSheThey: How many times He/She/They is said in the body of the text. (Does number of times OP (original poster) mentions others correlate in either direction to being an asshole (being thoughtful, or placing blame on others)?\n",
    "- IvsHeSheThey: countI divided by countHeSheThey. Does any proportion between these two numbers suggest being/not being an asshole?\n",
    "- post_word_count: The length of the post.\n",
    "- questionmarklast: Whether or not the post ends in a question mark (does asking versus saying, in this case, the last sentence, suggest a humility or arrogance?).\n",
    "- WIBTA_AITA: Whether the title asks \"Would I be the asshole\", versus \"Am I the asshole\" -- are there any differences in decision based on choosing one or the other?\n",
    "- bodyreadinglevel: Estimating the reading level of the body text."
   ]
  },
  {
   "cell_type": "code",
   "execution_count": 10,
   "metadata": {},
   "outputs": [],
   "source": [
    "df['countI'] = df.body.str.count(\"I|I'm\")\n"
   ]
  },
  {
   "cell_type": "code",
   "execution_count": 11,
   "metadata": {},
   "outputs": [],
   "source": [
    "df['countHeSheThey'] = df.body.str.count(\"[Tt]hey|[Hh]e|[Ss]he\")\n"
   ]
  },
  {
   "cell_type": "code",
   "execution_count": 12,
   "metadata": {},
   "outputs": [],
   "source": [
    "df['IvsHeSheThey'] = df.body.str.count(\"I|I'm\") / df.body.str.count(\"they|he|she\")\n",
    "df['IvsHeSheThey'] = np.where(df.IvsHeSheThey.isin([np.inf, -np.inf]), df['countI'], df['IvsHeSheThey'])\n",
    "\n",
    "\n",
    "#Have to check out if the lowest and highest fractions correlate at all with assholery. Will look at the \n",
    "#distribution and see the points. It's continuous so we should be able to see some interesting outliers."
   ]
  },
  {
   "cell_type": "code",
   "execution_count": 13,
   "metadata": {
    "scrolled": true
   },
   "outputs": [],
   "source": [
    "df = df[df['body'].notnull()]\n",
    "\n",
    "df['post_word_count'] = [len(item.split()) for item in df['body'].values]"
   ]
  },
  {
   "cell_type": "code",
   "execution_count": 14,
   "metadata": {},
   "outputs": [],
   "source": [
    "df['questionmarklast'] = df.body.str.endswith('?')\n",
    "\n",
    "df[\"questionmarklast\"] = df[\"questionmarklast\"].astype(int)"
   ]
  },
  {
   "cell_type": "code",
   "execution_count": 15,
   "metadata": {},
   "outputs": [],
   "source": [
    "def aita(string):\n",
    "    if (\"wibta\" in string.lower()) or (\"would i be the asshole\" in string.lower()):\n",
    "        return \"WIBTA\"\n",
    "    elif (\"aita\" in string.lower()) or (\"am i the asshole\" in string.lower()):\n",
    "        return \"AITA\"\n",
    "    else:\n",
    "        return \"Neither\"\n",
    "\n",
    "df['WIBTA_AITA'] = df.title.apply(aita)"
   ]
  },
  {
   "cell_type": "code",
   "execution_count": 16,
   "metadata": {
    "scrolled": true
   },
   "outputs": [],
   "source": [
    "df['bodyreadinglevel'] = df['body'].apply(lambda x: textstat.flesch_kincaid_grade(x))"
   ]
  },
  {
   "cell_type": "code",
   "execution_count": 17,
   "metadata": {
    "scrolled": false
   },
   "outputs": [
    {
     "name": "stdout",
     "output_type": "stream",
     "text": [
      "0         13.8\n",
      "1          5.8\n",
      "2         -2.7\n",
      "3        179.9\n",
      "5          6.8\n",
      "         ...  \n",
      "97623      7.9\n",
      "97624     10.6\n",
      "97625     12.7\n",
      "97626     10.2\n",
      "97627     15.1\n",
      "Name: bodyreadinglevel, Length: 97541, dtype: float64\n"
     ]
    }
   ],
   "source": [
    "print(df['bodyreadinglevel'])"
   ]
  },
  {
   "cell_type": "markdown",
   "metadata": {},
   "source": [
    "Notice there's at least one negative reading level. (Row 2: -2.7.) This suggests the post was confusing. (Note that the post was designated 'not the asshole.') Post in full is:\n",
    "\n",
    "*Title:* I told a goth girl she looked like a clown.\n",
    "*Body:* I was four.\n",
    "\n",
    "So we see immediately that not only is it not \"confusing\", but remarkably clear, in context. (When title and body are included, the reading level becomes a slightly-improved -1.4.):"
   ]
  },
  {
   "cell_type": "code",
   "execution_count": 18,
   "metadata": {},
   "outputs": [
    {
     "name": "stdout",
     "output_type": "stream",
     "text": [
      "-1.4\n"
     ]
    }
   ],
   "source": [
    "post_2 = (\"I told a goth girl she looked like a clown. I was four.\")\n",
    "\n",
    "print_post = (textstat.flesch_kincaid_grade(post_2))\n",
    "\n",
    "print(print_post)"
   ]
  },
  {
   "cell_type": "markdown",
   "metadata": {},
   "source": [
    "The negative reading level is indicative of a more metaphysically-systemic issue: it's revealing of the limits of meaning that can be derived from system that is not embodied. (Philosopher Hubert Dreyfus calls it the lack of \"embodied cognition.\") More on this in the final report. The short answer: There is *no way* for AI, as currently designed, to understand the context required behind, in this example, the archetype most people hold for \"a goth girl,\" and all of the nuanced qualities a goth girl has; the quality of the insult \"clown\" and how it fits (or doesn't) with being a goth; the fact that it *is taken as an insult* or presumed to be taken as an insult; and how a human being can broadly come to understand and value (or not) the remark as it's made by a four-year-old. There is nothing reducible to \"data-crunching\" in each of these pieces.\n",
    "\n",
    "In this particular thread, we can imagine a multitude of responses by the goth girl: laughter, maybe, or, if she felt insecure, perhaps she *was,* in some indirect way, insulted; but the response of the community intuitively seems to been grounded in a certain (and not unchangeable) cultural understanding, that a kid's innocence excuses him from what might otherwise be a rude or crass remark. Note that none of the reasonable inferences I've made are visible in the post itself. To get it, one would have to be a human being familiar with American culture - which is not reducible to any atomic elements, but an entire ecosystem with an interplay of nearly infinite parts, to which we have access.\n",
    "\n",
    "One final note: It is not about *having* the information, but about understanding how that information interacts with itself, and how (particularly people, but also animals) interact with it. Machine learning brute-forces certain inferences and assessments by way of collecting massive amounts of data, but there is as yet no means to access, except \"from the outside,\" as it were, how we take, create, value, and work with what we receive in the world. In order for an AI to really, really understand what is meant by a chair, it must be able to see something as valuable for sitting. This is a cultural conception, and not an innate property of the chair. All this and more to be continued."
   ]
  },
  {
   "cell_type": "markdown",
   "metadata": {},
   "source": [
    "In any case:\n",
    "\n",
    "Checking to see if there are any missing values before we go on:"
   ]
  },
  {
   "cell_type": "code",
   "execution_count": 19,
   "metadata": {},
   "outputs": [
    {
     "name": "stdout",
     "output_type": "stream",
     "text": [
      "                       column_name  percent_missing\n",
      "id                              id         0.000000\n",
      "timestamp                timestamp         0.000000\n",
      "title                        title         0.000000\n",
      "body                          body         0.000000\n",
      "edited                      edited         0.000000\n",
      "verdict                    verdict         0.000000\n",
      "score                        score         0.000000\n",
      "num_comments          num_comments         0.000000\n",
      "is_asshole              is_asshole         0.000000\n",
      "countI                      countI         0.000000\n",
      "countHeSheThey      countHeSheThey         0.000000\n",
      "IvsHeSheThey          IvsHeSheThey         0.097395\n",
      "post_word_count    post_word_count         0.000000\n",
      "questionmarklast  questionmarklast         0.000000\n",
      "WIBTA_AITA              WIBTA_AITA         0.000000\n",
      "bodyreadinglevel  bodyreadinglevel         0.000000\n"
     ]
    }
   ],
   "source": [
    "percent_missing = df.isnull().sum() * 100 / len(df)\n",
    "missing_value_df = pd.DataFrame({'column_name': df.columns,\n",
    "                                 'percent_missing': percent_missing})\n",
    "\n",
    "print(missing_value_df)"
   ]
  },
  {
   "cell_type": "markdown",
   "metadata": {},
   "source": [
    "There are, in IvsHeSheThey - let's fix them..."
   ]
  },
  {
   "cell_type": "code",
   "execution_count": 20,
   "metadata": {},
   "outputs": [
    {
     "name": "stdout",
     "output_type": "stream",
     "text": [
      "                       column_name  percent_missing\n",
      "id                              id              0.0\n",
      "timestamp                timestamp              0.0\n",
      "title                        title              0.0\n",
      "body                          body              0.0\n",
      "edited                      edited              0.0\n",
      "verdict                    verdict              0.0\n",
      "score                        score              0.0\n",
      "num_comments          num_comments              0.0\n",
      "is_asshole              is_asshole              0.0\n",
      "countI                      countI              0.0\n",
      "countHeSheThey      countHeSheThey              0.0\n",
      "IvsHeSheThey          IvsHeSheThey              0.0\n",
      "post_word_count    post_word_count              0.0\n",
      "questionmarklast  questionmarklast              0.0\n",
      "WIBTA_AITA              WIBTA_AITA              0.0\n",
      "bodyreadinglevel  bodyreadinglevel              0.0\n"
     ]
    }
   ],
   "source": [
    "df['IvsHeSheThey'] = df['IvsHeSheThey'].fillna(value=0)\n",
    "\n",
    "\n",
    "percent_missing = df.isnull().sum() * 100 / len(df)\n",
    "missing_value_df = pd.DataFrame({'column_name': df.columns,\n",
    "                                 'percent_missing': percent_missing})\n",
    "\n",
    "print(missing_value_df)"
   ]
  },
  {
   "cell_type": "code",
   "execution_count": 21,
   "metadata": {
    "scrolled": true
   },
   "outputs": [
    {
     "data": {
      "text/html": [
       "<div>\n",
       "<style scoped>\n",
       "    .dataframe tbody tr th:only-of-type {\n",
       "        vertical-align: middle;\n",
       "    }\n",
       "\n",
       "    .dataframe tbody tr th {\n",
       "        vertical-align: top;\n",
       "    }\n",
       "\n",
       "    .dataframe thead th {\n",
       "        text-align: right;\n",
       "    }\n",
       "</style>\n",
       "<table border=\"1\" class=\"dataframe\">\n",
       "  <thead>\n",
       "    <tr style=\"text-align: right;\">\n",
       "      <th></th>\n",
       "      <th>score</th>\n",
       "      <th>num_comments</th>\n",
       "      <th>is_asshole</th>\n",
       "      <th>countI</th>\n",
       "      <th>countHeSheThey</th>\n",
       "      <th>IvsHeSheThey</th>\n",
       "      <th>post_word_count</th>\n",
       "      <th>questionmarklast</th>\n",
       "      <th>bodyreadinglevel</th>\n",
       "    </tr>\n",
       "  </thead>\n",
       "  <tbody>\n",
       "    <tr>\n",
       "      <th>count</th>\n",
       "      <td>97541.000000</td>\n",
       "      <td>97541.000000</td>\n",
       "      <td>97541.000000</td>\n",
       "      <td>97541.000000</td>\n",
       "      <td>97541.000000</td>\n",
       "      <td>97541.000000</td>\n",
       "      <td>97541.000000</td>\n",
       "      <td>97541.000000</td>\n",
       "      <td>97541.000000</td>\n",
       "    </tr>\n",
       "    <tr>\n",
       "      <th>mean</th>\n",
       "      <td>324.838099</td>\n",
       "      <td>85.332168</td>\n",
       "      <td>0.271383</td>\n",
       "      <td>18.017921</td>\n",
       "      <td>33.978348</td>\n",
       "      <td>0.651182</td>\n",
       "      <td>337.229575</td>\n",
       "      <td>0.453307</td>\n",
       "      <td>15.222347</td>\n",
       "    </tr>\n",
       "    <tr>\n",
       "      <th>std</th>\n",
       "      <td>1965.611905</td>\n",
       "      <td>312.535658</td>\n",
       "      <td>0.444676</td>\n",
       "      <td>11.427630</td>\n",
       "      <td>21.317624</td>\n",
       "      <td>0.461958</td>\n",
       "      <td>183.968386</td>\n",
       "      <td>0.497818</td>\n",
       "      <td>22.804804</td>\n",
       "    </tr>\n",
       "    <tr>\n",
       "      <th>min</th>\n",
       "      <td>3.000000</td>\n",
       "      <td>1.000000</td>\n",
       "      <td>0.000000</td>\n",
       "      <td>0.000000</td>\n",
       "      <td>0.000000</td>\n",
       "      <td>0.000000</td>\n",
       "      <td>0.000000</td>\n",
       "      <td>0.000000</td>\n",
       "      <td>-15.700000</td>\n",
       "    </tr>\n",
       "    <tr>\n",
       "      <th>25%</th>\n",
       "      <td>5.000000</td>\n",
       "      <td>14.000000</td>\n",
       "      <td>0.000000</td>\n",
       "      <td>10.000000</td>\n",
       "      <td>19.000000</td>\n",
       "      <td>0.387755</td>\n",
       "      <td>203.000000</td>\n",
       "      <td>0.000000</td>\n",
       "      <td>7.700000</td>\n",
       "    </tr>\n",
       "    <tr>\n",
       "      <th>50%</th>\n",
       "      <td>10.000000</td>\n",
       "      <td>23.000000</td>\n",
       "      <td>0.000000</td>\n",
       "      <td>16.000000</td>\n",
       "      <td>30.000000</td>\n",
       "      <td>0.565217</td>\n",
       "      <td>309.000000</td>\n",
       "      <td>0.000000</td>\n",
       "      <td>10.000000</td>\n",
       "    </tr>\n",
       "    <tr>\n",
       "      <th>75%</th>\n",
       "      <td>37.000000</td>\n",
       "      <td>46.000000</td>\n",
       "      <td>1.000000</td>\n",
       "      <td>24.000000</td>\n",
       "      <td>45.000000</td>\n",
       "      <td>0.800000</td>\n",
       "      <td>452.000000</td>\n",
       "      <td>1.000000</td>\n",
       "      <td>13.500000</td>\n",
       "    </tr>\n",
       "    <tr>\n",
       "      <th>max</th>\n",
       "      <td>59187.000000</td>\n",
       "      <td>11906.000000</td>\n",
       "      <td>1.000000</td>\n",
       "      <td>286.000000</td>\n",
       "      <td>689.000000</td>\n",
       "      <td>18.000000</td>\n",
       "      <td>5507.000000</td>\n",
       "      <td>1.000000</td>\n",
       "      <td>839.400000</td>\n",
       "    </tr>\n",
       "  </tbody>\n",
       "</table>\n",
       "</div>"
      ],
      "text/plain": [
       "              score  num_comments    is_asshole        countI  countHeSheThey  \\\n",
       "count  97541.000000  97541.000000  97541.000000  97541.000000    97541.000000   \n",
       "mean     324.838099     85.332168      0.271383     18.017921       33.978348   \n",
       "std     1965.611905    312.535658      0.444676     11.427630       21.317624   \n",
       "min        3.000000      1.000000      0.000000      0.000000        0.000000   \n",
       "25%        5.000000     14.000000      0.000000     10.000000       19.000000   \n",
       "50%       10.000000     23.000000      0.000000     16.000000       30.000000   \n",
       "75%       37.000000     46.000000      1.000000     24.000000       45.000000   \n",
       "max    59187.000000  11906.000000      1.000000    286.000000      689.000000   \n",
       "\n",
       "       IvsHeSheThey  post_word_count  questionmarklast  bodyreadinglevel  \n",
       "count  97541.000000     97541.000000      97541.000000      97541.000000  \n",
       "mean       0.651182       337.229575          0.453307         15.222347  \n",
       "std        0.461958       183.968386          0.497818         22.804804  \n",
       "min        0.000000         0.000000          0.000000        -15.700000  \n",
       "25%        0.387755       203.000000          0.000000          7.700000  \n",
       "50%        0.565217       309.000000          0.000000         10.000000  \n",
       "75%        0.800000       452.000000          1.000000         13.500000  \n",
       "max       18.000000      5507.000000          1.000000        839.400000  "
      ]
     },
     "execution_count": 21,
     "metadata": {},
     "output_type": "execute_result"
    }
   ],
   "source": [
    "df.describe()"
   ]
  },
  {
   "cell_type": "markdown",
   "metadata": {},
   "source": [
    "## Histograms of certain basic features\n"
   ]
  },
  {
   "cell_type": "code",
   "execution_count": 22,
   "metadata": {
    "scrolled": false
   },
   "outputs": [
    {
     "data": {
      "image/png": "[encoded data removed]",
      "text/plain": [
       "<Figure size 432x288 with 1 Axes>"
      ]
     },
     "metadata": {
      "needs_background": "light"
     },
     "output_type": "display_data"
    }
   ],
   "source": [
    "plt.hist(df['countI'], bins=100, range=(0, 80));\n",
    "plt.xlabel('Number of I\\'s')\n",
    "plt.ylabel('Number of posts with given I count')\n",
    "plt.title('CountI')\n",
    "plt.show()"
   ]
  },
  {
   "cell_type": "markdown",
   "metadata": {},
   "source": [
    "So we see that the number of I's very rarely go past ~10-20 per post. In Hypothesis Two we'll take a look at whether or not some of the extremes are correlated with increased post count, and if they're not, whether or not the outliers indicate anything about being an asshole.\n",
    "   "
   ]
  },
  {
   "cell_type": "code",
   "execution_count": 23,
   "metadata": {
    "scrolled": false
   },
   "outputs": [
    {
     "data": {
      "image/png": "[encoded data removed]",
      "text/plain": [
       "<Figure size 432x288 with 1 Axes>"
      ]
     },
     "metadata": {
      "needs_background": "light"
     },
     "output_type": "display_data"
    }
   ],
   "source": [
    "plt.hist(df['countHeSheThey'], bins=100, range=(0, 120));\n",
    "plt.xlabel('Number of Hes/Shes/Theys')\n",
    "plt.ylabel('Number of posts with given HST count')\n",
    "plt.title('CountHeSheThey')\n",
    "plt.show()"
   ]
  },
  {
   "cell_type": "markdown",
   "metadata": {},
   "source": [
    "Notice the occasional jumps -- there are a few numbers of Hes/Shes/Theys that, combined, are extraordinarily common for posts, hence why many of the bars jump out far past the skewed curve.\n",
    "\n",
    "We'll also look at whether or not the outliers indicate increased or decreased assholery."
   ]
  },
  {
   "cell_type": "code",
   "execution_count": 24,
   "metadata": {
    "scrolled": false
   },
   "outputs": [
    {
     "data": {
      "text/plain": [
       "Text(0.5, 1.0, 'Post Word Count')"
      ]
     },
     "execution_count": 24,
     "metadata": {},
     "output_type": "execute_result"
    },
    {
     "data": {
      "image/png": "[encoded data removed]",
      "text/plain": [
       "<Figure size 432x288 with 1 Axes>"
      ]
     },
     "metadata": {
      "needs_background": "light"
     },
     "output_type": "display_data"
    }
   ],
   "source": [
    "plt.hist(df['post_word_count'], bins=100)\n",
    "plt.xlim(0, 1000)\n",
    "plt.xlabel('Word Count Length')\n",
    "plt.ylabel('Number of Posts With Count')\n",
    "plt.title('Post Word Count')"
   ]
  },
  {
   "cell_type": "code",
   "execution_count": 25,
   "metadata": {
    "scrolled": true
   },
   "outputs": [
    {
     "data": {
      "text/plain": [
       "Text(0.5, 1.0, 'Reading Level')"
      ]
     },
     "execution_count": 25,
     "metadata": {},
     "output_type": "execute_result"
    },
    {
     "data": {
      "image/png": "[encoded data removed]",
      "text/plain": [
       "<Figure size 432x288 with 1 Axes>"
      ]
     },
     "metadata": {
      "needs_background": "light"
     },
     "output_type": "display_data"
    }
   ],
   "source": [
    "plt.hist(df['bodyreadinglevel'], bins=100)\n",
    "plt.xlim(0, 100)\n",
    "plt.xlabel('Reading Level')\n",
    "plt.ylabel('Number of Posts With Given Reading Level')\n",
    "plt.title('Reading Level')\n",
    "\n",
    "#Let's get a zoomed in look at two parts of this graph, the skewed left side and the more subtle right side:"
   ]
  },
  {
   "cell_type": "code",
   "execution_count": 26,
   "metadata": {
    "scrolled": true
   },
   "outputs": [
    {
     "data": {
      "text/plain": [
       "Text(0.5, 1.0, 'Reading Level, High End')"
      ]
     },
     "execution_count": 26,
     "metadata": {},
     "output_type": "execute_result"
    },
    {
     "data": {
      "image/png": "[encoded data removed]",
      "text/plain": [
       "<Figure size 432x288 with 1 Axes>"
      ]
     },
     "metadata": {
      "needs_background": "light"
     },
     "output_type": "display_data"
    }
   ],
   "source": [
    "plt.hist(df['bodyreadinglevel'], bins=100)\n",
    "plt.xlim(20, 200)\n",
    "plt.ylim(0, 5500)\n",
    "plt.xlabel('Reading Level')\n",
    "plt.ylabel('Number of Posts With Given Reading Level')\n",
    "plt.title('Reading Level, High End')\n",
    "\n",
    "#So we see that the far side actually has some insanely high reading levels. We'll look into that in hypothesis\n",
    "#two."
   ]
  },
  {
   "cell_type": "code",
   "execution_count": 27,
   "metadata": {
    "scrolled": true
   },
   "outputs": [
    {
     "data": {
      "text/plain": [
       "Text(0.5, 1.0, 'Reading Level, Low End')"
      ]
     },
     "execution_count": 27,
     "metadata": {},
     "output_type": "execute_result"
    },
    {
     "data": {
      "image/png": "[encoded data removed]",
      "text/plain": [
       "<Figure size 432x288 with 1 Axes>"
      ]
     },
     "metadata": {
      "needs_background": "light"
     },
     "output_type": "display_data"
    }
   ],
   "source": [
    "plt.hist(df['bodyreadinglevel'], bins=1000)\n",
    "plt.xlim(-5, 30)\n",
    "plt.xlabel('Reading Level')\n",
    "plt.ylabel('Number of Posts With Given Reading Level')\n",
    "plt.title('Reading Level, Low End')\n",
    "\n",
    "#and the skewed left side actually reveals that most are in the ~5-12 reading level. Almost none are negative."
   ]
  },
  {
   "cell_type": "markdown",
   "metadata": {},
   "source": [
    "# Cramers V + Heatmap"
   ]
  },
  {
   "cell_type": "markdown",
   "metadata": {},
   "source": [
    "Performing a Cramer's V test to examine the correlation between categorical variables. This is preferable to a heatmap w/r/t categorical variables, but we'll do both to see how substantial the difference is.\n"
   ]
  },
  {
   "cell_type": "code",
   "execution_count": 28,
   "metadata": {},
   "outputs": [],
   "source": [
    "def cramers_v(x, y):\n",
    "    confusion_matrix = pd.crosstab(x,y)\n",
    "    chi2 = ss.chi2_contingency(confusion_matrix)[0]\n",
    "    n = confusion_matrix.sum().sum()\n",
    "    phi2 = chi2/n\n",
    "    r,k = confusion_matrix.shape\n",
    "    phi2corr = max(0, phi2-((k-1)*(r-1))/(n-1))\n",
    "    rcorr = r-((r-1)**2)/(n-1)\n",
    "    kcorr = k-((k-1)**2)/(n-1)\n",
    "    return np.sqrt(phi2corr/min((kcorr-1),(rcorr-1)))"
   ]
  },
  {
   "cell_type": "code",
   "execution_count": 29,
   "metadata": {},
   "outputs": [],
   "source": [
    "cramers_list = [df['edited'],\n",
    "                df['countI'], \n",
    "                df['countHeSheThey'], \n",
    "                df['IvsHeSheThey'], \n",
    "                df['post_word_count'], \n",
    "                df['questionmarklast'], \n",
    "                df['WIBTA_AITA'],\n",
    "                df['bodyreadinglevel']\n",
    "               ]\n",
    "\n",
    "list_cramers_names = ['edited', 'countI', 'countHeSheThey', 'IvsHeSheThey', 'post_word_count', 'questionmarklast', \n",
    "                      'WIBTA_AITA', 'bodyreadinglevel']"
   ]
  },
  {
   "cell_type": "code",
   "execution_count": 30,
   "metadata": {},
   "outputs": [
    {
     "name": "stdout",
     "output_type": "stream",
     "text": [
      "The Cramers V value of edited over is_asshole is 0.09484269395353913\n",
      "The Cramers V value of countI over is_asshole is 0.034829556030657856\n",
      "The Cramers V value of countHeSheThey over is_asshole is 0.03005672289409666\n",
      "The Cramers V value of IvsHeSheThey over is_asshole is 0.0\n",
      "The Cramers V value of post_word_count over is_asshole is 0.053900686412055226\n",
      "The Cramers V value of questionmarklast over is_asshole is 0.04587681872399618\n",
      "The Cramers V value of WIBTA_AITA over is_asshole is 0.021922342926157464\n",
      "The Cramers V value of bodyreadinglevel over is_asshole is 0.02116776853978297\n"
     ]
    }
   ],
   "source": [
    "for col in list_cramers_names:\n",
    "    print(\"The Cramers V value of {} over is_asshole is {}\".format(col, cramers_v(df[col], df['is_asshole'])))"
   ]
  },
  {
   "cell_type": "markdown",
   "metadata": {},
   "source": [
    "Interesting! So while the correlation for virtually all of them is pretty low, it's interesting to note that whether or not the OP edited their post is correlated with an increased likelihood of being an asshole. Just to be thorough, we see something similar with the heatmap:"
   ]
  },
  {
   "cell_type": "code",
   "execution_count": 31,
   "metadata": {
    "scrolled": true
   },
   "outputs": [
    {
     "data": {
      "text/html": [
       "<style  type=\"text/css\" >\n",
       "    #T_360f0682_4647_11eb_8fd7_87112509181brow0_col0 {\n",
       "            background-color:  #b40426;\n",
       "            color:  #f1f1f1;\n",
       "        }    #T_360f0682_4647_11eb_8fd7_87112509181brow0_col1 {\n",
       "            background-color:  #5875e1;\n",
       "            color:  #000000;\n",
       "        }    #T_360f0682_4647_11eb_8fd7_87112509181brow0_col2 {\n",
       "            background-color:  #6282ea;\n",
       "            color:  #000000;\n",
       "        }    #T_360f0682_4647_11eb_8fd7_87112509181brow0_col3 {\n",
       "            background-color:  #6485ec;\n",
       "            color:  #000000;\n",
       "        }    #T_360f0682_4647_11eb_8fd7_87112509181brow0_col4 {\n",
       "            background-color:  #7a9df8;\n",
       "            color:  #000000;\n",
       "        }    #T_360f0682_4647_11eb_8fd7_87112509181brow0_col5 {\n",
       "            background-color:  #afcafc;\n",
       "            color:  #000000;\n",
       "        }    #T_360f0682_4647_11eb_8fd7_87112509181brow0_col6 {\n",
       "            background-color:  #90b2fe;\n",
       "            color:  #000000;\n",
       "        }    #T_360f0682_4647_11eb_8fd7_87112509181brow0_col7 {\n",
       "            background-color:  #90b2fe;\n",
       "            color:  #000000;\n",
       "        }    #T_360f0682_4647_11eb_8fd7_87112509181brow0_col8 {\n",
       "            background-color:  #3b4cc0;\n",
       "            color:  #f1f1f1;\n",
       "        }    #T_360f0682_4647_11eb_8fd7_87112509181brow0_col9 {\n",
       "            background-color:  #506bda;\n",
       "            color:  #000000;\n",
       "        }    #T_360f0682_4647_11eb_8fd7_87112509181brow1_col0 {\n",
       "            background-color:  #a7c5fe;\n",
       "            color:  #000000;\n",
       "        }    #T_360f0682_4647_11eb_8fd7_87112509181brow1_col1 {\n",
       "            background-color:  #b40426;\n",
       "            color:  #f1f1f1;\n",
       "        }    #T_360f0682_4647_11eb_8fd7_87112509181brow1_col2 {\n",
       "            background-color:  #e46e56;\n",
       "            color:  #000000;\n",
       "        }    #T_360f0682_4647_11eb_8fd7_87112509181brow1_col3 {\n",
       "            background-color:  #455cce;\n",
       "            color:  #f1f1f1;\n",
       "        }    #T_360f0682_4647_11eb_8fd7_87112509181brow1_col4 {\n",
       "            background-color:  #5d7ce6;\n",
       "            color:  #000000;\n",
       "        }    #T_360f0682_4647_11eb_8fd7_87112509181brow1_col5 {\n",
       "            background-color:  #9fbfff;\n",
       "            color:  #000000;\n",
       "        }    #T_360f0682_4647_11eb_8fd7_87112509181brow1_col6 {\n",
       "            background-color:  #8badfd;\n",
       "            color:  #000000;\n",
       "        }    #T_360f0682_4647_11eb_8fd7_87112509181brow1_col7 {\n",
       "            background-color:  #7597f6;\n",
       "            color:  #000000;\n",
       "        }    #T_360f0682_4647_11eb_8fd7_87112509181brow1_col8 {\n",
       "            background-color:  #8db0fe;\n",
       "            color:  #000000;\n",
       "        }    #T_360f0682_4647_11eb_8fd7_87112509181brow1_col9 {\n",
       "            background-color:  #506bda;\n",
       "            color:  #000000;\n",
       "        }    #T_360f0682_4647_11eb_8fd7_87112509181brow2_col0 {\n",
       "            background-color:  #afcafc;\n",
       "            color:  #000000;\n",
       "        }    #T_360f0682_4647_11eb_8fd7_87112509181brow2_col1 {\n",
       "            background-color:  #e46e56;\n",
       "            color:  #000000;\n",
       "        }    #T_360f0682_4647_11eb_8fd7_87112509181brow2_col2 {\n",
       "            background-color:  #b40426;\n",
       "            color:  #f1f1f1;\n",
       "        }    #T_360f0682_4647_11eb_8fd7_87112509181brow2_col3 {\n",
       "            background-color:  #5470de;\n",
       "            color:  #000000;\n",
       "        }    #T_360f0682_4647_11eb_8fd7_87112509181brow2_col4 {\n",
       "            background-color:  #6180e9;\n",
       "            color:  #000000;\n",
       "        }    #T_360f0682_4647_11eb_8fd7_87112509181brow2_col5 {\n",
       "            background-color:  #9fbfff;\n",
       "            color:  #000000;\n",
       "        }    #T_360f0682_4647_11eb_8fd7_87112509181brow2_col6 {\n",
       "            background-color:  #8db0fe;\n",
       "            color:  #000000;\n",
       "        }    #T_360f0682_4647_11eb_8fd7_87112509181brow2_col7 {\n",
       "            background-color:  #779af7;\n",
       "            color:  #000000;\n",
       "        }    #T_360f0682_4647_11eb_8fd7_87112509181brow2_col8 {\n",
       "            background-color:  #8db0fe;\n",
       "            color:  #000000;\n",
       "        }    #T_360f0682_4647_11eb_8fd7_87112509181brow2_col9 {\n",
       "            background-color:  #506bda;\n",
       "            color:  #000000;\n",
       "        }    #T_360f0682_4647_11eb_8fd7_87112509181brow3_col0 {\n",
       "            background-color:  #adc9fd;\n",
       "            color:  #000000;\n",
       "        }    #T_360f0682_4647_11eb_8fd7_87112509181brow3_col1 {\n",
       "            background-color:  #3f53c6;\n",
       "            color:  #f1f1f1;\n",
       "        }    #T_360f0682_4647_11eb_8fd7_87112509181brow3_col2 {\n",
       "            background-color:  #4f69d9;\n",
       "            color:  #000000;\n",
       "        }    #T_360f0682_4647_11eb_8fd7_87112509181brow3_col3 {\n",
       "            background-color:  #b40426;\n",
       "            color:  #f1f1f1;\n",
       "        }    #T_360f0682_4647_11eb_8fd7_87112509181brow3_col4 {\n",
       "            background-color:  #485fd1;\n",
       "            color:  #f1f1f1;\n",
       "        }    #T_360f0682_4647_11eb_8fd7_87112509181brow3_col5 {\n",
       "            background-color:  #8badfd;\n",
       "            color:  #000000;\n",
       "        }    #T_360f0682_4647_11eb_8fd7_87112509181brow3_col6 {\n",
       "            background-color:  #90b2fe;\n",
       "            color:  #000000;\n",
       "        }    #T_360f0682_4647_11eb_8fd7_87112509181brow3_col7 {\n",
       "            background-color:  #5a78e4;\n",
       "            color:  #000000;\n",
       "        }    #T_360f0682_4647_11eb_8fd7_87112509181brow3_col8 {\n",
       "            background-color:  #89acfd;\n",
       "            color:  #000000;\n",
       "        }    #T_360f0682_4647_11eb_8fd7_87112509181brow3_col9 {\n",
       "            background-color:  #4e68d8;\n",
       "            color:  #000000;\n",
       "        }    #T_360f0682_4647_11eb_8fd7_87112509181brow4_col0 {\n",
       "            background-color:  #b9d0f9;\n",
       "            color:  #000000;\n",
       "        }    #T_360f0682_4647_11eb_8fd7_87112509181brow4_col1 {\n",
       "            background-color:  #516ddb;\n",
       "            color:  #000000;\n",
       "        }    #T_360f0682_4647_11eb_8fd7_87112509181brow4_col2 {\n",
       "            background-color:  #5572df;\n",
       "            color:  #000000;\n",
       "        }    #T_360f0682_4647_11eb_8fd7_87112509181brow4_col3 {\n",
       "            background-color:  #4358cb;\n",
       "            color:  #f1f1f1;\n",
       "        }    #T_360f0682_4647_11eb_8fd7_87112509181brow4_col4 {\n",
       "            background-color:  #b40426;\n",
       "            color:  #f1f1f1;\n",
       "        }    #T_360f0682_4647_11eb_8fd7_87112509181brow4_col5 {\n",
       "            background-color:  #f5a081;\n",
       "            color:  #000000;\n",
       "        }    #T_360f0682_4647_11eb_8fd7_87112509181brow4_col6 {\n",
       "            background-color:  #c3d5f4;\n",
       "            color:  #000000;\n",
       "        }    #T_360f0682_4647_11eb_8fd7_87112509181brow4_col7 {\n",
       "            background-color:  #e9785d;\n",
       "            color:  #000000;\n",
       "        }    #T_360f0682_4647_11eb_8fd7_87112509181brow4_col8 {\n",
       "            background-color:  #84a7fc;\n",
       "            color:  #000000;\n",
       "        }    #T_360f0682_4647_11eb_8fd7_87112509181brow4_col9 {\n",
       "            background-color:  #4b64d5;\n",
       "            color:  #f1f1f1;\n",
       "        }    #T_360f0682_4647_11eb_8fd7_87112509181brow5_col0 {\n",
       "            background-color:  #b3cdfb;\n",
       "            color:  #000000;\n",
       "        }    #T_360f0682_4647_11eb_8fd7_87112509181brow5_col1 {\n",
       "            background-color:  #5572df;\n",
       "            color:  #000000;\n",
       "        }    #T_360f0682_4647_11eb_8fd7_87112509181brow5_col2 {\n",
       "            background-color:  #5572df;\n",
       "            color:  #000000;\n",
       "        }    #T_360f0682_4647_11eb_8fd7_87112509181brow5_col3 {\n",
       "            background-color:  #4358cb;\n",
       "            color:  #f1f1f1;\n",
       "        }    #T_360f0682_4647_11eb_8fd7_87112509181brow5_col4 {\n",
       "            background-color:  #f7b99e;\n",
       "            color:  #000000;\n",
       "        }    #T_360f0682_4647_11eb_8fd7_87112509181brow5_col5 {\n",
       "            background-color:  #b40426;\n",
       "            color:  #f1f1f1;\n",
       "        }    #T_360f0682_4647_11eb_8fd7_87112509181brow5_col6 {\n",
       "            background-color:  #3b4cc0;\n",
       "            color:  #f1f1f1;\n",
       "        }    #T_360f0682_4647_11eb_8fd7_87112509181brow5_col7 {\n",
       "            background-color:  #d24b40;\n",
       "            color:  #f1f1f1;\n",
       "        }    #T_360f0682_4647_11eb_8fd7_87112509181brow5_col8 {\n",
       "            background-color:  #86a9fc;\n",
       "            color:  #000000;\n",
       "        }    #T_360f0682_4647_11eb_8fd7_87112509181brow5_col9 {\n",
       "            background-color:  #6384eb;\n",
       "            color:  #000000;\n",
       "        }    #T_360f0682_4647_11eb_8fd7_87112509181brow6_col0 {\n",
       "            background-color:  #96b7ff;\n",
       "            color:  #000000;\n",
       "        }    #T_360f0682_4647_11eb_8fd7_87112509181brow6_col1 {\n",
       "            background-color:  #3d50c3;\n",
       "            color:  #f1f1f1;\n",
       "        }    #T_360f0682_4647_11eb_8fd7_87112509181brow6_col2 {\n",
       "            background-color:  #3f53c6;\n",
       "            color:  #f1f1f1;\n",
       "        }    #T_360f0682_4647_11eb_8fd7_87112509181brow6_col3 {\n",
       "            background-color:  #4961d2;\n",
       "            color:  #f1f1f1;\n",
       "        }    #T_360f0682_4647_11eb_8fd7_87112509181brow6_col4 {\n",
       "            background-color:  #8db0fe;\n",
       "            color:  #000000;\n",
       "        }    #T_360f0682_4647_11eb_8fd7_87112509181brow6_col5 {\n",
       "            background-color:  #3b4cc0;\n",
       "            color:  #f1f1f1;\n",
       "        }    #T_360f0682_4647_11eb_8fd7_87112509181brow6_col6 {\n",
       "            background-color:  #b40426;\n",
       "            color:  #f1f1f1;\n",
       "        }    #T_360f0682_4647_11eb_8fd7_87112509181brow6_col7 {\n",
       "            background-color:  #3b4cc0;\n",
       "            color:  #f1f1f1;\n",
       "        }    #T_360f0682_4647_11eb_8fd7_87112509181brow6_col8 {\n",
       "            background-color:  #96b7ff;\n",
       "            color:  #000000;\n",
       "        }    #T_360f0682_4647_11eb_8fd7_87112509181brow6_col9 {\n",
       "            background-color:  #3b4cc0;\n",
       "            color:  #f1f1f1;\n",
       "        }    #T_360f0682_4647_11eb_8fd7_87112509181brow7_col0 {\n",
       "            background-color:  #bbd1f8;\n",
       "            color:  #000000;\n",
       "        }    #T_360f0682_4647_11eb_8fd7_87112509181brow7_col1 {\n",
       "            background-color:  #5572df;\n",
       "            color:  #000000;\n",
       "        }    #T_360f0682_4647_11eb_8fd7_87112509181brow7_col2 {\n",
       "            background-color:  #5875e1;\n",
       "            color:  #000000;\n",
       "        }    #T_360f0682_4647_11eb_8fd7_87112509181brow7_col3 {\n",
       "            background-color:  #3f53c6;\n",
       "            color:  #f1f1f1;\n",
       "        }    #T_360f0682_4647_11eb_8fd7_87112509181brow7_col4 {\n",
       "            background-color:  #eb7d62;\n",
       "            color:  #000000;\n",
       "        }    #T_360f0682_4647_11eb_8fd7_87112509181brow7_col5 {\n",
       "            background-color:  #cd423b;\n",
       "            color:  #f1f1f1;\n",
       "        }    #T_360f0682_4647_11eb_8fd7_87112509181brow7_col6 {\n",
       "            background-color:  #688aef;\n",
       "            color:  #000000;\n",
       "        }    #T_360f0682_4647_11eb_8fd7_87112509181brow7_col7 {\n",
       "            background-color:  #b40426;\n",
       "            color:  #f1f1f1;\n",
       "        }    #T_360f0682_4647_11eb_8fd7_87112509181brow7_col8 {\n",
       "            background-color:  #81a4fb;\n",
       "            color:  #000000;\n",
       "        }    #T_360f0682_4647_11eb_8fd7_87112509181brow7_col9 {\n",
       "            background-color:  #6687ed;\n",
       "            color:  #000000;\n",
       "        }    #T_360f0682_4647_11eb_8fd7_87112509181brow8_col0 {\n",
       "            background-color:  #3b4cc0;\n",
       "            color:  #f1f1f1;\n",
       "        }    #T_360f0682_4647_11eb_8fd7_87112509181brow8_col1 {\n",
       "            background-color:  #3b4cc0;\n",
       "            color:  #f1f1f1;\n",
       "        }    #T_360f0682_4647_11eb_8fd7_87112509181brow8_col2 {\n",
       "            background-color:  #3b4cc0;\n",
       "            color:  #f1f1f1;\n",
       "        }    #T_360f0682_4647_11eb_8fd7_87112509181brow8_col3 {\n",
       "            background-color:  #3b4cc0;\n",
       "            color:  #f1f1f1;\n",
       "        }    #T_360f0682_4647_11eb_8fd7_87112509181brow8_col4 {\n",
       "            background-color:  #3b4cc0;\n",
       "            color:  #f1f1f1;\n",
       "        }    #T_360f0682_4647_11eb_8fd7_87112509181brow8_col5 {\n",
       "            background-color:  #80a3fa;\n",
       "            color:  #000000;\n",
       "        }    #T_360f0682_4647_11eb_8fd7_87112509181brow8_col6 {\n",
       "            background-color:  #90b2fe;\n",
       "            color:  #000000;\n",
       "        }    #T_360f0682_4647_11eb_8fd7_87112509181brow8_col7 {\n",
       "            background-color:  #4c66d6;\n",
       "            color:  #000000;\n",
       "        }    #T_360f0682_4647_11eb_8fd7_87112509181brow8_col8 {\n",
       "            background-color:  #b40426;\n",
       "            color:  #f1f1f1;\n",
       "        }    #T_360f0682_4647_11eb_8fd7_87112509181brow8_col9 {\n",
       "            background-color:  #4e68d8;\n",
       "            color:  #000000;\n",
       "        }    #T_360f0682_4647_11eb_8fd7_87112509181brow9_col0 {\n",
       "            background-color:  #96b7ff;\n",
       "            color:  #000000;\n",
       "        }    #T_360f0682_4647_11eb_8fd7_87112509181brow9_col1 {\n",
       "            background-color:  #4358cb;\n",
       "            color:  #f1f1f1;\n",
       "        }    #T_360f0682_4647_11eb_8fd7_87112509181brow9_col2 {\n",
       "            background-color:  #4358cb;\n",
       "            color:  #f1f1f1;\n",
       "        }    #T_360f0682_4647_11eb_8fd7_87112509181brow9_col3 {\n",
       "            background-color:  #455cce;\n",
       "            color:  #f1f1f1;\n",
       "        }    #T_360f0682_4647_11eb_8fd7_87112509181brow9_col4 {\n",
       "            background-color:  #485fd1;\n",
       "            color:  #f1f1f1;\n",
       "        }    #T_360f0682_4647_11eb_8fd7_87112509181brow9_col5 {\n",
       "            background-color:  #9fbfff;\n",
       "            color:  #000000;\n",
       "        }    #T_360f0682_4647_11eb_8fd7_87112509181brow9_col6 {\n",
       "            background-color:  #7b9ff9;\n",
       "            color:  #000000;\n",
       "        }    #T_360f0682_4647_11eb_8fd7_87112509181brow9_col7 {\n",
       "            background-color:  #779af7;\n",
       "            color:  #000000;\n",
       "        }    #T_360f0682_4647_11eb_8fd7_87112509181brow9_col8 {\n",
       "            background-color:  #93b5fe;\n",
       "            color:  #000000;\n",
       "        }    #T_360f0682_4647_11eb_8fd7_87112509181brow9_col9 {\n",
       "            background-color:  #b40426;\n",
       "            color:  #f1f1f1;\n",
       "        }</style><table id=\"T_360f0682_4647_11eb_8fd7_87112509181b\" ><thead>    <tr>        <th class=\"blank level0\" ></th>        <th class=\"col_heading level0 col0\" >edited</th>        <th class=\"col_heading level0 col1\" >score</th>        <th class=\"col_heading level0 col2\" >num_comments</th>        <th class=\"col_heading level0 col3\" >is_asshole</th>        <th class=\"col_heading level0 col4\" >countI</th>        <th class=\"col_heading level0 col5\" >countHeSheThey</th>        <th class=\"col_heading level0 col6\" >IvsHeSheThey</th>        <th class=\"col_heading level0 col7\" >post_word_count</th>        <th class=\"col_heading level0 col8\" >questionmarklast</th>        <th class=\"col_heading level0 col9\" >bodyreadinglevel</th>    </tr></thead><tbody>\n",
       "                <tr>\n",
       "                        <th id=\"T_360f0682_4647_11eb_8fd7_87112509181blevel0_row0\" class=\"row_heading level0 row0\" >edited</th>\n",
       "                        <td id=\"T_360f0682_4647_11eb_8fd7_87112509181brow0_col0\" class=\"data row0 col0\" >1.000000</td>\n",
       "                        <td id=\"T_360f0682_4647_11eb_8fd7_87112509181brow0_col1\" class=\"data row0 col1\" >0.070000</td>\n",
       "                        <td id=\"T_360f0682_4647_11eb_8fd7_87112509181brow0_col2\" class=\"data row0 col2\" >0.100000</td>\n",
       "                        <td id=\"T_360f0682_4647_11eb_8fd7_87112509181brow0_col3\" class=\"data row0 col3\" >0.090000</td>\n",
       "                        <td id=\"T_360f0682_4647_11eb_8fd7_87112509181brow0_col4\" class=\"data row0 col4\" >0.140000</td>\n",
       "                        <td id=\"T_360f0682_4647_11eb_8fd7_87112509181brow0_col5\" class=\"data row0 col5\" >0.120000</td>\n",
       "                        <td id=\"T_360f0682_4647_11eb_8fd7_87112509181brow0_col6\" class=\"data row0 col6\" >-0.000000</td>\n",
       "                        <td id=\"T_360f0682_4647_11eb_8fd7_87112509181brow0_col7\" class=\"data row0 col7\" >0.150000</td>\n",
       "                        <td id=\"T_360f0682_4647_11eb_8fd7_87112509181brow0_col8\" class=\"data row0 col8\" >-0.380000</td>\n",
       "                        <td id=\"T_360f0682_4647_11eb_8fd7_87112509181brow0_col9\" class=\"data row0 col9\" >0.000000</td>\n",
       "            </tr>\n",
       "            <tr>\n",
       "                        <th id=\"T_360f0682_4647_11eb_8fd7_87112509181blevel0_row1\" class=\"row_heading level0 row1\" >score</th>\n",
       "                        <td id=\"T_360f0682_4647_11eb_8fd7_87112509181brow1_col0\" class=\"data row1 col0\" >0.070000</td>\n",
       "                        <td id=\"T_360f0682_4647_11eb_8fd7_87112509181brow1_col1\" class=\"data row1 col1\" >1.000000</td>\n",
       "                        <td id=\"T_360f0682_4647_11eb_8fd7_87112509181brow1_col2\" class=\"data row1 col2\" >0.840000</td>\n",
       "                        <td id=\"T_360f0682_4647_11eb_8fd7_87112509181brow1_col3\" class=\"data row1 col3\" >-0.010000</td>\n",
       "                        <td id=\"T_360f0682_4647_11eb_8fd7_87112509181brow1_col4\" class=\"data row1 col4\" >0.050000</td>\n",
       "                        <td id=\"T_360f0682_4647_11eb_8fd7_87112509181brow1_col5\" class=\"data row1 col5\" >0.060000</td>\n",
       "                        <td id=\"T_360f0682_4647_11eb_8fd7_87112509181brow1_col6\" class=\"data row1 col6\" >-0.020000</td>\n",
       "                        <td id=\"T_360f0682_4647_11eb_8fd7_87112509181brow1_col7\" class=\"data row1 col7\" >0.060000</td>\n",
       "                        <td id=\"T_360f0682_4647_11eb_8fd7_87112509181brow1_col8\" class=\"data row1 col8\" >-0.030000</td>\n",
       "                        <td id=\"T_360f0682_4647_11eb_8fd7_87112509181brow1_col9\" class=\"data row1 col9\" >-0.000000</td>\n",
       "            </tr>\n",
       "            <tr>\n",
       "                        <th id=\"T_360f0682_4647_11eb_8fd7_87112509181blevel0_row2\" class=\"row_heading level0 row2\" >num_comments</th>\n",
       "                        <td id=\"T_360f0682_4647_11eb_8fd7_87112509181brow2_col0\" class=\"data row2 col0\" >0.100000</td>\n",
       "                        <td id=\"T_360f0682_4647_11eb_8fd7_87112509181brow2_col1\" class=\"data row2 col1\" >0.840000</td>\n",
       "                        <td id=\"T_360f0682_4647_11eb_8fd7_87112509181brow2_col2\" class=\"data row2 col2\" >1.000000</td>\n",
       "                        <td id=\"T_360f0682_4647_11eb_8fd7_87112509181brow2_col3\" class=\"data row2 col3\" >0.040000</td>\n",
       "                        <td id=\"T_360f0682_4647_11eb_8fd7_87112509181brow2_col4\" class=\"data row2 col4\" >0.060000</td>\n",
       "                        <td id=\"T_360f0682_4647_11eb_8fd7_87112509181brow2_col5\" class=\"data row2 col5\" >0.060000</td>\n",
       "                        <td id=\"T_360f0682_4647_11eb_8fd7_87112509181brow2_col6\" class=\"data row2 col6\" >-0.010000</td>\n",
       "                        <td id=\"T_360f0682_4647_11eb_8fd7_87112509181brow2_col7\" class=\"data row2 col7\" >0.070000</td>\n",
       "                        <td id=\"T_360f0682_4647_11eb_8fd7_87112509181brow2_col8\" class=\"data row2 col8\" >-0.030000</td>\n",
       "                        <td id=\"T_360f0682_4647_11eb_8fd7_87112509181brow2_col9\" class=\"data row2 col9\" >-0.000000</td>\n",
       "            </tr>\n",
       "            <tr>\n",
       "                        <th id=\"T_360f0682_4647_11eb_8fd7_87112509181blevel0_row3\" class=\"row_heading level0 row3\" >is_asshole</th>\n",
       "                        <td id=\"T_360f0682_4647_11eb_8fd7_87112509181brow3_col0\" class=\"data row3 col0\" >0.090000</td>\n",
       "                        <td id=\"T_360f0682_4647_11eb_8fd7_87112509181brow3_col1\" class=\"data row3 col1\" >-0.010000</td>\n",
       "                        <td id=\"T_360f0682_4647_11eb_8fd7_87112509181brow3_col2\" class=\"data row3 col2\" >0.040000</td>\n",
       "                        <td id=\"T_360f0682_4647_11eb_8fd7_87112509181brow3_col3\" class=\"data row3 col3\" >1.000000</td>\n",
       "                        <td id=\"T_360f0682_4647_11eb_8fd7_87112509181brow3_col4\" class=\"data row3 col4\" >-0.020000</td>\n",
       "                        <td id=\"T_360f0682_4647_11eb_8fd7_87112509181brow3_col5\" class=\"data row3 col5\" >-0.020000</td>\n",
       "                        <td id=\"T_360f0682_4647_11eb_8fd7_87112509181brow3_col6\" class=\"data row3 col6\" >-0.000000</td>\n",
       "                        <td id=\"T_360f0682_4647_11eb_8fd7_87112509181brow3_col7\" class=\"data row3 col7\" >-0.030000</td>\n",
       "                        <td id=\"T_360f0682_4647_11eb_8fd7_87112509181brow3_col8\" class=\"data row3 col8\" >-0.050000</td>\n",
       "                        <td id=\"T_360f0682_4647_11eb_8fd7_87112509181brow3_col9\" class=\"data row3 col9\" >-0.010000</td>\n",
       "            </tr>\n",
       "            <tr>\n",
       "                        <th id=\"T_360f0682_4647_11eb_8fd7_87112509181blevel0_row4\" class=\"row_heading level0 row4\" >countI</th>\n",
       "                        <td id=\"T_360f0682_4647_11eb_8fd7_87112509181brow4_col0\" class=\"data row4 col0\" >0.140000</td>\n",
       "                        <td id=\"T_360f0682_4647_11eb_8fd7_87112509181brow4_col1\" class=\"data row4 col1\" >0.050000</td>\n",
       "                        <td id=\"T_360f0682_4647_11eb_8fd7_87112509181brow4_col2\" class=\"data row4 col2\" >0.060000</td>\n",
       "                        <td id=\"T_360f0682_4647_11eb_8fd7_87112509181brow4_col3\" class=\"data row4 col3\" >-0.020000</td>\n",
       "                        <td id=\"T_360f0682_4647_11eb_8fd7_87112509181brow4_col4\" class=\"data row4 col4\" >1.000000</td>\n",
       "                        <td id=\"T_360f0682_4647_11eb_8fd7_87112509181brow4_col5\" class=\"data row4 col5\" >0.640000</td>\n",
       "                        <td id=\"T_360f0682_4647_11eb_8fd7_87112509181brow4_col6\" class=\"data row4 col6\" >0.200000</td>\n",
       "                        <td id=\"T_360f0682_4647_11eb_8fd7_87112509181brow4_col7\" class=\"data row4 col7\" >0.800000</td>\n",
       "                        <td id=\"T_360f0682_4647_11eb_8fd7_87112509181brow4_col8\" class=\"data row4 col8\" >-0.070000</td>\n",
       "                        <td id=\"T_360f0682_4647_11eb_8fd7_87112509181brow4_col9\" class=\"data row4 col9\" >-0.020000</td>\n",
       "            </tr>\n",
       "            <tr>\n",
       "                        <th id=\"T_360f0682_4647_11eb_8fd7_87112509181blevel0_row5\" class=\"row_heading level0 row5\" >countHeSheThey</th>\n",
       "                        <td id=\"T_360f0682_4647_11eb_8fd7_87112509181brow5_col0\" class=\"data row5 col0\" >0.120000</td>\n",
       "                        <td id=\"T_360f0682_4647_11eb_8fd7_87112509181brow5_col1\" class=\"data row5 col1\" >0.060000</td>\n",
       "                        <td id=\"T_360f0682_4647_11eb_8fd7_87112509181brow5_col2\" class=\"data row5 col2\" >0.060000</td>\n",
       "                        <td id=\"T_360f0682_4647_11eb_8fd7_87112509181brow5_col3\" class=\"data row5 col3\" >-0.020000</td>\n",
       "                        <td id=\"T_360f0682_4647_11eb_8fd7_87112509181brow5_col4\" class=\"data row5 col4\" >0.640000</td>\n",
       "                        <td id=\"T_360f0682_4647_11eb_8fd7_87112509181brow5_col5\" class=\"data row5 col5\" >1.000000</td>\n",
       "                        <td id=\"T_360f0682_4647_11eb_8fd7_87112509181brow5_col6\" class=\"data row5 col6\" >-0.350000</td>\n",
       "                        <td id=\"T_360f0682_4647_11eb_8fd7_87112509181brow5_col7\" class=\"data row5 col7\" >0.900000</td>\n",
       "                        <td id=\"T_360f0682_4647_11eb_8fd7_87112509181brow5_col8\" class=\"data row5 col8\" >-0.060000</td>\n",
       "                        <td id=\"T_360f0682_4647_11eb_8fd7_87112509181brow5_col9\" class=\"data row5 col9\" >0.060000</td>\n",
       "            </tr>\n",
       "            <tr>\n",
       "                        <th id=\"T_360f0682_4647_11eb_8fd7_87112509181blevel0_row6\" class=\"row_heading level0 row6\" >IvsHeSheThey</th>\n",
       "                        <td id=\"T_360f0682_4647_11eb_8fd7_87112509181brow6_col0\" class=\"data row6 col0\" >-0.000000</td>\n",
       "                        <td id=\"T_360f0682_4647_11eb_8fd7_87112509181brow6_col1\" class=\"data row6 col1\" >-0.020000</td>\n",
       "                        <td id=\"T_360f0682_4647_11eb_8fd7_87112509181brow6_col2\" class=\"data row6 col2\" >-0.010000</td>\n",
       "                        <td id=\"T_360f0682_4647_11eb_8fd7_87112509181brow6_col3\" class=\"data row6 col3\" >-0.000000</td>\n",
       "                        <td id=\"T_360f0682_4647_11eb_8fd7_87112509181brow6_col4\" class=\"data row6 col4\" >0.200000</td>\n",
       "                        <td id=\"T_360f0682_4647_11eb_8fd7_87112509181brow6_col5\" class=\"data row6 col5\" >-0.350000</td>\n",
       "                        <td id=\"T_360f0682_4647_11eb_8fd7_87112509181brow6_col6\" class=\"data row6 col6\" >1.000000</td>\n",
       "                        <td id=\"T_360f0682_4647_11eb_8fd7_87112509181brow6_col7\" class=\"data row6 col7\" >-0.150000</td>\n",
       "                        <td id=\"T_360f0682_4647_11eb_8fd7_87112509181brow6_col8\" class=\"data row6 col8\" >-0.000000</td>\n",
       "                        <td id=\"T_360f0682_4647_11eb_8fd7_87112509181brow6_col9\" class=\"data row6 col9\" >-0.080000</td>\n",
       "            </tr>\n",
       "            <tr>\n",
       "                        <th id=\"T_360f0682_4647_11eb_8fd7_87112509181blevel0_row7\" class=\"row_heading level0 row7\" >post_word_count</th>\n",
       "                        <td id=\"T_360f0682_4647_11eb_8fd7_87112509181brow7_col0\" class=\"data row7 col0\" >0.150000</td>\n",
       "                        <td id=\"T_360f0682_4647_11eb_8fd7_87112509181brow7_col1\" class=\"data row7 col1\" >0.060000</td>\n",
       "                        <td id=\"T_360f0682_4647_11eb_8fd7_87112509181brow7_col2\" class=\"data row7 col2\" >0.070000</td>\n",
       "                        <td id=\"T_360f0682_4647_11eb_8fd7_87112509181brow7_col3\" class=\"data row7 col3\" >-0.030000</td>\n",
       "                        <td id=\"T_360f0682_4647_11eb_8fd7_87112509181brow7_col4\" class=\"data row7 col4\" >0.800000</td>\n",
       "                        <td id=\"T_360f0682_4647_11eb_8fd7_87112509181brow7_col5\" class=\"data row7 col5\" >0.900000</td>\n",
       "                        <td id=\"T_360f0682_4647_11eb_8fd7_87112509181brow7_col6\" class=\"data row7 col6\" >-0.150000</td>\n",
       "                        <td id=\"T_360f0682_4647_11eb_8fd7_87112509181brow7_col7\" class=\"data row7 col7\" >1.000000</td>\n",
       "                        <td id=\"T_360f0682_4647_11eb_8fd7_87112509181brow7_col8\" class=\"data row7 col8\" >-0.080000</td>\n",
       "                        <td id=\"T_360f0682_4647_11eb_8fd7_87112509181brow7_col9\" class=\"data row7 col9\" >0.070000</td>\n",
       "            </tr>\n",
       "            <tr>\n",
       "                        <th id=\"T_360f0682_4647_11eb_8fd7_87112509181blevel0_row8\" class=\"row_heading level0 row8\" >questionmarklast</th>\n",
       "                        <td id=\"T_360f0682_4647_11eb_8fd7_87112509181brow8_col0\" class=\"data row8 col0\" >-0.380000</td>\n",
       "                        <td id=\"T_360f0682_4647_11eb_8fd7_87112509181brow8_col1\" class=\"data row8 col1\" >-0.030000</td>\n",
       "                        <td id=\"T_360f0682_4647_11eb_8fd7_87112509181brow8_col2\" class=\"data row8 col2\" >-0.030000</td>\n",
       "                        <td id=\"T_360f0682_4647_11eb_8fd7_87112509181brow8_col3\" class=\"data row8 col3\" >-0.050000</td>\n",
       "                        <td id=\"T_360f0682_4647_11eb_8fd7_87112509181brow8_col4\" class=\"data row8 col4\" >-0.070000</td>\n",
       "                        <td id=\"T_360f0682_4647_11eb_8fd7_87112509181brow8_col5\" class=\"data row8 col5\" >-0.060000</td>\n",
       "                        <td id=\"T_360f0682_4647_11eb_8fd7_87112509181brow8_col6\" class=\"data row8 col6\" >-0.000000</td>\n",
       "                        <td id=\"T_360f0682_4647_11eb_8fd7_87112509181brow8_col7\" class=\"data row8 col7\" >-0.080000</td>\n",
       "                        <td id=\"T_360f0682_4647_11eb_8fd7_87112509181brow8_col8\" class=\"data row8 col8\" >1.000000</td>\n",
       "                        <td id=\"T_360f0682_4647_11eb_8fd7_87112509181brow8_col9\" class=\"data row8 col9\" >-0.010000</td>\n",
       "            </tr>\n",
       "            <tr>\n",
       "                        <th id=\"T_360f0682_4647_11eb_8fd7_87112509181blevel0_row9\" class=\"row_heading level0 row9\" >bodyreadinglevel</th>\n",
       "                        <td id=\"T_360f0682_4647_11eb_8fd7_87112509181brow9_col0\" class=\"data row9 col0\" >0.000000</td>\n",
       "                        <td id=\"T_360f0682_4647_11eb_8fd7_87112509181brow9_col1\" class=\"data row9 col1\" >-0.000000</td>\n",
       "                        <td id=\"T_360f0682_4647_11eb_8fd7_87112509181brow9_col2\" class=\"data row9 col2\" >-0.000000</td>\n",
       "                        <td id=\"T_360f0682_4647_11eb_8fd7_87112509181brow9_col3\" class=\"data row9 col3\" >-0.010000</td>\n",
       "                        <td id=\"T_360f0682_4647_11eb_8fd7_87112509181brow9_col4\" class=\"data row9 col4\" >-0.020000</td>\n",
       "                        <td id=\"T_360f0682_4647_11eb_8fd7_87112509181brow9_col5\" class=\"data row9 col5\" >0.060000</td>\n",
       "                        <td id=\"T_360f0682_4647_11eb_8fd7_87112509181brow9_col6\" class=\"data row9 col6\" >-0.080000</td>\n",
       "                        <td id=\"T_360f0682_4647_11eb_8fd7_87112509181brow9_col7\" class=\"data row9 col7\" >0.070000</td>\n",
       "                        <td id=\"T_360f0682_4647_11eb_8fd7_87112509181brow9_col8\" class=\"data row9 col8\" >-0.010000</td>\n",
       "                        <td id=\"T_360f0682_4647_11eb_8fd7_87112509181brow9_col9\" class=\"data row9 col9\" >1.000000</td>\n",
       "            </tr>\n",
       "    </tbody></table>"
      ],
      "text/plain": [
       "<pandas.io.formats.style.Styler at 0x1bb17748688>"
      ]
     },
     "execution_count": 31,
     "metadata": {},
     "output_type": "execute_result"
    }
   ],
   "source": [
    "#Calculate the correlation coefficients\n",
    "corr = df.corr(method='pearson', min_periods=1) \n",
    "#plot it in the next line\n",
    "corr.round(2).style.background_gradient(cmap='coolwarm')"
   ]
  },
  {
   "cell_type": "markdown",
   "metadata": {},
   "source": [
    "Next, we'll systematically go through some hypotheses, looking at the data in the following ways:\n",
    "\n",
    "- Boxplot and/or Barplot, where applicable\n",
    "- Get the mean of any feature relative to its likelihood of hypothesizing is_asshole\n",
    "- Break down any distributions into the upper and lower quintiles\n",
    "- Run a t-test on the upper and lower quintiles"
   ]
  },
  {
   "cell_type": "markdown",
   "metadata": {},
   "source": [
    "## Hypothesis One\n",
    "\n",
    "  1) How many times we see \"I\" in a post as correlated with the judgment of YTA/NTA.\n",
    "  1a) Contrast that with number of times we see \"they, she, he\" in the same posts.  \n",
    "  \n",
    "  - The null is: The number of I's doesn't reflect whether someone is an asshole or not.\n",
    "\n",
    "- If we reject the Null, I'm curious to see if either of the following could be inferred: \n",
    " \n",
    "   1) The greater the number of I's relative to other pronouns, the more likely a person will be considered an \n",
    "   Asshole. \n",
    "        - That frequency of self-reference correlates with self-centeredness, which means increased assholery.\n",
    "   2) The fewer the number of I's relative to other pronouns, the less likely a person will be considered an \n",
    "   Asshole.\n",
    "        - That rarity of self-references correlates with consideration of others, which means decreased assholery."
   ]
  },
  {
   "cell_type": "markdown",
   "metadata": {},
   "source": [
    "First up, CountI:"
   ]
  },
  {
   "cell_type": "code",
   "execution_count": 32,
   "metadata": {
    "scrolled": true
   },
   "outputs": [
    {
     "data": {
      "text/plain": [
       "Text(0.5, 1.0, 'CountI')"
      ]
     },
     "execution_count": 32,
     "metadata": {},
     "output_type": "execute_result"
    },
    {
     "data": {
      "image/png": "[encoded data removed]",
      "text/plain": [
       "<Figure size 432x288 with 1 Axes>"
      ]
     },
     "metadata": {
      "needs_background": "light"
     },
     "output_type": "display_data"
    }
   ],
   "source": [
    "#No significant difference observed in count of I's vs assholery, as also suggested by our Cramers V review.\n",
    "\n",
    "ax2 = sns.boxplot(x=\"is_asshole\", y=\"countI\", data=df)\n",
    "plt.ylim(0,60)\n",
    "plt.xlabel('Number of I/s')\n",
    "plt.ylabel('Number of posts with given I Count')\n",
    "plt.title('CountI')"
   ]
  },
  {
   "cell_type": "code",
   "execution_count": 33,
   "metadata": {},
   "outputs": [],
   "source": [
    "CI_quantilelow = df['countI'].quantile(q=0.2)\n",
    "CI_quantilehigh = df['countI'].quantile(q=0.8)\n",
    "\n",
    "df['countI_highQ'] = df['countI'].apply(lambda x: x > CI_quantilehigh)\n",
    "df['countI_lowQ'] = df['countI'].apply(lambda x: x > CI_quantilelow)"
   ]
  },
  {
   "cell_type": "code",
   "execution_count": 34,
   "metadata": {},
   "outputs": [],
   "source": [
    "#First variable is -yes- asshole, second variable is -no- asshole\n",
    "\n",
    "CIHi_mean1, CIHi_mean2 = df.groupby('countI_highQ')['is_asshole'].mean()\n",
    "CILo_mean1, CILo_mean2 = df.groupby('countI_lowQ')['is_asshole'].mean()"
   ]
  },
  {
   "cell_type": "code",
   "execution_count": 35,
   "metadata": {
    "scrolled": true
   },
   "outputs": [
    {
     "name": "stdout",
     "output_type": "stream",
     "text": [
      "0.27507265589150054 0.2562208601812562\n",
      "0.2905900837988827 0.26548660708303745\n"
     ]
    }
   ],
   "source": [
    "print(CIHi_mean1, CIHi_mean2)\n",
    "print(CILo_mean1, CILo_mean2)\n",
    "\n",
    "#Assholery remains roughly the same globally (though the fact that the low quintile has the HIGHEST affirmed\n",
    "#rate of being an asshole is interesting.\n",
    "#Let's see how things look for the T-Test."
   ]
  },
  {
   "cell_type": "code",
   "execution_count": 36,
   "metadata": {},
   "outputs": [],
   "source": [
    "from scipy.stats import ttest_ind\n",
    "\n",
    "CI_HQ_isasshole = df.loc[df.is_asshole == 1, 'countI_highQ']\n",
    "CI_HQ_notasshole = df.loc[df.is_asshole == 0, 'countI_highQ']\n",
    "\n",
    "CI_LQ_isasshole = df.loc[df.is_asshole == 1, 'countI_lowQ']\n",
    "CI_LQ_notasshole = df.loc[df.is_asshole == 0, 'countI_lowQ']\n"
   ]
  },
  {
   "cell_type": "code",
   "execution_count": 37,
   "metadata": {},
   "outputs": [
    {
     "name": "stdout",
     "output_type": "stream",
     "text": [
      "Ttest_indResult(statistic=-5.253740060194786, pvalue=1.4935328659451507e-07)\n",
      "Ttest_indResult(statistic=-7.476604606741018, pvalue=7.690233784609942e-14)\n"
     ]
    }
   ],
   "source": [
    "print(ttest_ind(CI_HQ_isasshole, CI_HQ_notasshole))\n",
    "\n",
    "print(ttest_ind(CI_LQ_isasshole, CI_LQ_notasshole))\n",
    "\n",
    "#very significant findings -"
   ]
  },
  {
   "cell_type": "markdown",
   "metadata": {},
   "source": [
    "Next up is CountHeSheThey:"
   ]
  },
  {
   "cell_type": "code",
   "execution_count": 38,
   "metadata": {
    "scrolled": true
   },
   "outputs": [
    {
     "data": {
      "text/plain": [
       "Text(0.5, 1.0, 'CountHeSheThey')"
      ]
     },
     "execution_count": 38,
     "metadata": {},
     "output_type": "execute_result"
    },
    {
     "data": {
      "image/png": "[encoded data removed]",
      "text/plain": [
       "<Figure size 432x288 with 1 Axes>"
      ]
     },
     "metadata": {
      "needs_background": "light"
     },
     "output_type": "display_data"
    }
   ],
   "source": [
    "#No significant difference observed in count of HeSheThey vs assholery, as also suggested by our Cramers V review.\n",
    "\n",
    "ax2 = sns.boxplot(x=\"is_asshole\", y=\"countHeSheThey\", data=df)\n",
    "plt.ylim(0,120)\n",
    "plt.xlabel('Number of Hes/Shes/Theys')\n",
    "plt.ylabel('Number of posts with given HST count')\n",
    "plt.title('CountHeSheThey')"
   ]
  },
  {
   "cell_type": "code",
   "execution_count": 39,
   "metadata": {},
   "outputs": [],
   "source": [
    "HST_quantilelow = df['countHeSheThey'].quantile(q=0.2)\n",
    "HST_quantilehigh = df['countHeSheThey'].quantile(q=0.8)\n",
    "\n",
    "df['countHeSheThey_highQ'] = df['countHeSheThey'].apply(lambda x: x > HST_quantilehigh)\n",
    "df['countHeSheThey_lowQ'] = df['countHeSheThey'].apply(lambda x: x > HST_quantilelow)"
   ]
  },
  {
   "cell_type": "code",
   "execution_count": 40,
   "metadata": {},
   "outputs": [],
   "source": [
    "#First variable is -yes- asshole, second variable is -no- asshole\n",
    "\n",
    "HSTHi_mean1, HSTHi_mean2 = df.groupby('countHeSheThey_highQ')['is_asshole'].mean()\n",
    "HSTLo_mean1, HSTLo_mean2 = df.groupby('countHeSheThey_lowQ')['is_asshole'].mean()"
   ]
  },
  {
   "cell_type": "code",
   "execution_count": 41,
   "metadata": {},
   "outputs": [
    {
     "name": "stdout",
     "output_type": "stream",
     "text": [
      "0.2750807013102095 0.2556346381969158\n",
      "0.28419237012987014 0.2681391255187655\n"
     ]
    }
   ],
   "source": [
    "print(HSTHi_mean1, HSTHi_mean2)\n",
    "print(HSTLo_mean1, HSTLo_mean2)\n",
    "\n",
    "#Assholery remains roughly the same globally.\n",
    "#so we have to see how things look for the T-Test."
   ]
  },
  {
   "cell_type": "code",
   "execution_count": 42,
   "metadata": {},
   "outputs": [],
   "source": [
    "HST_HQ_isasshole = df.loc[df.is_asshole == 1, 'countHeSheThey_highQ']\n",
    "HST_HQ_notasshole = df.loc[df.is_asshole == 0, 'countHeSheThey_highQ']\n",
    "\n",
    "HST_LQ_isasshole = df.loc[df.is_asshole == 1, 'countHeSheThey_lowQ']\n",
    "HST_LQ_notasshole = df.loc[df.is_asshole == 0, 'countHeSheThey_lowQ']\n"
   ]
  },
  {
   "cell_type": "code",
   "execution_count": 43,
   "metadata": {},
   "outputs": [
    {
     "name": "stdout",
     "output_type": "stream",
     "text": [
      "Ttest_indResult(statistic=-5.360204920439671, pvalue=8.331574365066229e-08)\n",
      "Ttest_indResult(statistic=-4.527988872331087, pvalue=5.961805558631947e-06)\n"
     ]
    }
   ],
   "source": [
    "print(ttest_ind(HST_HQ_isasshole, HST_HQ_notasshole))\n",
    "\n",
    "print(ttest_ind(HST_LQ_isasshole, HST_LQ_notasshole))\n",
    "\n",
    "#Significant, and the numbers deviate moderately (up to 3%) from the global mean of is_asshole. Let's move on."
   ]
  },
  {
   "cell_type": "markdown",
   "metadata": {},
   "source": [
    "Finally, let's look at IvsHeSheThey, and see what difference the proportion between them makes...."
   ]
  },
  {
   "cell_type": "code",
   "execution_count": 44,
   "metadata": {},
   "outputs": [
    {
     "data": {
      "text/plain": [
       "Text(0.5, 1.0, 'IvsHeSheThey')"
      ]
     },
     "execution_count": 44,
     "metadata": {},
     "output_type": "execute_result"
    },
    {
     "data": {
      "image/png": "[encoded data removed]",
      "text/plain": [
       "<Figure size 432x288 with 1 Axes>"
      ]
     },
     "metadata": {
      "needs_background": "light"
     },
     "output_type": "display_data"
    }
   ],
   "source": [
    "plt.hist(df['IvsHeSheThey'], bins=100)\n",
    "plt.xlim(0, 20)\n",
    "plt.ylim(0, 15000)\n",
    "plt.xlabel('Proportion of I to He/She/They')\n",
    "plt.ylabel('Number of Posts With # I / HeSheThey')\n",
    "plt.title('IvsHeSheThey')\n",
    "\n",
    "#the vast, vast majority of proportions are near 0 (<1 count of I for 1 count of He/She/They)."
   ]
  },
  {
   "cell_type": "code",
   "execution_count": 45,
   "metadata": {},
   "outputs": [],
   "source": [
    "IvsH_quantilelow = df['IvsHeSheThey'].quantile(q=0.2)\n",
    "IvsH_quantilehigh = df['IvsHeSheThey'].quantile(q=0.8)\n",
    "\n",
    "df['IvsHeSheThey_highQ'] = df['IvsHeSheThey'].apply(lambda x: x > IvsH_quantilehigh)\n",
    "df['IvsHeSheThey_lowQ'] = df['IvsHeSheThey'].apply(lambda x: x > IvsH_quantilelow)"
   ]
  },
  {
   "cell_type": "code",
   "execution_count": 46,
   "metadata": {},
   "outputs": [],
   "source": [
    "#First variable is -yes- asshole, second variable is -no- asshole\n",
    "\n",
    "IvsHHi_mean1, IvsHHi_mean2 = df.groupby('IvsHeSheThey_highQ')['is_asshole'].mean()\n",
    "IvsHLo_mean1, IvsHLo_mean2 = df.groupby('IvsHeSheThey_lowQ')['is_asshole'].mean()"
   ]
  },
  {
   "cell_type": "code",
   "execution_count": 47,
   "metadata": {},
   "outputs": [
    {
     "name": "stdout",
     "output_type": "stream",
     "text": [
      "0.2727726255196674 0.2657750697098007\n",
      "0.26736852812531786 0.27239692343250427\n"
     ]
    }
   ],
   "source": [
    "print(IvsHHi_mean1, IvsHHi_mean2)\n",
    "print(IvsHLo_mean1, IvsHLo_mean2)\n",
    "\n",
    "#Assholery remains roughly the same globally.\n",
    "#so we have to see how things look for the T-Test."
   ]
  },
  {
   "cell_type": "code",
   "execution_count": 48,
   "metadata": {},
   "outputs": [],
   "source": [
    "IvsH_HQ_isasshole = df.loc[df.is_asshole == 1, 'IvsHeSheThey_highQ']\n",
    "IvsH_HQ_notasshole = df.loc[df.is_asshole == 0, 'IvsHeSheThey_highQ']\n",
    "\n",
    "IvsH_LQ_isasshole = df.loc[df.is_asshole == 1, 'IvsHeSheThey_lowQ']\n",
    "IvsH_LQ_notasshole = df.loc[df.is_asshole == 0, 'IvsHeSheThey_lowQ']\n"
   ]
  },
  {
   "cell_type": "code",
   "execution_count": 49,
   "metadata": {},
   "outputs": [
    {
     "name": "stdout",
     "output_type": "stream",
     "text": [
      "Ttest_indResult(statistic=-1.960512673026989, pvalue=0.049938740130975844)\n",
      "Ttest_indResult(statistic=1.4168332103383967, pvalue=0.1565348912979041)\n"
     ]
    }
   ],
   "source": [
    "print(ttest_ind(IvsH_HQ_isasshole, IvsH_HQ_notasshole))\n",
    "\n",
    "print(ttest_ind(IvsH_LQ_isasshole, IvsH_LQ_notasshole))\n",
    "\n",
    "#Not significant, and the quintile means aren't big jumps either."
   ]
  },
  {
   "cell_type": "markdown",
   "metadata": {},
   "source": [
    "## Hypothesis Two\n",
    "\n",
    "2) Length of post relative to YTA/NTA (which might tell us how much justification a person applied to their situation, or how invested they are.\n",
    "\n",
    " - The Null is: The word count does not reflect whether someone is regarded as an asshole.\n",
    "\n",
    "Possible Hypotheses if the Null is rejected: \n",
    "\n",
    "    1) Level of thoughtfulness committed to a situation (positive); \n",
    "    2) Level of self-rationalization about a situation (negative). \n",
    "    \n",
    "We will also be looking at the reading level here, and seeing if there are any indicators of assholery.\n",
    "     "
   ]
  },
  {
   "cell_type": "code",
   "execution_count": 50,
   "metadata": {},
   "outputs": [
    {
     "data": {
      "text/plain": [
       "Text(0.5, 1.0, 'Post Word Count')"
      ]
     },
     "execution_count": 50,
     "metadata": {},
     "output_type": "execute_result"
    },
    {
     "data": {
      "image/png": "[encoded data removed]",
      "text/plain": [
       "<Figure size 432x288 with 1 Axes>"
      ]
     },
     "metadata": {
      "needs_background": "light"
     },
     "output_type": "display_data"
    }
   ],
   "source": [
    "ax4 = sns.boxplot(x=\"is_asshole\", y=\"post_word_count\", data=df)\n",
    "plt.ylim(0,1000)\n",
    "plt.xlabel('Posts designated is_asshole or not')\n",
    "plt.ylabel('Word count of posts')\n",
    "plt.title('Post Word Count')"
   ]
  },
  {
   "cell_type": "markdown",
   "metadata": {},
   "source": [
    "There is a very slight observable difference in median length and not being an asshole - but this may turn out not to be useful.\n",
    "\n",
    "Intuitively, one suspects that, if there *is* any genuine relationship here, it'd be the first resultant hypothesis - that the person is more thoughtful about their situation, having explained more and considered the nuances of it more seriously. \n",
    "\n",
    "It could also be that longer posts mean more nuance is given to the audience, who, with more information, are more likely to see the gray area (which leans them towards 'no' rather than 'yes.')"
   ]
  },
  {
   "cell_type": "code",
   "execution_count": 51,
   "metadata": {},
   "outputs": [],
   "source": [
    "PWC_quantilelow = df['post_word_count'].quantile(q=0.2)\n",
    "PWC_quantilehigh = df['post_word_count'].quantile(q=0.8)\n",
    "\n",
    "df['post_word_count_highQ'] = df['post_word_count'].apply(lambda x: x > PWC_quantilehigh)\n",
    "df['post_word_count_lowQ'] = df['post_word_count'].apply(lambda x: x > PWC_quantilelow)"
   ]
  },
  {
   "cell_type": "code",
   "execution_count": 52,
   "metadata": {},
   "outputs": [],
   "source": [
    "#First variable is -yes- asshole, second variable is -no- asshole\n",
    "\n",
    "PWCHi_mean1, PWCHi_mean2 = df.groupby('post_word_count_highQ')['is_asshole'].mean()\n",
    "PWCLo_mean1, PWCLo_mean2 = df.groupby('post_word_count_lowQ')['is_asshole'].mean()"
   ]
  },
  {
   "cell_type": "code",
   "execution_count": 53,
   "metadata": {},
   "outputs": [
    {
     "name": "stdout",
     "output_type": "stream",
     "text": [
      "0.2765728625201649 0.2505273990223823\n",
      "0.29451566951566954 0.26554535533157864\n"
     ]
    }
   ],
   "source": [
    "print(PWCHi_mean1, PWCHi_mean2)\n",
    "print(PWCLo_mean1, PWCLo_mean2)\n",
    "\n",
    "#Assholery remains roughly the same globally.\n",
    "#so we have to see how things look for the T-Test."
   ]
  },
  {
   "cell_type": "code",
   "execution_count": 54,
   "metadata": {},
   "outputs": [],
   "source": [
    "PWC_HQ_isasshole = df.loc[df.is_asshole == 1, 'post_word_count_highQ']\n",
    "PWC_HQ_notasshole = df.loc[df.is_asshole == 0, 'post_word_count_highQ']\n",
    "\n",
    "PWC_LQ_isasshole = df.loc[df.is_asshole == 1, 'post_word_count_lowQ']\n",
    "PWC_LQ_notasshole = df.loc[df.is_asshole == 0, 'post_word_count_lowQ']\n"
   ]
  },
  {
   "cell_type": "code",
   "execution_count": 55,
   "metadata": {},
   "outputs": [
    {
     "name": "stdout",
     "output_type": "stream",
     "text": [
      "Ttest_indResult(statistic=-7.30880323759411, pvalue=2.715836622994335e-13)\n",
      "Ttest_indResult(statistic=-8.164636635832393, pvalue=3.262062423913887e-16)\n"
     ]
    }
   ],
   "source": [
    "print(ttest_ind(PWC_HQ_isasshole, PWC_HQ_notasshole))\n",
    "\n",
    "print(ttest_ind(PWC_LQ_isasshole, PWC_LQ_notasshole))"
   ]
  },
  {
   "cell_type": "markdown",
   "metadata": {},
   "source": [
    "Interesting, so we see some high significance for both values, but the PWC_Lo is the more interesting one: You're a few percentage points more likely to be an asshole if your post word count is among the shortest. Less explanation means more assumptions, and depending on the situations, that might lead to some intuitive leaps that lead to asshole judgment. Might also be the case that, wanting to say less, one also means to hide or imply things they'd rather not say (things that aren't good).\n",
    "\n",
    "Let's see if an increase in the number of \"I\"'s relative to post count suggests an increased tendency towards assholery."
   ]
  },
  {
   "cell_type": "code",
   "execution_count": 56,
   "metadata": {},
   "outputs": [
    {
     "name": "stdout",
     "output_type": "stream",
     "text": [
      "The mean of 'IoverPostCount' is 0.054849911415924914 .\n",
      "The bottom quantile of 'IoverPostCount' is 0.0379746835443038 .\n",
      "The top quantile of 'IoverPostCount' is 0.07142857142857142 .\n"
     ]
    }
   ],
   "source": [
    "df['IoverPostCount'] = df.countI / df.post_word_count\n",
    "\n",
    "print(\"The mean of 'IoverPostCount' is\", df['IoverPostCount'].mean(), \".\")\n",
    "print(\"The bottom quantile of 'IoverPostCount' is\", df['IoverPostCount'].quantile(q=0.2), \".\")\n",
    "print(\"The top quantile of 'IoverPostCount' is\", df['IoverPostCount'].quantile(q=0.8), \".\")"
   ]
  },
  {
   "cell_type": "code",
   "execution_count": 57,
   "metadata": {
    "scrolled": true
   },
   "outputs": [
    {
     "data": {
      "text/plain": [
       "Text(0.5, 1.0, 'IoverPostCount')"
      ]
     },
     "execution_count": 57,
     "metadata": {},
     "output_type": "execute_result"
    },
    {
     "data": {
      "image/png": "[encoded data removed]",
      "text/plain": [
       "<Figure size 432x288 with 1 Axes>"
      ]
     },
     "metadata": {
      "needs_background": "light"
     },
     "output_type": "display_data"
    }
   ],
   "source": [
    "#Typical standard curve - cool\n",
    "\n",
    "plt.hist(df['IoverPostCount'], bins=100, range=(0,0.2));\n",
    "plt.xlabel('Proportion of I over Post Count')\n",
    "plt.ylabel('How many posts with that pasrticular proportion')\n",
    "plt.title('IoverPostCount')"
   ]
  },
  {
   "cell_type": "markdown",
   "metadata": {},
   "source": [
    "Do the bottom and top quantiles of IoverPostCount lend themselves to percentages relative to is_asshole?"
   ]
  },
  {
   "cell_type": "code",
   "execution_count": 58,
   "metadata": {},
   "outputs": [],
   "source": [
    "IoPC_quantilelow = df['IoverPostCount'].quantile(q=0.2)\n",
    "IoPC_quantilehigh = df['IoverPostCount'].quantile(q=0.8)\n",
    "\n",
    "df['IoverPostCount_highQ'] = df['IoverPostCount'].apply(lambda x: x > IoPC_quantilehigh)\n",
    "df['IoverPostCount_lowQ'] = df['IoverPostCount'].apply(lambda x: x > IoPC_quantilelow)"
   ]
  },
  {
   "cell_type": "code",
   "execution_count": 59,
   "metadata": {},
   "outputs": [],
   "source": [
    "IoPCH_mean1, IoPCH_mean2 = df.groupby('IoverPostCount_highQ')['is_asshole'].mean()\n",
    "IoPCL_mean1, IoPCL_mean2 = df.groupby('IoverPostCount_lowQ')['is_asshole'].mean()"
   ]
  },
  {
   "cell_type": "code",
   "execution_count": 60,
   "metadata": {},
   "outputs": [
    {
     "name": "stdout",
     "output_type": "stream",
     "text": [
      "0.2699887531312305 0.27703788153599007\n",
      "0.2695927972171066 0.2718320874950316\n"
     ]
    }
   ],
   "source": [
    "print(IoPCH_mean1, IoPCH_mean2)\n",
    "print(IoPCL_mean1, IoPCL_mean2)\n",
    "\n",
    "#The means for is_asshole remain basically at the global average - \n",
    "#so we have to see how things look for the T-Test."
   ]
  },
  {
   "cell_type": "code",
   "execution_count": 61,
   "metadata": {},
   "outputs": [],
   "source": [
    "IoPC_HQ_isasshole = df.loc[df.is_asshole == 1, 'IoverPostCount_highQ']\n",
    "IoPC_HQ_notasshole = df.loc[df.is_asshole == 0, 'IoverPostCount_highQ']\n",
    "\n",
    "IoPC_LQ_isasshole = df.loc[df.is_asshole == 1, 'IoverPostCount_lowQ']\n",
    "IoPC_LQ_notasshole = df.loc[df.is_asshole == 0, 'IoverPostCount_lowQ']\n"
   ]
  },
  {
   "cell_type": "code",
   "execution_count": 62,
   "metadata": {},
   "outputs": [
    {
     "name": "stdout",
     "output_type": "stream",
     "text": [
      "Ttest_indResult(statistic=1.9723106503205925, pvalue=0.04857697479407349)\n",
      "Ttest_indResult(statistic=0.6295802166774608, pvalue=0.5289707451064446)\n"
     ]
    }
   ],
   "source": [
    "print(ttest_ind(IoPC_HQ_isasshole, IoPC_HQ_notasshole))\n",
    "\n",
    "print(ttest_ind(IoPC_LQ_isasshole, IoPC_LQ_notasshole))\n",
    "\n",
    "#No signifcance indicated here, esp. as compared to our other features."
   ]
  },
  {
   "cell_type": "markdown",
   "metadata": {},
   "source": [
    "Finally, let's check out the body reading level:"
   ]
  },
  {
   "cell_type": "code",
   "execution_count": 63,
   "metadata": {},
   "outputs": [],
   "source": [
    "BRL_quantilelow = df['bodyreadinglevel'].quantile(q=0.2)\n",
    "BRL_quantilehigh = df['bodyreadinglevel'].quantile(q=0.8)\n",
    "\n",
    "df['bodyreadinglevel_highQ'] = df['bodyreadinglevel'].apply(lambda x: x > BRL_quantilehigh)\n",
    "df['bodyreadinglevel_lowQ'] = df['bodyreadinglevel'].apply(lambda x: x > BRL_quantilelow)"
   ]
  },
  {
   "cell_type": "code",
   "execution_count": 64,
   "metadata": {},
   "outputs": [],
   "source": [
    "BRL_mean1, BRL_mean2 = df.groupby('bodyreadinglevel_highQ')['is_asshole'].mean()\n",
    "BRL_mean1, BRL_mean2 = df.groupby('bodyreadinglevel_lowQ')['is_asshole'].mean()"
   ]
  },
  {
   "cell_type": "code",
   "execution_count": 65,
   "metadata": {},
   "outputs": [
    {
     "name": "stdout",
     "output_type": "stream",
     "text": [
      "0.28425848807015824 0.26797614417217686\n",
      "0.28425848807015824 0.26797614417217686\n"
     ]
    }
   ],
   "source": [
    "print(BRL_mean1, BRL_mean2)\n",
    "print(BRL_mean1, BRL_mean2)\n",
    "\n",
    "#The means for is_asshole remain basically at the global average - \n",
    "#so we have to see how things look for the T-Test."
   ]
  },
  {
   "cell_type": "code",
   "execution_count": 66,
   "metadata": {},
   "outputs": [],
   "source": [
    "BRL_HQ_isasshole = df.loc[df.is_asshole == 1, 'bodyreadinglevel_highQ']\n",
    "BRL_HQ_notasshole = df.loc[df.is_asshole == 0, 'bodyreadinglevel_highQ']\n",
    "\n",
    "BRL_LQ_isasshole = df.loc[df.is_asshole == 1, 'bodyreadinglevel_lowQ']\n",
    "BRL_LQ_notasshole = df.loc[df.is_asshole == 0, 'bodyreadinglevel_lowQ']\n"
   ]
  },
  {
   "cell_type": "code",
   "execution_count": 67,
   "metadata": {},
   "outputs": [
    {
     "name": "stdout",
     "output_type": "stream",
     "text": [
      "Ttest_indResult(statistic=-3.2742070573368545, pvalue=0.001059958270171628)\n",
      "Ttest_indResult(statistic=-4.652321594191539, pvalue=3.2864879220906713e-06)\n"
     ]
    }
   ],
   "source": [
    "print(ttest_ind(BRL_HQ_isasshole, BRL_HQ_notasshole))\n",
    "\n",
    "print(ttest_ind(BRL_LQ_isasshole, BRL_LQ_notasshole))\n",
    "                \n",
    "#once again, significant values, but the increases in is_asshole are moderate - 28% vs ~25%.\n",
    "#(you are considered more likely to be an asshole at both the high and low ends.)"
   ]
  },
  {
   "cell_type": "markdown",
   "metadata": {},
   "source": [
    "\n",
    "## Hypothesis Three\n",
    "\n",
    "3) Whether or not the post ends with a question mark (asking for feedback from the crowd, versus making a statement of some kind. Of course it's possible that they didn't put the \"?\" down and were asking the question, but we presume the number of typos are insignificant).\n",
    "\n",
    "  - The Null is: A question mark at the end of a post does not reflect whether someone is regarded as an asshole.\n",
    "\n",
    "Hypothesis if the Null is rejected: \n",
    "    1) That asking a question perhaps shows an openness to being wrong (and thus suggests they're less likely to \n",
    "be an asshole), whereas making a statement (period or no punctuation) at the end of their evaluation shows a disregard for the crowd, leading to a greater possibility that they'll be evaluated as an asshole."
   ]
  },
  {
   "cell_type": "code",
   "execution_count": 68,
   "metadata": {},
   "outputs": [
    {
     "data": {
      "text/plain": [
       "Text(0.5, 1.0, 'Questionmarklast')"
      ]
     },
     "execution_count": 68,
     "metadata": {},
     "output_type": "execute_result"
    },
    {
     "data": {
      "image/png": "[encoded data removed]",
      "text/plain": [
       "<Figure size 432x288 with 1 Axes>"
      ]
     },
     "metadata": {
      "needs_background": "light"
     },
     "output_type": "display_data"
    }
   ],
   "source": [
    "plt.hist(df['questionmarklast'], bins=3)\n",
    "plt.xlabel('Question mark at post\\'s end? Right bar = yes')\n",
    "plt.ylabel('Post Count')\n",
    "plt.title('Questionmarklast')"
   ]
  },
  {
   "cell_type": "markdown",
   "metadata": {},
   "source": [
    "So more than half of all posts don't end in a question mark, where only 25% of threads are categorized as being an asshole.\n",
    "\n",
    "Let's look at this through the lens of a barplot:"
   ]
  },
  {
   "cell_type": "code",
   "execution_count": 69,
   "metadata": {
    "scrolled": true
   },
   "outputs": [
    {
     "data": {
      "text/plain": [
       "Text(0.5, 1.0, 'Question Mark at the end of a post: showing is_asshole or not?')"
      ]
     },
     "execution_count": 69,
     "metadata": {},
     "output_type": "execute_result"
    },
    {
     "data": {
      "image/png": "[encoded data removed]",
      "text/plain": [
       "<Figure size 432x288 with 1 Axes>"
      ]
     },
     "metadata": {
      "needs_background": "light"
     },
     "output_type": "display_data"
    }
   ],
   "source": [
    "ax6=sns.barplot(x=\"questionmarklast\", y=\"is_asshole\", data=df)\n",
    "plt.title('Question Mark at the end of a post: showing is_asshole or not?')"
   ]
  },
  {
   "cell_type": "markdown",
   "metadata": {},
   "source": [
    "We see a significant difference in the barplot! People who ask a question at the end of their post (often \"Am I the asshole?\") are less likely to be judged an asshole. The correlation is interesting, but in no way conclusive.\n"
   ]
  },
  {
   "cell_type": "code",
   "execution_count": 70,
   "metadata": {},
   "outputs": [],
   "source": [
    "QML_isasshole = df.loc[df.is_asshole == 1, 'questionmarklast']\n",
    "QML_notasshole = df.loc[df.is_asshole == 0, 'questionmarklast']"
   ]
  },
  {
   "cell_type": "code",
   "execution_count": 71,
   "metadata": {},
   "outputs": [
    {
     "name": "stdout",
     "output_type": "stream",
     "text": [
      "Ttest_indResult(statistic=-14.385144843478738, pvalue=7.164914824518718e-47)\n"
     ]
    }
   ],
   "source": [
    "print(ttest_ind(QML_isasshole, QML_notasshole))\n",
    "                \n",
    "#There we go! The difference of ~60% chance of not being called an asshole (no questionmark) vs the ~40% chance of \n",
    "#being called an asshole with a questionmark at the end is highly, highly significant."
   ]
  },
  {
   "cell_type": "markdown",
   "metadata": {},
   "source": [
    "## Hypothesis Four\n",
    "\n",
    "4) We're looking at the phrasing, \"Would I be the asshole\" vs \"Am I the asshole?\"\n",
    "\n",
    "Null Hypothesis: There is no correlation between the hypothetical phrasing and the \"actual\" phrasing.\n",
    "\n",
    "Should the null be rejected: The conditional might suggest a person who is more cautious, which means a person who is less likely to engage in assholery.\n",
    "\n",
    "Let's look at a barchart where x-axis = AITA/WIBTA/neither & y-axis = is_asshole:\n"
   ]
  },
  {
   "cell_type": "code",
   "execution_count": 72,
   "metadata": {},
   "outputs": [
    {
     "data": {
      "text/html": [
       "<div>\n",
       "<style scoped>\n",
       "    .dataframe tbody tr th:only-of-type {\n",
       "        vertical-align: middle;\n",
       "    }\n",
       "\n",
       "    .dataframe tbody tr th {\n",
       "        vertical-align: top;\n",
       "    }\n",
       "\n",
       "    .dataframe thead th {\n",
       "        text-align: right;\n",
       "    }\n",
       "</style>\n",
       "<table border=\"1\" class=\"dataframe\">\n",
       "  <thead>\n",
       "    <tr style=\"text-align: right;\">\n",
       "      <th></th>\n",
       "      <th>is_asshole</th>\n",
       "    </tr>\n",
       "    <tr>\n",
       "      <th>WIBTA_AITA</th>\n",
       "      <th></th>\n",
       "    </tr>\n",
       "  </thead>\n",
       "  <tbody>\n",
       "    <tr>\n",
       "      <th>AITA</th>\n",
       "      <td>0.275955</td>\n",
       "    </tr>\n",
       "    <tr>\n",
       "      <th>Neither</th>\n",
       "      <td>0.235294</td>\n",
       "    </tr>\n",
       "    <tr>\n",
       "      <th>WIBTA</th>\n",
       "      <td>0.249823</td>\n",
       "    </tr>\n",
       "  </tbody>\n",
       "</table>\n",
       "</div>"
      ],
      "text/plain": [
       "            is_asshole\n",
       "WIBTA_AITA            \n",
       "AITA          0.275955\n",
       "Neither       0.235294\n",
       "WIBTA         0.249823"
      ]
     },
     "execution_count": 72,
     "metadata": {},
     "output_type": "execute_result"
    }
   ],
   "source": [
    "df[['WIBTA_AITA', 'is_asshole']].groupby('WIBTA_AITA').mean()"
   ]
  },
  {
   "cell_type": "code",
   "execution_count": 73,
   "metadata": {},
   "outputs": [
    {
     "data": {
      "text/plain": [
       "Text(0, 0.5, 'Percentage of is_asshole posts fitting in these three categories')"
      ]
     },
     "execution_count": 73,
     "metadata": {},
     "output_type": "execute_result"
    },
    {
     "data": {
      "image/png": "[encoded data removed]",
      "text/plain": [
       "<Figure size 432x288 with 1 Axes>"
      ]
     },
     "metadata": {
      "needs_background": "light"
     },
     "output_type": "display_data"
    }
   ],
   "source": [
    "df[['WIBTA_AITA', 'is_asshole']].groupby('WIBTA_AITA').mean().sort_values(by='is_asshole', \n",
    "                                                                          ascending=False).plot(kind='bar')\n",
    "plt.title(\"WIBTA vs AITA vs Neither\")\n",
    "plt.ylabel(\"Percentage of is_asshole posts fitting in these three categories\")"
   ]
  },
  {
   "cell_type": "markdown",
   "metadata": {},
   "source": [
    "Since you have a roughly 27% chance of being an asshole, it is noteworthy that WIBTA is 2 percentage points lower, and that someone who uses *neither* phrasing is a full 4 percentage points lower, at 23.5%."
   ]
  },
  {
   "cell_type": "markdown",
   "metadata": {},
   "source": [
    "## Hypothesis Five\n",
    "\n",
    "Do we see a difference in likelihood of assholery based on whether or not a thread fits into the following categories? \n",
    "\n",
    "I suspect we'll see it as a higher likelihood in romantic relationships, and likely lower in professional concerns.\n",
    "\n",
    "3) Categorizing data (through title) under four broad headings: \n",
    "\n",
    "  3a) Familial Disagreement \n",
    "    - \"My Mom, Sister, Dad, Grandma, Grandpa, Grandparents, Brother, Cousin,\" &c\n",
    "  3b) Professional Concerns \n",
    "    - \"My Boss, My co-worker, My Colleague\", &c.\n",
    "  3c) Romantic Relationships\n",
    "  \t- Described using word embeddings: \"My Boyfriend,\" \"My Girlfriend,\" \"My Partner,\" &c. \n"
   ]
  },
  {
   "cell_type": "markdown",
   "metadata": {},
   "source": [
    "In order to make this happen we'll do the following:\n",
    "    - converting the subject line (\"title\") into a bag-of-words\n",
    "    - vectorizing the individual words\n",
    "    - applying a naive bayes model to it in a test-run, just to see how predictive individual words are with respect to assholery.\n",
    "\n",
    "It cannot be emphasized enough (see final report): This has no correlation with the actual meaning and context these words have with their usage (it says nothing about why or what it means that these words are correlated with being an asshole - it only suggests that in these particular instances, in the context of this or that culture at this particular time, these words have a higher correlation with assholery.)"
   ]
  },
  {
   "cell_type": "markdown",
   "metadata": {},
   "source": [
    "Let's look at another way to approach assholery, starting with family. We're going to investigate the titles and look for certain groupings -- in this case:\n",
    "\n",
    "- Step-family; \n",
    "- God-family;\n",
    "- Grandparents;\n",
    "- Parents\n",
    "- Siblings\n",
    "- Kids\n",
    "- Relatives\n",
    "\n",
    "And see if they're more likely to involve asshole situations relative to the is_asshole average.\n"
   ]
  },
  {
   "cell_type": "code",
   "execution_count": 74,
   "metadata": {
    "scrolled": true
   },
   "outputs": [],
   "source": [
    "family_words = ['godmother', 'stepbrother', 'stepmother', 'stepsister', 'stepfather', 'grandpa', 'grandfather', \n",
    "                'granddad', 'dad', 'mom', 'father', 'mother', 'son', 'daughter', 'niece', 'nephew', 'uncle', \n",
    "                'aunt', 'godfather', 'godparents', 'godson', 'goddaughter', 'godchild', 'sibling', 'cousin',\n",
    "                'siblings', 'stepdad', 'grandmothers', 'grandfathers', 'mum', 'daddy', 'brothers', 'sisters',\n",
    "                'child', 'kid', 'stepson', 'stepdaughter', 'daughters', 'sons', 'kids', 'nephews', 'mil', 'bil',\n",
    "                'sil', 'brother-in-law', 'sister-in-law', 'mother-in-law', 'in-laws']\n",
    "\n",
    "step_isasshole = df[df.title.str.contains('stepbrother|stepmother|stepfather|stepsister|stepdad')]['is_asshole'].mean()\n",
    "god_isasshole = df[df.title.str.contains('godmother|godfather|godparents|godson|goddaughter|godchild')]['is_asshole'].mean()\n",
    "grand_isasshole = df[df.title.str.contains('grandmother|grandfather|grandpa|grandma|granddad|grandmothers|grandfathers')]['is_asshole'].mean()\n",
    "parents_isasshole = df[df.title.str.contains('dad|mom|mother|father|mum|daddy')]['is_asshole'].mean()\n",
    "siblings_isasshole = df[df.title.str.contains('brother|sister|sibling|siblings|brothers|sisters')]['is_asshole'].mean()\n",
    "kids_isasshole = df[df.title.str.contains('daughter|son|child|kid|stepson|stepdaughter|daughters|sons|kids')]['is_asshole'].mean()\n",
    "relatives_isasshole = df[df.title.str.contains('niece|nephew|uncle|aunt|cousin|cousins|nephews')]['is_asshole'].mean()\n",
    "inlaws_isasshole = df[df.title.str.contains('mil|bil|sil|brother-in-law|sister-in-law|brother in law|sister in law|mother-in-law|mother in law|in-laws|in laws')]['is_asshole'].mean()\n",
    "\n",
    "step_count = df[df.title.str.contains('stepbrother|stepmother|stepfather|stepsister|stepdad')]['is_asshole'].count()\n",
    "god_count = df[df.title.str.contains('godmother|godfather|godparents|godson|goddaughter|godchild')]['is_asshole'].count()\n",
    "grand_count = df[df.title.str.contains('grandmother|grandfather|grandpa|grandma|granddad|grandmothers|grandfathers')]['is_asshole'].count()\n",
    "parents_count = df[df.title.str.contains('dad|mom|mother|father|mum|daddy')]['is_asshole'].count()\n",
    "siblings_count = df[df.title.str.contains('brother|sister|sibling|siblings|brothers|sisters')]['is_asshole'].count()\n",
    "kids_count = df[df.title.str.contains('daughter|son|child|kid|stepson|stepdaughter|daughters|sons|kids')]['is_asshole'].count()\n",
    "relatives_count = df[df.title.str.contains('niece|nephew|uncle|aunt|cousin|cousins|nephews')]['is_asshole'].count()\n",
    "inlaws_count = df[df.title.str.contains('mil|bil|sil|brother-in-law|sister-in-law|brother in law|sister in law|mother-in-law|mother in law|in-laws|in laws')]['is_asshole'].count()\n",
    "\n",
    "\n",
    "is_asshole_mean = df['is_asshole'].mean()\n"
   ]
  },
  {
   "cell_type": "code",
   "execution_count": 75,
   "metadata": {
    "scrolled": false
   },
   "outputs": [
    {
     "name": "stdout",
     "output_type": "stream",
     "text": [
      "The likelihood the subject was an asshole if the issue concerned stepfamily is 0.188, versus the general average of 0.2713833157338965, with a sample size of 250.\n",
      "The likelihood the subject was an asshole if the issue concerned godparents is 0.3333333333333333, versus the general average of 0.2713833157338965, with a sample size of 33.\n",
      "The likelihood the subject was an asshole if the issue concerned grandparents is 0.1878589007383101, versus the general average of 0.2713833157338965, with a sample size of 1219.\n",
      "The likelihood the subject was an asshole if the issue concerned parents is 0.192831473425383, versus the general average of 0.2713833157338965, with a sample size of 10574.\n",
      "The likelihood the subject was an asshole if the issue concerned siblings is 0.25592911128485796, versus the general average of 0.2713833157338965, with a sample size of 7674.\n",
      "The likelihood the subject was an asshole if the issue concerned kids is 0.3187810945273632, versus the general average of 0.2713833157338965, with a sample size of 8040.\n",
      "The likelihood the subject was an asshole if the issue concerned relatives is 0.227995347033734, versus the general average of 0.2713833157338965, with a sample size of 2579.\n",
      "The likelihood the subject was an asshole if the issue concerned in-laws is 0.21623672230652505, versus the general average of 0.2713833157338965, with a sample size of 5272.\n"
     ]
    }
   ],
   "source": [
    "\n",
    "print(\"The likelihood the subject was an asshole if the issue concerned {} is {}, versus the general average of {}, with a sample size of {}.\".format('stepfamily', step_isasshole, is_asshole_mean, step_count))\n",
    "print(\"The likelihood the subject was an asshole if the issue concerned {} is {}, versus the general average of {}, with a sample size of {}.\".format('godparents', god_isasshole, is_asshole_mean, god_count))\n",
    "print(\"The likelihood the subject was an asshole if the issue concerned {} is {}, versus the general average of {}, with a sample size of {}.\".format('grandparents', grand_isasshole, is_asshole_mean, grand_count))\n",
    "print(\"The likelihood the subject was an asshole if the issue concerned {} is {}, versus the general average of {}, with a sample size of {}.\".format('parents', parents_isasshole, is_asshole_mean, parents_count))\n",
    "print(\"The likelihood the subject was an asshole if the issue concerned {} is {}, versus the general average of {}, with a sample size of {}.\".format('siblings', siblings_isasshole, is_asshole_mean, siblings_count))\n",
    "print(\"The likelihood the subject was an asshole if the issue concerned {} is {}, versus the general average of {}, with a sample size of {}.\".format('kids', kids_isasshole, is_asshole_mean, kids_count))\n",
    "print(\"The likelihood the subject was an asshole if the issue concerned {} is {}, versus the general average of {}, with a sample size of {}.\".format('relatives', relatives_isasshole, is_asshole_mean, relatives_count))\n",
    "print(\"The likelihood the subject was an asshole if the issue concerned {} is {}, versus the general average of {}, with a sample size of {}.\".format('in-laws', inlaws_isasshole, is_asshole_mean, inlaws_count))\n"
   ]
  },
  {
   "cell_type": "markdown",
   "metadata": {},
   "source": [
    "Well there we go! The general rule seems to be:\n",
    "\n",
    "The lower the age of the person you're dealing with, the higher a chance you have of being the asshole. And by extension:\n",
    "\n",
    "The higher the age of the person concerned, the lower the chance you have of being an asshole relative to them."
   ]
  },
  {
   "cell_type": "markdown",
   "metadata": {},
   "source": [
    "Now let's make this a column and see how many of the posts are about family."
   ]
  },
  {
   "cell_type": "code",
   "execution_count": 76,
   "metadata": {},
   "outputs": [
    {
     "data": {
      "text/plain": [
       "0        0\n",
       "1        0\n",
       "2        0\n",
       "3        0\n",
       "5        0\n",
       "        ..\n",
       "97623    0\n",
       "97624    0\n",
       "97625    0\n",
       "97626    1\n",
       "97627    0\n",
       "Name: title, Length: 97541, dtype: int64"
      ]
     },
     "execution_count": 76,
     "metadata": {},
     "output_type": "execute_result"
    }
   ],
   "source": [
    "family_words = ['godmother', 'stepbrother', 'stepmother', 'stepsister', 'stepfather', 'grandpa', 'grandfather', \n",
    "                'granddad', 'dad', 'mom', 'father', 'mother', 'son', 'daughter', 'niece', 'nephew', 'uncle', \n",
    "                'aunt', 'godfather', 'godparents', 'godson', 'goddaughter', 'godchild', 'sibling', 'cousin',\n",
    "                'siblings', 'stepdad', 'grandmothers', 'grandfathers', 'mum', 'daddy', 'brothers', 'sisters',\n",
    "                'child', 'kid', 'stepson', 'stepdaughter', 'daughters', 'sons', 'kids', 'nephews', 'mil', 'bil',\n",
    "                'sil', 'brother-in-law', 'sister-in-law', 'mother-in-law', 'in-laws']\n",
    "\n",
    "def family(string):\n",
    "    title_tokens = set([token.lower() for token in string.split()])\n",
    "    common_tokens = len(title_tokens.intersection(family_words))\n",
    "\n",
    "    if common_tokens > 0:\n",
    "        return 1\n",
    "    else:\n",
    "        return 0\n",
    " \n",
    "\n",
    "df.title.apply(family)"
   ]
  },
  {
   "cell_type": "markdown",
   "metadata": {},
   "source": [
    "About one in eight! Is the count any different if we look at the body of the posts rather than the title?"
   ]
  },
  {
   "cell_type": "code",
   "execution_count": 77,
   "metadata": {},
   "outputs": [],
   "source": [
    "step2_isasshole = df[df.body.str.contains('stepbrother|stepmother|stepfather|stepsister|stepdad')]['is_asshole'].mean()\n",
    "god2_isasshole = df[df.body.str.contains('godmother|godfather|godparents|godson|goddaughter|godchild')]['is_asshole'].mean()\n",
    "grand2_isasshole = df[df.body.str.contains('grandmother|grandfather|grandpa|grandma|granddad|grandmothers|grandfathers')]['is_asshole'].mean()\n",
    "parents2_isasshole = df[df.body.str.contains('dad|mom|mother|father|mum|daddy')]['is_asshole'].mean()\n",
    "siblings2_isasshole = df[df.body.str.contains('brother|sister|sibling|siblings|brothers|sisters')]['is_asshole'].mean()\n",
    "kids2_isasshole = df[df.body.str.contains('daughter|son|child|kid|stepson|stepdaughter|daughters|sons|kids')]['is_asshole'].mean()\n",
    "relatives2_isasshole = df[df.body.str.contains('niece|nephew|uncle|aunt|cousin|cousins|nephews')]['is_asshole'].mean()\n",
    "inlaws2_isasshole = df[df.body.str.contains('mil|bil|sil|brother-in-law|sister-in-law|brother in law|sister in law|mother-in-law|mother in law|in-laws|in laws')]['is_asshole'].mean()\n",
    "\n",
    "step2_count = df[df.body.str.contains('stepbrother|stepmother|stepfather|stepsister|stepdad')]['is_asshole'].count()\n",
    "god2_count = df[df.body.str.contains('godmother|godfather|godparents|godson|goddaughter|godchild')]['is_asshole'].count()\n",
    "grand2_count = df[df.body.str.contains('grandmother|grandfather|grandpa|grandma|granddad|grandmothers|grandfathers')]['is_asshole'].count()\n",
    "parents2_count = df[df.body.str.contains('dad|mom|mother|father|mum|daddy')]['is_asshole'].count()\n",
    "siblings2_count = df[df.body.str.contains('brother|sister|sibling|siblings')]['is_asshole'].count()\n",
    "kids2_count = df[df.body.str.contains('daughter|son|child|kid|stepson|stepdaughter|daughters|sons|kids')]['is_asshole'].count()\n",
    "relatives2_count = df[df.body.str.contains('niece|nephew|uncle|aunt|cousin|cousins|nephews')]['is_asshole'].count()\n",
    "inlaws2_count = df[df.body.str.contains('mil|bil|sil|brother-in-law|sister-in-law|brother in law|sister in law|mother-in-law|mother in law|in-laws|in laws')]['is_asshole'].count()\n"
   ]
  },
  {
   "cell_type": "code",
   "execution_count": 78,
   "metadata": {},
   "outputs": [
    {
     "name": "stdout",
     "output_type": "stream",
     "text": [
      "The likelihood the subject was an asshole if the issue concerned stepfamily is 0.17761806981519507, versus the general average of 0.2713833157338965, with a sample size of 974.\n",
      "The likelihood the subject was an asshole if the issue concerned godparents is 0.24, versus the general average of 0.2713833157338965, with a sample size of 150.\n",
      "The likelihood the subject was an asshole if the issue concerned grandparents is 0.19883864156255499, versus the general average of 0.2713833157338965, with a sample size of 5683.\n",
      "The likelihood the subject was an asshole if the issue concerned parents is 0.23120200511945393, versus the general average of 0.2713833157338965, with a sample size of 37504.\n",
      "The likelihood the subject was an asshole if the issue concerned siblings is 0.2335209003215434, versus the general average of 0.2713833157338965, with a sample size of 22392.\n",
      "The likelihood the subject was an asshole if the issue concerned kids is 0.2649261137073056, versus the general average of 0.2713833157338965, with a sample size of 55423.\n",
      "The likelihood the subject was an asshole if the issue concerned relatives is 0.2228524164008035, versus the general average of 0.2713833157338965, with a sample size of 8463.\n",
      "The likelihood the subject was an asshole if the issue concerned in-laws is 0.24895291572697564, versus the general average of 0.2713833157338965, with a sample size of 43454.\n"
     ]
    }
   ],
   "source": [
    "print(\"The likelihood the subject was an asshole if the issue concerned {} is {}, versus the general average of {}, with a sample size of {}.\".format('stepfamily', step2_isasshole, is_asshole_mean, step2_count))\n",
    "print(\"The likelihood the subject was an asshole if the issue concerned {} is {}, versus the general average of {}, with a sample size of {}.\".format('godparents', god2_isasshole, is_asshole_mean, god2_count))\n",
    "print(\"The likelihood the subject was an asshole if the issue concerned {} is {}, versus the general average of {}, with a sample size of {}.\".format('grandparents', grand2_isasshole, is_asshole_mean, grand2_count))\n",
    "print(\"The likelihood the subject was an asshole if the issue concerned {} is {}, versus the general average of {}, with a sample size of {}.\".format('parents', parents2_isasshole, is_asshole_mean, parents2_count))\n",
    "print(\"The likelihood the subject was an asshole if the issue concerned {} is {}, versus the general average of {}, with a sample size of {}.\".format('siblings', siblings2_isasshole, is_asshole_mean, siblings2_count))\n",
    "print(\"The likelihood the subject was an asshole if the issue concerned {} is {}, versus the general average of {}, with a sample size of {}.\".format('kids', kids2_isasshole, is_asshole_mean, kids2_count))\n",
    "print(\"The likelihood the subject was an asshole if the issue concerned {} is {}, versus the general average of {}, with a sample size of {}.\".format('relatives', relatives2_isasshole, is_asshole_mean, relatives2_count))\n",
    "print(\"The likelihood the subject was an asshole if the issue concerned {} is {}, versus the general average of {}, with a sample size of {}.\".format('in-laws', inlaws2_isasshole, is_asshole_mean, inlaws2_count))"
   ]
  },
  {
   "cell_type": "code",
   "execution_count": 79,
   "metadata": {},
   "outputs": [],
   "source": [
    "def family_body(string):\n",
    "    body_tokens = set([token.lower() for token in string.split()])\n",
    "    common_tokens = len(body_tokens.intersection(family_words))\n",
    "\n",
    "    if common_tokens > 0:\n",
    "        return 1\n",
    "    else:\n",
    "        return 0\n",
    " \n",
    "\n",
    "df['family_issues'] = df.body.apply(family_body).value_counts()"
   ]
  },
  {
   "cell_type": "code",
   "execution_count": 80,
   "metadata": {
    "scrolled": true
   },
   "outputs": [
    {
     "data": {
      "text/plain": [
       "54003.0    1\n",
       "43538.0    1\n",
       "Name: family_issues, dtype: int64"
      ]
     },
     "execution_count": 80,
     "metadata": {},
     "output_type": "execute_result"
    }
   ],
   "source": [
    "df['family_issues'].value_counts()"
   ]
  },
  {
   "cell_type": "markdown",
   "metadata": {},
   "source": [
    "The difference is huge! Close to 50% chance of talking about family. So clearly we want to consider body as the primary filter (since it seems more anecdotally reflective of the data).\n",
    "\n",
    "One last consideration: Note the is_asshole mean of the family grouping specifically is ~1% less than the global average - a small but notable amount. So people who discuss concerns with their family are just slightly less likely to be assholes:"
   ]
  },
  {
   "cell_type": "code",
   "execution_count": 81,
   "metadata": {
    "scrolled": true
   },
   "outputs": [],
   "source": [
    "family_mean = df[df.body.str.contains('stepbrother|stepmother|stepfather|stepsister|godmother|godfather|grandmother|grandfather|grandpa|grandma|granddad|dad|mom|mother|father|brother|sister|daughter|son|child|kid|niece|nephew|uncle|aunt|cousin|cousins|stepson|stepdaughter')]['is_asshole'].mean()"
   ]
  },
  {
   "cell_type": "code",
   "execution_count": 82,
   "metadata": {},
   "outputs": [
    {
     "name": "stdout",
     "output_type": "stream",
     "text": [
      "The is_asshole mean of the family subgroup is 0.2616489474054777, in contrast to the global mean of 0.2713833157338965.\n"
     ]
    }
   ],
   "source": [
    "print(\"The is_asshole mean of the family subgroup is {}, in contrast to the global mean of {}.\".format(family_mean, is_asshole_mean))"
   ]
  },
  {
   "cell_type": "markdown",
   "metadata": {},
   "source": [
    "In defense of using Title rather than body: the length of individual titles turns out to be ~40 & 100 characters long, which at least indicates to us that these words are very intentionally used, and that most of these titles are concise, to-the-point."
   ]
  },
  {
   "cell_type": "code",
   "execution_count": 83,
   "metadata": {},
   "outputs": [
    {
     "data": {
      "text/plain": [
       "(63.669995181513414, 25.193879845266235, 300)"
      ]
     },
     "execution_count": 83,
     "metadata": {},
     "output_type": "execute_result"
    }
   ],
   "source": [
    "lens = df.title.str.len()\n",
    "lens.mean(), lens.std(), lens.max()"
   ]
  },
  {
   "cell_type": "code",
   "execution_count": 84,
   "metadata": {},
   "outputs": [
    {
     "data": {
      "text/plain": [
       "<matplotlib.axes._subplots.AxesSubplot at 0x1bb194930c8>"
      ]
     },
     "execution_count": 84,
     "metadata": {},
     "output_type": "execute_result"
    },
    {
     "data": {
      "image/png": "[encoded data removed]",
      "text/plain": [
       "<Figure size 432x288 with 1 Axes>"
      ]
     },
     "metadata": {
      "needs_background": "light"
     },
     "output_type": "display_data"
    }
   ],
   "source": [
    "lens.hist()"
   ]
  },
  {
   "cell_type": "markdown",
   "metadata": {},
   "source": [
    "Anyway: Next is work. We're going to investigate the titles and look for certain groupings -- in this case:\n",
    "\n",
    "- Business partners\n",
    "- Bosses\n",
    "- Colleagues\n",
    "- Employees\n",
    "\n",
    "And see if they're more likely to involve asshole situations relative to the is_asshole average.\n"
   ]
  },
  {
   "cell_type": "code",
   "execution_count": 85,
   "metadata": {},
   "outputs": [],
   "source": [
    "work_words = ['business partner', 'boss', 'colleague', 'employee', 'staff', 'co-worker', 'business partners',\n",
    "             'client', 'clients', 'bosses', 'CEO', 'ceo', 'executive', 'executives', 'manager', 'managers',\n",
    "             'management', 'company', 'coworker', 'coworkers', 'co-workers', 'co worker', 'co workers', 'colleagues',\n",
    "             'work hours']\n",
    "\n",
    "bus_isasshole = df[df.title.str.contains('business partner|business partners|client|clients')]['is_asshole'].mean()\n",
    "boss_isasshole = df[df.title.str.contains('boss|bosses|CEO|executive|ceo|executives|manager|managers|management|company')]['is_asshole'].mean()\n",
    "coll_isasshole = df[df.title.str.contains('colleague|co-worker|coworker|colleagues|co-workers|coworkers|co worker|co workers')]['is_asshole'].mean()\n",
    "employee_isasshole = df[df.title.str.contains('employee|staff|work hours')]['is_asshole'].mean()\n",
    "\n",
    "\n",
    "bus_count = df[df.title.str.contains('business partner|business partners|client|clients')]['is_asshole'].count()\n",
    "boss_count = df[df.title.str.contains('boss|bosses|CEO|executive|ceo|executives|manager|managers|management|company')]['is_asshole'].count()\n",
    "coll_count = df[df.title.str.contains('colleague|co-worker|coworker|colleagues|co-workers|coworkers|co worker|co workers')]['is_asshole'].count()\n",
    "employee_count = df[df.title.str.contains('employee|staff|work hours')]['is_asshole'].count()\n"
   ]
  },
  {
   "cell_type": "code",
   "execution_count": 86,
   "metadata": {
    "scrolled": true
   },
   "outputs": [
    {
     "name": "stdout",
     "output_type": "stream",
     "text": [
      "The likelihood the subject was an asshole if the issue concerned business partners is 0.2222222222222222, versus the general average of 0.2713833157338965, with a sample size of 81.\n",
      "The likelihood the subject was an asshole if the issue concerned bosses is 0.21862011637572734, versus the general average of 0.2713833157338965, with a sample size of 1203.\n",
      "The likelihood the subject was an asshole if the issue concerned colleagues is 0.2646657571623465, versus the general average of 0.2713833157338965, with a sample size of 2199.\n",
      "The likelihood the subject was an asshole if the issue concerned employees is 0.3176178660049628, versus the general average of 0.2713833157338965, with a sample size of 403.\n"
     ]
    }
   ],
   "source": [
    "print(\"The likelihood the subject was an asshole if the issue concerned {} is {}, versus the general average of {}, with a sample size of {}.\".format('business partners', bus_isasshole, is_asshole_mean, bus_count))\n",
    "print(\"The likelihood the subject was an asshole if the issue concerned {} is {}, versus the general average of {}, with a sample size of {}.\".format('bosses', boss_isasshole, is_asshole_mean, boss_count))\n",
    "print(\"The likelihood the subject was an asshole if the issue concerned {} is {}, versus the general average of {}, with a sample size of {}.\".format('colleagues', coll_isasshole, is_asshole_mean, coll_count))\n",
    "print(\"The likelihood the subject was an asshole if the issue concerned {} is {}, versus the general average of {}, with a sample size of {}.\".format('employees', employee_isasshole, is_asshole_mean, employee_count))\n"
   ]
  },
  {
   "cell_type": "markdown",
   "metadata": {},
   "source": [
    "& looking at the body we see:"
   ]
  },
  {
   "cell_type": "code",
   "execution_count": 87,
   "metadata": {},
   "outputs": [],
   "source": [
    "bus2_isasshole = df[df.body.str.contains('business partner|business partners|client|clients')]['is_asshole'].mean()\n",
    "boss2_isasshole = df[df.body.str.contains('boss|bosses|CEO|executive|ceo|executives|manager|managers|management|company')]['is_asshole'].mean()\n",
    "coll2_isasshole = df[df.body.str.contains('colleague|co-worker|coworker|colleagues|co-workers|coworkers|co worker|co workers')]['is_asshole'].mean()\n",
    "employee2_isasshole = df[df.body.str.contains('employee|staff|work hours')]['is_asshole'].mean()\n",
    "\n",
    "\n",
    "bus2_count = df[df.body.str.contains('business partner|business partners|client|clients')]['is_asshole'].count()\n",
    "boss2_count = df[df.body.str.contains('boss|bosses|CEO|executive|ceo|executives|manager|managers|management|company')]['is_asshole'].count()\n",
    "coll2_count = df[df.body.str.contains('colleague|co-worker|coworker|colleagues|co-workers|coworkers|co worker|co workers')]['is_asshole'].count()\n",
    "employee2_count = df[df.body.str.contains('employee|staff|work hours')]['is_asshole'].count()\n"
   ]
  },
  {
   "cell_type": "code",
   "execution_count": 88,
   "metadata": {
    "scrolled": true
   },
   "outputs": [
    {
     "name": "stdout",
     "output_type": "stream",
     "text": [
      "The likelihood the subject was an asshole if the issue concerned business partners is 0.22151898734177214, versus the general average of 0.2713833157338965, with a sample size of 790.\n",
      "The likelihood the subject was an asshole if the issue concerned bosses is 0.23991416309012875, versus the general average of 0.2713833157338965, with a sample size of 9320.\n",
      "The likelihood the subject was an asshole if the issue concerned colleagues is 0.254898157129001, versus the general average of 0.2713833157338965, with a sample size of 5155.\n",
      "The likelihood the subject was an asshole if the issue concerned employees is 0.25369167158889544, versus the general average of 0.2713833157338965, with a sample size of 3386.\n"
     ]
    }
   ],
   "source": [
    "print(\"The likelihood the subject was an asshole if the issue concerned {} is {}, versus the general average of {}, with a sample size of {}.\".format('business partners', bus2_isasshole, is_asshole_mean, bus2_count))\n",
    "print(\"The likelihood the subject was an asshole if the issue concerned {} is {}, versus the general average of {}, with a sample size of {}.\".format('bosses', boss2_isasshole, is_asshole_mean, boss2_count))\n",
    "print(\"The likelihood the subject was an asshole if the issue concerned {} is {}, versus the general average of {}, with a sample size of {}.\".format('colleagues', coll2_isasshole, is_asshole_mean, coll2_count))\n",
    "print(\"The likelihood the subject was an asshole if the issue concerned {} is {}, versus the general average of {}, with a sample size of {}.\".format('employees', employee2_isasshole, is_asshole_mean, employee2_count))\n"
   ]
  },
  {
   "cell_type": "code",
   "execution_count": 89,
   "metadata": {},
   "outputs": [
    {
     "data": {
      "text/plain": [
       "0        0\n",
       "1        0\n",
       "2        0\n",
       "3        0\n",
       "5        0\n",
       "        ..\n",
       "97623    0\n",
       "97624    0\n",
       "97625    0\n",
       "97626    0\n",
       "97627    0\n",
       "Name: title, Length: 97541, dtype: int64"
      ]
     },
     "execution_count": 89,
     "metadata": {},
     "output_type": "execute_result"
    }
   ],
   "source": [
    "def work(string):\n",
    "    title_tokens = set([token.lower() for token in string.split()])\n",
    "    common_tokens = len(title_tokens.intersection(work_words))\n",
    "\n",
    "    if common_tokens > 0:\n",
    "        return 1\n",
    "    else:\n",
    "        return 0\n",
    "    \n",
    "df.title.apply(work)"
   ]
  },
  {
   "cell_type": "markdown",
   "metadata": {},
   "source": [
    "Let's see if looking at the body of the post makes a difference..."
   ]
  },
  {
   "cell_type": "code",
   "execution_count": 90,
   "metadata": {},
   "outputs": [],
   "source": [
    "def work_body(string):\n",
    "    body_tokens = set([token.lower() for token in string.split()])\n",
    "    common_tokens = len(body_tokens.intersection(work_words))\n",
    "\n",
    "    if common_tokens > 0:\n",
    "        return 1\n",
    "    else:\n",
    "        return 0\n",
    "\n",
    "df['work_issues'] = df.body.apply(work_body).value_counts()"
   ]
  },
  {
   "cell_type": "code",
   "execution_count": 91,
   "metadata": {},
   "outputs": [
    {
     "data": {
      "text/plain": [
       "11323.0    1\n",
       "86218.0    1\n",
       "Name: work_issues, dtype: int64"
      ]
     },
     "execution_count": 91,
     "metadata": {},
     "output_type": "execute_result"
    }
   ],
   "source": [
    "df['work_issues'].value_counts()"
   ]
  },
  {
   "cell_type": "markdown",
   "metadata": {},
   "source": [
    "So it ~5x'd! Which is good - a sizeable change, all told. Still, we see that work issues are a smaller emphasis on the AITA forum.\n",
    "\n",
    "And the work mean for is_asshole is:"
   ]
  },
  {
   "cell_type": "code",
   "execution_count": 92,
   "metadata": {
    "scrolled": true
   },
   "outputs": [
    {
     "name": "stdout",
     "output_type": "stream",
     "text": [
      "0.2494738424533975\n"
     ]
    }
   ],
   "source": [
    "work_mean = df[df.body.str.contains('business partner|business partners|client|clients|boss|bosses|CEO|executive|ceo|executives|manager|managers|management|company|colleague|co-worker|coworker|colleagues|co-workers|coworkers|co worker|co workersemployee|staff|work hours')]['is_asshole'].mean()\n",
    "\n",
    "print(work_mean)"
   ]
  },
  {
   "cell_type": "markdown",
   "metadata": {},
   "source": [
    "So, almost 3% less than the global average - noteworthy! We can see that it's because people are less likely to be considered assholes when the issue relates to their bosses/management (the sample size is much higher in that category versus the others) - an indicator that, similarly to family dynamics, the community is more sympathetic to the speaker if they are not in the position of power (and if the issue is with respect to an individual who has power over them). While I'd like to be sure that the issue being about employees means that the BOSS is posting, this is not necessarily the case."
   ]
  },
  {
   "cell_type": "markdown",
   "metadata": {},
   "source": [
    "Last is relationships. We're going to investigate the titles and look for certain groupings -- in this case:\n",
    "\n",
    "- Romantic partners\n",
    "- Hookups\n",
    "- Cheating\n",
    "- Sex\n",
    "- Friendships\n",
    "- Roommates and Neighbors (\"Live-ins\", to poorly define the term).\n",
    "\n",
    "And see if they're more likely to involve asshole situations relative to the is_asshole average.\n"
   ]
  },
  {
   "cell_type": "code",
   "execution_count": 93,
   "metadata": {},
   "outputs": [],
   "source": [
    "relationship_words = ['boyfriend', 'girlfriend', 'hookup', 'sex', 'love', 'affair', 'slept with', \n",
    "                'sleeping with', 'friend', 'friends', 'homies', 'bros', 'besties', 'roommate', 'neighbor', \n",
    "                'neighbors', 'roommates', 'gf', 'bf', 'fwb', 'friends with benefits', 'gfs', 'bfs', 'fiancee', \n",
    "                'fiancée', 'fiancé', 'fiance', 'spouse', 'bridesmaid', 'bridesmaids', 'flatmate', 'flatmates',\n",
    "                'housemate', 'housemates']\n",
    "\n",
    "\n",
    "\n",
    "gfbf_isasshole = df[df.title.str.contains('gf|bf|gfs|bfs|girlfriend|boyfriend|girlfriends|boyfriends')]['is_asshole'].mean()\n",
    "drama_isasshole = df[df.title.str.contains('hookup|love|best friend|fwb|friends with benefits')]['is_asshole'].mean()\n",
    "cheating_isasshole = df[df.title.str.contains('cheating|affair|slept|slept with|fucked|best friend|sleeping with')]['is_asshole'].mean()\n",
    "sex_isasshole = df[df.title.str.contains('sex')]['is_asshole'].mean()\n",
    "friend_isasshole = df[df.title.str.contains('friend|friends|homies|bros|besties')]['is_asshole'].mean()\n",
    "livein_isasshole = df[df.title.str.contains('roommate|roommates|neighbor|neighbors|roomate|roomates|flatmate|flatmates|housemate|housemates')]['is_asshole'].mean()\n",
    "marriage_isasshole = df[df.title.str.contains('wife|spouse|husband|hubby|fiancee|fiancée|fiancé|fiance|spouse|bridesmaid|bridesmaids')]['is_asshole'].mean()\n",
    "\n",
    "gfbf_count = df[df.title.str.contains('gf|bf|gfs|bfs|girlfriend|boyfriend|girlfriends|boyfriends')]['is_asshole'].count()\n",
    "drama_count = df[df.title.str.contains('hookup|love|best friend|fwb|friends with benefits')]['is_asshole'].count()\n",
    "cheating_count = df[df.title.str.contains('cheating|affair|slept|slept with|fucked|best friend|sleeping with')]['is_asshole'].count()\n",
    "sex_count = df[df.title.str.contains('sex')]['is_asshole'].count()\n",
    "friend_count = df[df.title.str.contains('friend|friends|homies|bros|besties')]['is_asshole'].count()\n",
    "livein_count = df[df.title.str.contains('roommate|roommates|neighbor|neighbors|roomate|roomates|flatmate|flatmates|housemate|housemates')]['is_asshole'].count()\n",
    "marriage_count = df[df.title.str.contains('wife|spouse|husband|hubby|fiancee|fiancée|fiancé|fiance|spouse|bridesmaid|bridesmaids')]['is_asshole'].count()"
   ]
  },
  {
   "cell_type": "code",
   "execution_count": 94,
   "metadata": {
    "scrolled": true
   },
   "outputs": [
    {
     "name": "stdout",
     "output_type": "stream",
     "text": [
      "The likelihood the subject was an asshole if the issue concerned romantic partners is 0.31636297042395384, versus the general average of 0.2713833157338965, with a sample size of 10921.\n",
      "The likelihood the subject was an asshole if the issue concerned general drama is 0.3025949953660797, versus the general average of 0.2713833157338965, with a sample size of 2158.\n",
      "The likelihood the subject was an asshole if the issue concerned cheating is 0.31305398871877516, versus the general average of 0.2713833157338965, with a sample size of 2482.\n",
      "The likelihood the subject was an asshole if the issue concerned sex is 0.33368091762252344, versus the general average of 0.2713833157338965, with a sample size of 959.\n",
      "The likelihood the subject was an asshole if the issue concerned friends is 0.2881901775498962, versus the general average of 0.2713833157338965, with a sample size of 23599.\n",
      "The likelihood the subject was an asshole if the issue concerned neighbors and roommates is 0.24153445417949326, versus the general average of 0.2713833157338965, with a sample size of 4223.\n",
      "The likelihood the subject was an asshole if the issue concerned marriage is 0.3412831709774941, versus the general average of 0.2713833157338965, with a sample size of 5954.\n"
     ]
    }
   ],
   "source": [
    "print(\"The likelihood the subject was an asshole if the issue concerned {} is {}, versus the general average of {}, with a sample size of {}.\".format('romantic partners', gfbf_isasshole, is_asshole_mean, gfbf_count))\n",
    "print(\"The likelihood the subject was an asshole if the issue concerned {} is {}, versus the general average of {}, with a sample size of {}.\".format('general drama', drama_isasshole, is_asshole_mean, drama_count))\n",
    "print(\"The likelihood the subject was an asshole if the issue concerned {} is {}, versus the general average of {}, with a sample size of {}.\".format('cheating', cheating_isasshole, is_asshole_mean, cheating_count))\n",
    "print(\"The likelihood the subject was an asshole if the issue concerned {} is {}, versus the general average of {}, with a sample size of {}.\".format('sex', sex_isasshole, is_asshole_mean, sex_count))\n",
    "print(\"The likelihood the subject was an asshole if the issue concerned {} is {}, versus the general average of {}, with a sample size of {}.\".format('friends', friend_isasshole, is_asshole_mean, friend_count))\n",
    "print(\"The likelihood the subject was an asshole if the issue concerned {} is {}, versus the general average of {}, with a sample size of {}.\".format('neighbors and roommates', livein_isasshole, is_asshole_mean, livein_count))\n",
    "print(\"The likelihood the subject was an asshole if the issue concerned {} is {}, versus the general average of {}, with a sample size of {}.\".format('marriage', marriage_isasshole, is_asshole_mean, marriage_count))\n",
    "\n"
   ]
  },
  {
   "cell_type": "markdown",
   "metadata": {},
   "source": [
    "One final time, let's look at the body of the posts:"
   ]
  },
  {
   "cell_type": "code",
   "execution_count": 95,
   "metadata": {},
   "outputs": [],
   "source": [
    "gfbf2_isasshole = df[df.body.str.contains('gf|bf|gfs|bfs|girlfriend|boyfriend|girlfriends|boyfriends')]['is_asshole'].mean()\n",
    "drama2_isasshole = df[df.body.str.contains('hookup|love|best friend|fwb|friends with benefits')]['is_asshole'].mean()\n",
    "cheating2_isasshole = df[df.body.str.contains('cheating|affair|slept|slept with|fucked|best friend|sleeping with')]['is_asshole'].mean()\n",
    "sex2_isasshole = df[df.body.str.contains('sex')]['is_asshole'].mean()\n",
    "friend2_isasshole = df[df.body.str.contains('friend|friends|homies|bros|besties')]['is_asshole'].mean()\n",
    "livein2_isasshole = df[df.body.str.contains('roommate|roommates|neighbor|neighbors|roomate|roomates|flatmate|flatmates|housemate|housemates')]['is_asshole'].mean()\n",
    "marriage2_isasshole = df[df.body.str.contains('wife|spouse|husband|hubby|fiancee|fiancée|fiancé|fiance|spouse|bridesmaid|bridesmaids')]['is_asshole'].mean()\n",
    "\n",
    "\n",
    "gfbf2_count = df[df.body.str.contains('gf|bf|gfs|bfs|girlfriend|boyfriend|girlfriends|boyfriends')]['is_asshole'].count()\n",
    "drama2_count = df[df.body.str.contains('hookup|love|best friend|fwb|friends with benefits')]['is_asshole'].count()\n",
    "cheating2_count = df[df.body.str.contains('cheating|affair|slept|slept with|fucked|best friend|sleeping with')]['is_asshole'].count()\n",
    "sex2_count = df[df.body.str.contains('sex')]['is_asshole'].count()\n",
    "friend2_count = df[df.body.str.contains('friend|friends|homies|bros|besties')]['is_asshole'].count()\n",
    "livein2_count = df[df.body.str.contains('roommate|roommates|neighbor|neighbors|roomate|roomates|flatmate|flatmates|housemate|housemates')]['is_asshole'].count()\n",
    "marriage2_count = df[df.body.str.contains('wife|spouse|husband|hubby|fiancee|fiancée|fiancé|fiance|spouse|bridesmaid|bridesmaids')]['is_asshole'].count()\n"
   ]
  },
  {
   "cell_type": "code",
   "execution_count": 96,
   "metadata": {},
   "outputs": [
    {
     "name": "stdout",
     "output_type": "stream",
     "text": [
      "The likelihood the subject was an asshole if the issue concerned romantic partners is 0.28134302223778673, versus the general average of 0.2713833157338965, with a sample size of 22844.\n",
      "The likelihood the subject was an asshole if the issue concerned general drama is 0.2626356733591093, versus the general average of 0.2713833157338965, with a sample size of 21467.\n",
      "The likelihood the subject was an asshole if the issue concerned cheating is 0.2870293657369051, versus the general average of 0.2713833157338965, with a sample size of 10863.\n",
      "The likelihood the subject was an asshole if the issue concerned sex is 0.30169995048687903, versus the general average of 0.2713833157338965, with a sample size of 6059.\n",
      "The likelihood the subject was an asshole if the issue concerned friends is 0.2756091472897986, versus the general average of 0.2713833157338965, with a sample size of 52081.\n",
      "The likelihood the subject was an asshole if the issue concerned neighbors and roommates is 0.25221709826179495, versus the general average of 0.2713833157338965, with a sample size of 8457.\n",
      "The likelihood the subject was an asshole if the issue concerned marriage is 0.283363332476215, versus the general average of 0.2713833157338965, with a sample size of 19445.\n"
     ]
    }
   ],
   "source": [
    "print(\"The likelihood the subject was an asshole if the issue concerned {} is {}, versus the general average of {}, with a sample size of {}.\".format('romantic partners', gfbf2_isasshole, is_asshole_mean, gfbf2_count))\n",
    "print(\"The likelihood the subject was an asshole if the issue concerned {} is {}, versus the general average of {}, with a sample size of {}.\".format('general drama', drama2_isasshole, is_asshole_mean, drama2_count))\n",
    "print(\"The likelihood the subject was an asshole if the issue concerned {} is {}, versus the general average of {}, with a sample size of {}.\".format('cheating', cheating2_isasshole, is_asshole_mean, cheating2_count))\n",
    "print(\"The likelihood the subject was an asshole if the issue concerned {} is {}, versus the general average of {}, with a sample size of {}.\".format('sex', sex2_isasshole, is_asshole_mean, sex2_count))\n",
    "print(\"The likelihood the subject was an asshole if the issue concerned {} is {}, versus the general average of {}, with a sample size of {}.\".format('friends', friend2_isasshole, is_asshole_mean, friend2_count))\n",
    "print(\"The likelihood the subject was an asshole if the issue concerned {} is {}, versus the general average of {}, with a sample size of {}.\".format('neighbors and roommates', livein2_isasshole, is_asshole_mean, livein2_count))\n",
    "print(\"The likelihood the subject was an asshole if the issue concerned {} is {}, versus the general average of {}, with a sample size of {}.\".format('marriage', marriage2_isasshole, is_asshole_mean, marriage2_count))\n",
    "\n"
   ]
  },
  {
   "cell_type": "markdown",
   "metadata": {},
   "source": [
    "It's fair to assume that a number of posts examined through this analysis are also in other categories (a post can be both about \"family\" and \"relationships\" (romantic relations), for example) - still, it's helpful to note the asshole averages here. \n",
    "\n",
    "It seems to me that, with respect to the asshole averages, the ones in Title will be more suggestive, even if the sample sizes are smaller, because the title, given its concise nature, signals more clearly what the post is about. So we can see that if the post concerns marriage in Title, the percentage of people designated asshole is a notable 34% -- 7 points higher than average. It reduces to 28% if we look at the body of the post. We see this repeatedly - sex is 33.3% vs 30.1%, cheating is 31.3% vs 28.7%, romantic partners is 31.6% vs 28.1%. (One wonders how these averages would change if we could assess whether the poster is a male vs female, though many times that can only be inferred through the text.)\n",
    "\n",
    "Looking at outside sources, we see that Reddit tends to skew male: https://social.techjunkie.com/demographics-reddit/ -- possibly to 2/3 male. While it's true that subreddits will have different proportions based on interest, subject, etc., I'd be inclined to believe that most relationship issues on this subreddit are posted by males. Keeping the half-joke in mind that \"if a man cheats, it's because he's an asshole, and if a woman cheats, it's because he's an asshole\", perhaps there is less tolerance towards men/male behavior in relationships, or perhaps the issues they're posting about are more inflammatory?\n",
    "\n",
    "Note that friendships roughly meet the global average, whereas roommates and neighbors are below the average. With friendships, there's a roughly equal give-and-take -- the mutuality means that one is just as likely to be on either side of the fence. Why are people posting about their neighbors and roommates less likely to be called assholes? Is there something about the nature or quality of these interactions that the community is more likely to tolerate? Are the issues being posted about often describing a slanted (unfavorable to them) situation, to which they're reacting?"
   ]
  },
  {
   "cell_type": "code",
   "execution_count": 97,
   "metadata": {},
   "outputs": [
    {
     "data": {
      "text/plain": [
       "0        0\n",
       "1        0\n",
       "2        0\n",
       "3        0\n",
       "5        0\n",
       "        ..\n",
       "97623    0\n",
       "97624    0\n",
       "97625    0\n",
       "97626    0\n",
       "97627    0\n",
       "Name: title, Length: 97541, dtype: int64"
      ]
     },
     "execution_count": 97,
     "metadata": {},
     "output_type": "execute_result"
    }
   ],
   "source": [
    "def relationships(string):\n",
    "    title_tokens = set([token.lower() for token in string.split()])\n",
    "    common_tokens = len(title_tokens.intersection(relationship_words))\n",
    "\n",
    "    if common_tokens > 0:\n",
    "        return 1\n",
    "    else:\n",
    "        return 0\n",
    "    \n",
    "df.title.apply(relationships)"
   ]
  },
  {
   "cell_type": "markdown",
   "metadata": {},
   "source": [
    "And again, counting it in the body (since relationship issues are visibly mentioned a lot more than other issues:"
   ]
  },
  {
   "cell_type": "code",
   "execution_count": 98,
   "metadata": {
    "scrolled": true
   },
   "outputs": [],
   "source": [
    "def relationships_body(string):\n",
    "    body_tokens = set([token.lower() for token in string.split()])\n",
    "    common_tokens = len(body_tokens.intersection(relationship_words))\n",
    "\n",
    "    if common_tokens > 0:\n",
    "        return 1\n",
    "    else:\n",
    "        return 0\n",
    "    \n",
    "df['relationship_issues'] = df.body.apply(relationships_body).value_counts()"
   ]
  },
  {
   "cell_type": "code",
   "execution_count": 99,
   "metadata": {
    "scrolled": true
   },
   "outputs": [
    {
     "data": {
      "text/plain": [
       "38777.0    1\n",
       "58764.0    1\n",
       "Name: relationship_issues, dtype: int64"
      ]
     },
     "execution_count": 99,
     "metadata": {},
     "output_type": "execute_result"
    }
   ],
   "source": [
    "df['relationship_issues'].value_counts()"
   ]
  },
  {
   "cell_type": "markdown",
   "metadata": {},
   "source": [
    "Anecdotally, this feels reflective - about 40% of the issues are about relationships, which makes plenty of sense."
   ]
  },
  {
   "cell_type": "code",
   "execution_count": 100,
   "metadata": {
    "scrolled": true
   },
   "outputs": [
    {
     "name": "stdout",
     "output_type": "stream",
     "text": [
      "0.27398360474133154\n"
     ]
    }
   ],
   "source": [
    "relationship_mean = df[df.body.str.contains('gf|bf|gfs|bfs|girlfriend|boyfriend|girlfriends|boyfriends|hookup|love|best friend|fwb|friends with benefits|cheating|affair|slept|slept with|fucked|best friend|sleeping with|friend|friends|homies|bros|besties|roommate|roommates|neighbor|neighbors|roomate|roomates|flatmate|flatmates|housemate|housemates|wife|spouse|husband|hubby|fiancee|fiancée|fiancé|fiance|spouse|bridesmaid|bridesmaids')]['is_asshole'].mean()\n",
    "\n",
    "print(relationship_mean)"
   ]
  },
  {
   "cell_type": "markdown",
   "metadata": {},
   "source": [
    "Looking at the is_asshole mean through title, we see 29.4% - ~2% higher:"
   ]
  },
  {
   "cell_type": "code",
   "execution_count": 101,
   "metadata": {},
   "outputs": [
    {
     "name": "stdout",
     "output_type": "stream",
     "text": [
      "0.29456584243818285\n"
     ]
    }
   ],
   "source": [
    "relationship_mean_title = df[df.title.str.contains('gf|bf|gfs|bfs|girlfriend|boyfriend|girlfriends|boyfriends|hookup|love|best friend|fwb|friends with benefits|cheating|affair|slept|slept with|fucked|best friend|sleeping with|friend|friends|homies|bros|besties|roommate|roommates|neighbor|neighbors|roomate|roomates|flatmate|flatmates|housemate|housemates|wife|spouse|husband|hubby|fiancee|fiancée|fiancé|fiance|spouse|bridesmaid|bridesmaids')]['is_asshole'].mean()\n",
    "\n",
    "print(relationship_mean_title)"
   ]
  },
  {
   "cell_type": "code",
   "execution_count": 102,
   "metadata": {
    "scrolled": true
   },
   "outputs": [],
   "source": [
    "df['bfgf'] = np.where(df['body'].str.contains('gf|bf|gfs|bfs|girlfriend|boyfriend|girlfriends|boyfriends'), 1, 0)\n",
    "df['drama'] = np.where(df['body'].str.contains('hookup|love|best friend|fwb|friends with benefits'), 1, 0)\n",
    "df['cheating'] = np.where(df['body'].str.contains('cheating|affair|slept|slept with|fucked|best friend|sleeping with'), 1, 0)\n",
    "df['sex'] = np.where(df['body'].str.contains('sex'), 1, 0)\n",
    "df['friend'] = np.where(df['body'].str.contains('friend|friends|homies|bros|besties'), 1, 0)\n",
    "df['livein'] = np.where(df['body'].str.contains('roommate|roommates|neighbor|neighbors|roomate|roomates|flatmate|flatmates|housemate|housemates'), 1, 0)\n",
    "df['marriage'] = np.where(df['body'].str.contains('wife|spouse|husband|hubby|fiancee|fiancée|fiancé|fiance|spouse|bridesmaid|bridesmaids'), 1, 0)\n",
    "df['bizpartners'] = np.where(df['body'].str.contains('business partner|business partners|client|clients'), 1, 0)\n",
    "df['bosses'] = np.where(df['body'].str.contains('boss|bosses|CEO|executive|ceo|executives|manager|managers|management|company'), 1, 0)\n",
    "df['colleagues'] = np.where(df['body'].str.contains('colleague|co-worker|coworker|colleagues|co-workers|coworkers|co worker|co workers'), 1, 0)\n",
    "df['employees'] = np.where(df['body'].str.contains('employee|staff|work hours'), 1, 0)\n",
    "df['stepfam'] = np.where(df['body'].str.contains('stepbrother|stepmother|stepfather|stepsister|stepdad'), 1, 0)\n",
    "df['godfam'] = np.where(df['body'].str.contains('godmother|godfather|godparents|godson|goddaughter|godchild'), 1, 0)\n",
    "df['grandparents'] = np.where(df['body'].str.contains('grandmother|grandfather|grandpa|grandma|granddad|grandmothers|grandfathers'), 1, 0)\n",
    "df['parents'] = np.where(df['body'].str.contains('dad|mom|mother|father|mum|daddy'), 1, 0)\n",
    "df['siblings'] = np.where(df['body'].str.contains('brother|sister|sibling|siblings|brothers|sisters'), 1, 0)\n",
    "df['kids'] = np.where(df['body'].str.contains('daughter|son|child|kid|stepson|stepdaughter|daughters|sons|kids'), 1, 0)           \n",
    "df['relatives'] = np.where(df['body'].str.contains('niece|nephew|uncle|aunt|cousin|cousins|nephews'), 1, 0)\n",
    "df['inlaws'] = np.where(df['body'].str.contains('mil|bil|sil|brother-in-law|sister-in-law|brother in law|sister in law|mother-in-law|mother in law|in-laws|in laws'), 1, 0)\n",
    "\n",
    "\n",
    "\n",
    "#Regex, possibly\n",
    "#.split ways to do it\n",
    "#https://stackoverflow.com/questions/26242494/counting-the-number-of-times-a-word-appears-in-a-string\n",
    "\n",
    "#for word in string.split - if word in (all words), +1"
   ]
  },
  {
   "cell_type": "code",
   "execution_count": 103,
   "metadata": {
    "scrolled": false
   },
   "outputs": [
    {
     "data": {
      "text/plain": [
       "0        {'relationships': 0, 'family': 0, 'work': 0}\n",
       "1        {'relationships': 1, 'family': 0, 'work': 0}\n",
       "2        {'relationships': 0, 'family': 0, 'work': 0}\n",
       "3        {'relationships': 0, 'family': 0, 'work': 0}\n",
       "5        {'relationships': 2, 'family': 0, 'work': 2}\n",
       "                             ...                     \n",
       "97623    {'relationships': 1, 'family': 1, 'work': 0}\n",
       "97624    {'relationships': 1, 'family': 0, 'work': 0}\n",
       "97625    {'relationships': 0, 'family': 1, 'work': 0}\n",
       "97626    {'relationships': 0, 'family': 7, 'work': 0}\n",
       "97627    {'relationships': 0, 'family': 0, 'work': 3}\n",
       "Name: body, Length: 97541, dtype: object"
      ]
     },
     "execution_count": 103,
     "metadata": {},
     "output_type": "execute_result"
    }
   ],
   "source": [
    "def getcount(post):\n",
    "\n",
    "    count_dict = {\"relationships\" : 0,\n",
    "                  \"family\" : 0,\n",
    "                  \"work\" : 0}\n",
    "    \n",
    "    for word in post.split():\n",
    "        if word in relationship_words:\n",
    "            count_dict[\"relationships\"] += 1\n",
    "        elif word in family_words:\n",
    "            count_dict[\"family\"] += 1\n",
    "        elif word in work_words:\n",
    "            count_dict[\"work\"] += 1\n",
    "\n",
    "    return count_dict\n",
    "\n",
    "\n",
    "df.body.apply(getcount)\n",
    "\n",
    "\n",
    "#total % of words in dict for each 'segment'"
   ]
  },
  {
   "cell_type": "code",
   "execution_count": 104,
   "metadata": {
    "scrolled": true
   },
   "outputs": [
    {
     "data": {
      "text/plain": [
       "'I love the musical *Les Miserables*. A coworker of mine said that they didn\\'t like it. I asked why and they said, among other things, that \"it\\'s not a musical, it\\'s an opera.\"\\n\\nNow, I happen to be an opera singer. I told them adamantly that it is NOT an opera. There are a number of things that make this true, but if you can take my word for it- and I hope you can- it\\'s not a matter of opinion whether a mainstream musical is an opera or not. It is a musical, period.\\n\\nMy coworker thought otherwise. \"My boyfriend writes musicals and he agrees with me\" was the extent of her argument. Well, he may well write musicals but that doesn\\'t mean he knows anything about opera. You might as well ask a jazz pianist to tell you about Beethoven- it\\'s not the same area of expertise even if it\\'s related. I told her \"You\\'re entitled to your opinion even if it\\'s wrong\" in a sort-of joking way. Maybe I was being dickish.\\n\\nI gotta know- am I the asshole?'"
      ]
     },
     "execution_count": 104,
     "metadata": {},
     "output_type": "execute_result"
    }
   ],
   "source": [
    "df.iloc[4]['body']"
   ]
  },
  {
   "cell_type": "markdown",
   "metadata": {},
   "source": [
    "# Hypothesis Six\n",
    "\n",
    "6) Looking for adjectives that suggest passion/anger/frustration, and if there's a correlation between valence and assholery. \n",
    "\n",
    "Null: That there is no relationship between the valence of an adjective used and the likelihood that a post will be categorized as is_asshole.\n",
    "\n",
    "Theory:\n",
    "    That words that suggest a higher emotional valence will indicate a *lesser* inclination for assholery. (Example: \"AITA for abandoning my depressed friend?\") It shows the writer's self-awareness (they're more interested in writing something that gets a lot of attention/is eye-catching, to validate that they're NOT an asshole).\n"
   ]
  },
  {
   "cell_type": "markdown",
   "metadata": {},
   "source": [
    "Wordcloud first:"
   ]
  },
  {
   "cell_type": "code",
   "execution_count": 105,
   "metadata": {
    "scrolled": false
   },
   "outputs": [
    {
     "data": {
      "image/png": "[encoded data removed]",
      "text/plain": [
       "<Figure size 576x576 with 1 Axes>"
      ]
     },
     "metadata": {
      "needs_background": "light"
     },
     "output_type": "display_data"
    }
   ],
   "source": [
    "comment_words = '' \n",
    "stopwords = set(STOPWORDS) \n",
    "  \n",
    "# iterate through the csv file \n",
    "for val in df.title: \n",
    "      \n",
    "    # typecaste each val to string \n",
    "    val = str(val) \n",
    "  \n",
    "    # split the value \n",
    "    tokens = val.split() \n",
    "      \n",
    "    # Converts each token into lowercase \n",
    "    for i in range(len(tokens)): \n",
    "        tokens[i] = tokens[i].lower() \n",
    "      \n",
    "    comment_words += \" \".join(tokens)+\" \"\n",
    "  \n",
    "wordcloud = WordCloud(width = 800, height = 800, \n",
    "                background_color ='white', \n",
    "                stopwords = stopwords, \n",
    "                min_font_size = 10).generate(comment_words) \n",
    "  \n",
    "# plot the WordCloud image                        \n",
    "plt.figure(figsize = (8, 8), facecolor = None) \n",
    "plt.imshow(wordcloud) \n",
    "plt.axis(\"off\") \n",
    "plt.tight_layout(pad = 0) \n",
    "  \n",
    "plt.show() "
   ]
  },
  {
   "cell_type": "code",
   "execution_count": 106,
   "metadata": {},
   "outputs": [],
   "source": [
    "def make_xy(df, vectorizer=None):\n",
    "    if vectorizer is None:\n",
    "        vectorizer = CountVectorizer()\n",
    "    X = vectorizer.fit_transform(df.title)\n",
    "    X = X.tocsc()  # some versions of sklearn return COO format\n",
    "    y = df.is_asshole.values.astype(np.int)\n",
    "    return X, y\n",
    "X, y = make_xy(df)"
   ]
  },
  {
   "cell_type": "code",
   "execution_count": 107,
   "metadata": {},
   "outputs": [],
   "source": [
    "def cv_score(clf, X, y, scorefunc):\n",
    "    result = 0.\n",
    "    nfold = 5\n",
    "    for train, test in KFold(nfold).split(X): # split data into train/test groups, 5 times\n",
    "        clf.fit(X[train], y[train]) # fit the classifier, passed in as clf.\n",
    "        result += scorefunc(clf, X[test], y[test]) # evaluate score function on held-out data\n",
    "    return result / nfold # average"
   ]
  },
  {
   "cell_type": "code",
   "execution_count": 108,
   "metadata": {},
   "outputs": [],
   "source": [
    "_, itest = train_test_split(range(df.shape[0]), train_size=0.7)\n",
    "mask = np.zeros(df.shape[0], dtype=np.bool) #look this up more - this makes an array of zeros - for those rows \n",
    "                                            #in the itest of 1, make it true (so there's a bunch of trues and \n",
    "                                            #falses)\n",
    "mask[itest] = True"
   ]
  },
  {
   "cell_type": "code",
   "execution_count": 109,
   "metadata": {},
   "outputs": [
    {
     "name": "stdout",
     "output_type": "stream",
     "text": [
      "Accuracy on training data: 0.736151\n",
      "Accuracy on test data:     0.726354\n"
     ]
    }
   ],
   "source": [
    "best_alpha = 0.05\n",
    "\n",
    "vectorizer = TfidfVectorizer(tokenizer=None,\n",
    "               min_df=30, max_df=0.9, strip_accents='unicode', use_idf=1,\n",
    "               smooth_idf=1, sublinear_tf=1 )\n",
    "X, y = make_xy(df, vectorizer)\n",
    "xtrain=X[mask]\n",
    "ytrain=y[mask]\n",
    "xtest=X[~mask]\n",
    "ytest=y[~mask]\n",
    "\n",
    "clf = MultinomialNB(alpha=best_alpha).fit(xtrain, ytrain)\n",
    "\n",
    "training_accuracy = clf.score(xtrain, ytrain)\n",
    "test_accuracy = clf.score(xtest, ytest)\n",
    "\n",
    "print(\"Accuracy on training data: {:2f}\".format(training_accuracy))\n",
    "print(\"Accuracy on test data:     {:2f}\".format(test_accuracy))\n",
    "\n",
    "#x matrix becomes # of times likely to appear, and y matrix is yes/no\n",
    "\n",
    "# adding ngram_range=(1, 2) to tfidf vectorizer increases accuracy on training data to 88% but reduces\n",
    "# accuracy on test data to 68.6% (still higher than count vectorizer)."
   ]
  },
  {
   "cell_type": "markdown",
   "metadata": {},
   "source": [
    "So we see that evaluating the usage of certain words gives a prediction significantly better than a chance evaluation!\n",
    "\n",
    "Let's see how things look when we cluster - what does the text coalesce around?"
   ]
  },
  {
   "cell_type": "code",
   "execution_count": 110,
   "metadata": {},
   "outputs": [],
   "source": [
    "def clean(doc):\n",
    "    stop_free = \" \".join([i for i in doc.lower().split() if i not in stop])\n",
    "    punc_free = ''.join(ch for ch in stop_free if ch not in exclude)\n",
    "    normalized = \" \".join(lemma.lemmatize(word) for word in punc_free.split())\n",
    "    processed = re.sub(r\"\\d+\",\"\",normalized)\n",
    "    y = processed.split()\n",
    "    return y"
   ]
  },
  {
   "cell_type": "markdown",
   "metadata": {},
   "source": [
    "So that said, let's check out what these good + bad words are."
   ]
  },
  {
   "cell_type": "code",
   "execution_count": 111,
   "metadata": {
    "scrolled": true
   },
   "outputs": [
    {
     "name": "stdout",
     "output_type": "stream",
     "text": [
      "Good words\t     P(is_asshole | word)\n",
      "Bad words\t     P(is_asshole | word)\n"
     ]
    }
   ],
   "source": [
    "words = np.array(vectorizer.get_feature_names())\n",
    "\n",
    "x = len(words)\n",
    "\n",
    "x = np.eye(xtest.shape[1])\n",
    "probs = clf.predict_log_proba(x)[:, 0]\n",
    "ind = np.argsort(probs)\n",
    "\n",
    "good_words = words[ind[:1000]]\n",
    "bad_words = words[ind[-1000:]]\n",
    "\n",
    "good_prob = probs[ind[:1000]]\n",
    "bad_prob = probs[ind[-1000:]]\n",
    "\n",
    "print(\"Good words\\t     P(is_asshole | word)\")\n",
    "for w, p in zip(good_words, good_prob):\n",
    "    \"{:>20}\".format(w), \"{:.2f}\".format(1 - np.exp(p))\n",
    "    \n",
    "    #Formerly print in above line, removed so we don't have to see 4,000 words.\n",
    "    \n",
    "print(\"Bad words\\t     P(is_asshole | word)\")\n",
    "for w, p in zip(bad_words, bad_prob):\n",
    "    \"{:>20}\".format(w), \"{:.2f}\".format(1 - np.exp(p))\n",
    "\n",
    "words = np.array(vectorizer.get_feature_names())\n"
   ]
  },
  {
   "cell_type": "code",
   "execution_count": 112,
   "metadata": {},
   "outputs": [],
   "source": [
    "probs_dict = {}\n",
    "\n",
    "\n",
    "for w, p in zip(good_words, good_prob):\n",
    "    probs_dict[w] = (1 - np.exp(p))\n",
    "    \n",
    "for w, p in zip(bad_words, bad_prob):\n",
    "    probs_dict[w] = (1 - np.exp(p))\n",
    "\n",
    "words_prob = pd.DataFrame({'words': list(probs_dict.keys()), 'probabilities': list(probs_dict.values())})\n",
    "\n",
    "#row = df['id'] df['title'], word, value\n",
    "#index (col) = title, words_in_Title & Prob_is_asshole\n",
    "\n",
    "#learn to pass index."
   ]
  },
  {
   "cell_type": "code",
   "execution_count": 113,
   "metadata": {
    "scrolled": true
   },
   "outputs": [
    {
     "name": "stdout",
     "output_type": "stream",
     "text": [
      "[('chinese', 0.9540145679957512), ('revenge', 0.9040184725564379), ('honking', 0.7558533897487839), ('bet', 0.7180219442732908), ('fish', 0.7146493930063698), ('attitude', 0.7054044161962858), ('basement', 0.6980268542437688), ('unintentionally', 0.6900323248249106), ('match', 0.6879090655973572), ('speech', 0.684258448821828)]\n"
     ]
    }
   ],
   "source": [
    "#probs_dict.head(10)\n",
    "#probs_dict.head(-10)\n",
    "from itertools import islice\n",
    "\n",
    "def take(n, iterable):\n",
    "    #Return first n items of the iterable as a list\n",
    "    return list(islice(iterable, n))\n",
    "\n",
    "n_items = take(10, probs_dict.items())\n",
    "print(n_items)"
   ]
  },
  {
   "cell_type": "code",
   "execution_count": 114,
   "metadata": {},
   "outputs": [],
   "source": [
    "words_prob['parts_of_speech'] = nltk.pos_tag(words_prob['words'])"
   ]
  },
  {
   "cell_type": "markdown",
   "metadata": {},
   "source": [
    "For reference to what the parts of speech stand for, here's a list:\n",
    "\n",
    "    CC coordinating conjunction\n",
    "    CD cardinal digit\n",
    "    DT determiner\n",
    "    EX existential there (like: “there is” … think of it like “there exists”)\n",
    "    FW foreign word\n",
    "    IN preposition/subordinating conjunction\n",
    "    JJ adjective ‘big’\n",
    "    JJR adjective, comparative ‘bigger’\n",
    "    JJS adjective, superlative ‘biggest’\n",
    "    LS list marker 1)\n",
    "    MD modal could, will\n",
    "    NN noun, singular ‘desk’\n",
    "    NNS noun plural ‘desks’\n",
    "    NNP proper noun, singular ‘Harrison’\n",
    "    NNPS proper noun, plural ‘Americans’\n",
    "    PDT predeterminer ‘all the kids’\n",
    "    POS possessive ending parent’s\n",
    "    PRP personal pronoun I, he, she\n",
    "    PRP$ possessive pronoun my, his, hers\n",
    "    RB adverb very, silently,\n",
    "    RBR adverb, comparative better\n",
    "    RBS adverb, superlative best\n",
    "    RP particle give up\n",
    "    TO, to go ‘to’ the store.\n",
    "    UH interjection, errrrrrrrm\n",
    "    VB verb, base form take\n",
    "    VBD verb, past tense took\n",
    "    VBG verb, gerund/present participle taking\n",
    "    VBN verb, past participle taken\n",
    "    VBP verb, sing. present, non-3d take\n",
    "    VBZ verb, 3rd person sing. present takes\n",
    "    WDT wh-determiner which\n",
    "    WP wh-pronoun who, what\n",
    "    WP$ possessive wh-pronoun whose\n",
    "    WRB wh-abverb where, when"
   ]
  },
  {
   "cell_type": "code",
   "execution_count": 115,
   "metadata": {
    "scrolled": false
   },
   "outputs": [
    {
     "data": {
      "text/html": [
       "<div>\n",
       "<style scoped>\n",
       "    .dataframe tbody tr th:only-of-type {\n",
       "        vertical-align: middle;\n",
       "    }\n",
       "\n",
       "    .dataframe tbody tr th {\n",
       "        vertical-align: top;\n",
       "    }\n",
       "\n",
       "    .dataframe thead th {\n",
       "        text-align: right;\n",
       "    }\n",
       "</style>\n",
       "<table border=\"1\" class=\"dataframe\">\n",
       "  <thead>\n",
       "    <tr style=\"text-align: right;\">\n",
       "      <th></th>\n",
       "      <th>words</th>\n",
       "      <th>probabilities</th>\n",
       "      <th>parts_of_speech</th>\n",
       "    </tr>\n",
       "  </thead>\n",
       "  <tbody>\n",
       "    <tr>\n",
       "      <th>0</th>\n",
       "      <td>chinese</td>\n",
       "      <td>0.954015</td>\n",
       "      <td>(chinese, JJ)</td>\n",
       "    </tr>\n",
       "    <tr>\n",
       "      <th>1</th>\n",
       "      <td>revenge</td>\n",
       "      <td>0.904018</td>\n",
       "      <td>(revenge, NN)</td>\n",
       "    </tr>\n",
       "    <tr>\n",
       "      <th>2</th>\n",
       "      <td>honking</td>\n",
       "      <td>0.755853</td>\n",
       "      <td>(honking, VBG)</td>\n",
       "    </tr>\n",
       "    <tr>\n",
       "      <th>3</th>\n",
       "      <td>bet</td>\n",
       "      <td>0.718022</td>\n",
       "      <td>(bet, JJ)</td>\n",
       "    </tr>\n",
       "    <tr>\n",
       "      <th>4</th>\n",
       "      <td>fish</td>\n",
       "      <td>0.714649</td>\n",
       "      <td>(fish, JJ)</td>\n",
       "    </tr>\n",
       "    <tr>\n",
       "      <th>...</th>\n",
       "      <td>...</td>\n",
       "      <td>...</td>\n",
       "      <td>...</td>\n",
       "    </tr>\n",
       "    <tr>\n",
       "      <th>1995</th>\n",
       "      <td>apparently</td>\n",
       "      <td>0.008173</td>\n",
       "      <td>(apparently, RB)</td>\n",
       "    </tr>\n",
       "    <tr>\n",
       "      <th>1996</th>\n",
       "      <td>boundaries</td>\n",
       "      <td>0.007015</td>\n",
       "      <td>(boundaries, VBZ)</td>\n",
       "    </tr>\n",
       "    <tr>\n",
       "      <th>1997</th>\n",
       "      <td>asks</td>\n",
       "      <td>0.006981</td>\n",
       "      <td>(asks, VBZ)</td>\n",
       "    </tr>\n",
       "    <tr>\n",
       "      <th>1998</th>\n",
       "      <td>alcoholic</td>\n",
       "      <td>0.004693</td>\n",
       "      <td>(alcoholic, JJ)</td>\n",
       "    </tr>\n",
       "    <tr>\n",
       "      <th>1999</th>\n",
       "      <td>lending</td>\n",
       "      <td>0.004021</td>\n",
       "      <td>(lending, NN)</td>\n",
       "    </tr>\n",
       "  </tbody>\n",
       "</table>\n",
       "<p>2000 rows × 3 columns</p>\n",
       "</div>"
      ],
      "text/plain": [
       "           words  probabilities    parts_of_speech\n",
       "0        chinese       0.954015      (chinese, JJ)\n",
       "1        revenge       0.904018      (revenge, NN)\n",
       "2        honking       0.755853     (honking, VBG)\n",
       "3            bet       0.718022          (bet, JJ)\n",
       "4           fish       0.714649         (fish, JJ)\n",
       "...          ...            ...                ...\n",
       "1995  apparently       0.008173   (apparently, RB)\n",
       "1996  boundaries       0.007015  (boundaries, VBZ)\n",
       "1997        asks       0.006981        (asks, VBZ)\n",
       "1998   alcoholic       0.004693    (alcoholic, JJ)\n",
       "1999     lending       0.004021      (lending, NN)\n",
       "\n",
       "[2000 rows x 3 columns]"
      ]
     },
     "execution_count": 115,
     "metadata": {},
     "output_type": "execute_result"
    }
   ],
   "source": [
    "words_prob\n",
    "\n",
    "#Find how many of any specific POS are above/below the is_asshole line."
   ]
  },
  {
   "cell_type": "code",
   "execution_count": 116,
   "metadata": {
    "scrolled": true
   },
   "outputs": [
    {
     "data": {
      "text/html": [
       "<div>\n",
       "<style scoped>\n",
       "    .dataframe tbody tr th:only-of-type {\n",
       "        vertical-align: middle;\n",
       "    }\n",
       "\n",
       "    .dataframe tbody tr th {\n",
       "        vertical-align: top;\n",
       "    }\n",
       "\n",
       "    .dataframe thead th {\n",
       "        text-align: right;\n",
       "    }\n",
       "</style>\n",
       "<table border=\"1\" class=\"dataframe\">\n",
       "  <thead>\n",
       "    <tr style=\"text-align: right;\">\n",
       "      <th></th>\n",
       "      <th>id</th>\n",
       "      <th>timestamp</th>\n",
       "      <th>title</th>\n",
       "      <th>body</th>\n",
       "      <th>edited</th>\n",
       "      <th>verdict</th>\n",
       "      <th>score</th>\n",
       "      <th>num_comments</th>\n",
       "      <th>is_asshole</th>\n",
       "      <th>countI</th>\n",
       "      <th>...</th>\n",
       "      <th>colleagues</th>\n",
       "      <th>employees</th>\n",
       "      <th>stepfam</th>\n",
       "      <th>godfam</th>\n",
       "      <th>grandparents</th>\n",
       "      <th>parents</th>\n",
       "      <th>siblings</th>\n",
       "      <th>kids</th>\n",
       "      <th>relatives</th>\n",
       "      <th>inlaws</th>\n",
       "    </tr>\n",
       "  </thead>\n",
       "  <tbody>\n",
       "    <tr>\n",
       "      <th>5245</th>\n",
       "      <td>9u68zb</td>\n",
       "      <td>2018-11-04 19:26:38</td>\n",
       "      <td>AITA for calling karma on my friend who had TW...</td>\n",
       "      <td>And now he deleted me from his social media be...</td>\n",
       "      <td>True</td>\n",
       "      <td>not the asshole</td>\n",
       "      <td>10</td>\n",
       "      <td>19.0</td>\n",
       "      <td>0</td>\n",
       "      <td>6</td>\n",
       "      <td>...</td>\n",
       "      <td>0</td>\n",
       "      <td>0</td>\n",
       "      <td>0</td>\n",
       "      <td>0</td>\n",
       "      <td>0</td>\n",
       "      <td>0</td>\n",
       "      <td>0</td>\n",
       "      <td>0</td>\n",
       "      <td>0</td>\n",
       "      <td>0</td>\n",
       "    </tr>\n",
       "    <tr>\n",
       "      <th>11639</th>\n",
       "      <td>akgl0s</td>\n",
       "      <td>2019-01-27 22:24:24</td>\n",
       "      <td>AITA for ending a 24 year friendship with my b...</td>\n",
       "      <td>\\[\\n\\nI fully realize that anything I post is ...</td>\n",
       "      <td>True</td>\n",
       "      <td>everyone sucks</td>\n",
       "      <td>10</td>\n",
       "      <td>17.0</td>\n",
       "      <td>1</td>\n",
       "      <td>157</td>\n",
       "      <td>...</td>\n",
       "      <td>0</td>\n",
       "      <td>0</td>\n",
       "      <td>0</td>\n",
       "      <td>0</td>\n",
       "      <td>0</td>\n",
       "      <td>1</td>\n",
       "      <td>1</td>\n",
       "      <td>1</td>\n",
       "      <td>0</td>\n",
       "      <td>1</td>\n",
       "    </tr>\n",
       "    <tr>\n",
       "      <th>22678</th>\n",
       "      <td>b82ybn</td>\n",
       "      <td>2019-04-01 14:17:19</td>\n",
       "      <td>AITA for how I split up with my FWB?</td>\n",
       "      <td>\\n\\nSo there is this girl (D) who I have been...</td>\n",
       "      <td>False</td>\n",
       "      <td>asshole</td>\n",
       "      <td>7</td>\n",
       "      <td>68.0</td>\n",
       "      <td>1</td>\n",
       "      <td>31</td>\n",
       "      <td>...</td>\n",
       "      <td>0</td>\n",
       "      <td>0</td>\n",
       "      <td>0</td>\n",
       "      <td>0</td>\n",
       "      <td>0</td>\n",
       "      <td>0</td>\n",
       "      <td>0</td>\n",
       "      <td>1</td>\n",
       "      <td>0</td>\n",
       "      <td>0</td>\n",
       "    </tr>\n",
       "    <tr>\n",
       "      <th>22992</th>\n",
       "      <td>b8q7t3</td>\n",
       "      <td>2019-04-02 22:56:36</td>\n",
       "      <td>WIBTA if I refuse to tell the guy Im dating or...</td>\n",
       "      <td>So I am fairly young, 21, and I have been in ...</td>\n",
       "      <td>False</td>\n",
       "      <td>not the asshole</td>\n",
       "      <td>7</td>\n",
       "      <td>68.0</td>\n",
       "      <td>0</td>\n",
       "      <td>20</td>\n",
       "      <td>...</td>\n",
       "      <td>0</td>\n",
       "      <td>0</td>\n",
       "      <td>0</td>\n",
       "      <td>0</td>\n",
       "      <td>0</td>\n",
       "      <td>0</td>\n",
       "      <td>0</td>\n",
       "      <td>0</td>\n",
       "      <td>0</td>\n",
       "      <td>0</td>\n",
       "    </tr>\n",
       "    <tr>\n",
       "      <th>23472</th>\n",
       "      <td>b9mn2g</td>\n",
       "      <td>2019-04-05 04:10:42</td>\n",
       "      <td>AITA for getting upset my mother wants to sell...</td>\n",
       "      <td>Two months ago I had to move home to finish my...</td>\n",
       "      <td>False</td>\n",
       "      <td>asshole</td>\n",
       "      <td>4</td>\n",
       "      <td>10.0</td>\n",
       "      <td>1</td>\n",
       "      <td>21</td>\n",
       "      <td>...</td>\n",
       "      <td>0</td>\n",
       "      <td>0</td>\n",
       "      <td>0</td>\n",
       "      <td>0</td>\n",
       "      <td>0</td>\n",
       "      <td>1</td>\n",
       "      <td>0</td>\n",
       "      <td>1</td>\n",
       "      <td>0</td>\n",
       "      <td>0</td>\n",
       "    </tr>\n",
       "    <tr>\n",
       "      <th>29330</th>\n",
       "      <td>bjs6l8</td>\n",
       "      <td>2019-05-02 07:36:03</td>\n",
       "      <td>AITA for using the services of escorts in the ...</td>\n",
       "      <td>Like my title says, I slept with escorts in th...</td>\n",
       "      <td>False</td>\n",
       "      <td>not the asshole</td>\n",
       "      <td>10</td>\n",
       "      <td>78.0</td>\n",
       "      <td>0</td>\n",
       "      <td>31</td>\n",
       "      <td>...</td>\n",
       "      <td>0</td>\n",
       "      <td>0</td>\n",
       "      <td>0</td>\n",
       "      <td>0</td>\n",
       "      <td>0</td>\n",
       "      <td>0</td>\n",
       "      <td>0</td>\n",
       "      <td>0</td>\n",
       "      <td>0</td>\n",
       "      <td>0</td>\n",
       "    </tr>\n",
       "    <tr>\n",
       "      <th>31356</th>\n",
       "      <td>bnpuht</td>\n",
       "      <td>2019-05-12 15:00:21</td>\n",
       "      <td>AITA For Not Shaving?</td>\n",
       "      <td>My birthday is coming up, so I went out with a...</td>\n",
       "      <td>False</td>\n",
       "      <td>no assholes here</td>\n",
       "      <td>176</td>\n",
       "      <td>124.0</td>\n",
       "      <td>0</td>\n",
       "      <td>14</td>\n",
       "      <td>...</td>\n",
       "      <td>1</td>\n",
       "      <td>0</td>\n",
       "      <td>0</td>\n",
       "      <td>0</td>\n",
       "      <td>0</td>\n",
       "      <td>0</td>\n",
       "      <td>0</td>\n",
       "      <td>1</td>\n",
       "      <td>0</td>\n",
       "      <td>0</td>\n",
       "    </tr>\n",
       "    <tr>\n",
       "      <th>34792</th>\n",
       "      <td>bu8g6z</td>\n",
       "      <td>2019-05-29 01:25:27</td>\n",
       "      <td>AITA for breaking up with my gf for having and...</td>\n",
       "      <td>So my girlfriend (22) and I (24) have been dat...</td>\n",
       "      <td>True</td>\n",
       "      <td>asshole</td>\n",
       "      <td>13</td>\n",
       "      <td>53.0</td>\n",
       "      <td>1</td>\n",
       "      <td>31</td>\n",
       "      <td>...</td>\n",
       "      <td>0</td>\n",
       "      <td>0</td>\n",
       "      <td>0</td>\n",
       "      <td>0</td>\n",
       "      <td>0</td>\n",
       "      <td>0</td>\n",
       "      <td>0</td>\n",
       "      <td>0</td>\n",
       "      <td>0</td>\n",
       "      <td>0</td>\n",
       "    </tr>\n",
       "    <tr>\n",
       "      <th>41201</th>\n",
       "      <td>c5jcwd</td>\n",
       "      <td>2019-06-26 01:59:17</td>\n",
       "      <td>aita about hsv-1?</td>\n",
       "      <td>aita for not wanting to get serious with someo...</td>\n",
       "      <td>False</td>\n",
       "      <td>no assholes here</td>\n",
       "      <td>7</td>\n",
       "      <td>15.0</td>\n",
       "      <td>0</td>\n",
       "      <td>7</td>\n",
       "      <td>...</td>\n",
       "      <td>0</td>\n",
       "      <td>0</td>\n",
       "      <td>0</td>\n",
       "      <td>0</td>\n",
       "      <td>0</td>\n",
       "      <td>0</td>\n",
       "      <td>0</td>\n",
       "      <td>0</td>\n",
       "      <td>0</td>\n",
       "      <td>0</td>\n",
       "    </tr>\n",
       "    <tr>\n",
       "      <th>52583</th>\n",
       "      <td>cma42m</td>\n",
       "      <td>2019-08-05 12:03:41</td>\n",
       "      <td>WIBTA if i tell my ex's mother about him cheat...</td>\n",
       "      <td>Throwaway cuz he knows my real acc. We're both...</td>\n",
       "      <td>True</td>\n",
       "      <td>everyone sucks</td>\n",
       "      <td>4</td>\n",
       "      <td>15.0</td>\n",
       "      <td>1</td>\n",
       "      <td>14</td>\n",
       "      <td>...</td>\n",
       "      <td>0</td>\n",
       "      <td>0</td>\n",
       "      <td>0</td>\n",
       "      <td>0</td>\n",
       "      <td>0</td>\n",
       "      <td>1</td>\n",
       "      <td>0</td>\n",
       "      <td>1</td>\n",
       "      <td>0</td>\n",
       "      <td>1</td>\n",
       "    </tr>\n",
       "    <tr>\n",
       "      <th>60922</th>\n",
       "      <td>d0pgso</td>\n",
       "      <td>2019-09-07 01:00:49</td>\n",
       "      <td>WIBTA if I distance myself from guy who wants ...</td>\n",
       "      <td>I met this guy on a tinder. He told me he want...</td>\n",
       "      <td>False</td>\n",
       "      <td>no assholes here</td>\n",
       "      <td>4</td>\n",
       "      <td>4.0</td>\n",
       "      <td>0</td>\n",
       "      <td>21</td>\n",
       "      <td>...</td>\n",
       "      <td>0</td>\n",
       "      <td>0</td>\n",
       "      <td>0</td>\n",
       "      <td>0</td>\n",
       "      <td>0</td>\n",
       "      <td>0</td>\n",
       "      <td>0</td>\n",
       "      <td>1</td>\n",
       "      <td>0</td>\n",
       "      <td>1</td>\n",
       "    </tr>\n",
       "    <tr>\n",
       "      <th>60945</th>\n",
       "      <td>d0qz21</td>\n",
       "      <td>2019-09-07 03:22:55</td>\n",
       "      <td>AITA for not depositing checks in a timely man...</td>\n",
       "      <td>About 20 years ago I received an inheritance o...</td>\n",
       "      <td>True</td>\n",
       "      <td>asshole</td>\n",
       "      <td>52</td>\n",
       "      <td>49.0</td>\n",
       "      <td>1</td>\n",
       "      <td>47</td>\n",
       "      <td>...</td>\n",
       "      <td>0</td>\n",
       "      <td>0</td>\n",
       "      <td>0</td>\n",
       "      <td>0</td>\n",
       "      <td>0</td>\n",
       "      <td>1</td>\n",
       "      <td>1</td>\n",
       "      <td>0</td>\n",
       "      <td>0</td>\n",
       "      <td>1</td>\n",
       "    </tr>\n",
       "    <tr>\n",
       "      <th>61390</th>\n",
       "      <td>d1lqvz</td>\n",
       "      <td>2019-09-09 03:59:09</td>\n",
       "      <td>WIBTA if I called CPS on my neighbor?</td>\n",
       "      <td>Obligatory apology for formatting due to being...</td>\n",
       "      <td>True</td>\n",
       "      <td>not the asshole</td>\n",
       "      <td>11</td>\n",
       "      <td>22.0</td>\n",
       "      <td>0</td>\n",
       "      <td>17</td>\n",
       "      <td>...</td>\n",
       "      <td>0</td>\n",
       "      <td>0</td>\n",
       "      <td>0</td>\n",
       "      <td>0</td>\n",
       "      <td>0</td>\n",
       "      <td>1</td>\n",
       "      <td>0</td>\n",
       "      <td>1</td>\n",
       "      <td>0</td>\n",
       "      <td>1</td>\n",
       "    </tr>\n",
       "    <tr>\n",
       "      <th>61928</th>\n",
       "      <td>d2nsy2</td>\n",
       "      <td>2019-09-11 10:10:58</td>\n",
       "      <td>WIBTA if I demanded all of my Security Deposit...</td>\n",
       "      <td>In 2015 I rented an apartment for $3350 a mont...</td>\n",
       "      <td>False</td>\n",
       "      <td>not the asshole</td>\n",
       "      <td>37</td>\n",
       "      <td>39.0</td>\n",
       "      <td>0</td>\n",
       "      <td>27</td>\n",
       "      <td>...</td>\n",
       "      <td>0</td>\n",
       "      <td>0</td>\n",
       "      <td>0</td>\n",
       "      <td>0</td>\n",
       "      <td>0</td>\n",
       "      <td>0</td>\n",
       "      <td>0</td>\n",
       "      <td>0</td>\n",
       "      <td>0</td>\n",
       "      <td>1</td>\n",
       "    </tr>\n",
       "    <tr>\n",
       "      <th>62467</th>\n",
       "      <td>d3ptt7</td>\n",
       "      <td>2019-09-13 14:12:01</td>\n",
       "      <td>AITA if I don't let my ex know he's got chlamy...</td>\n",
       "      <td>Please read everything before you comment. \\n\\...</td>\n",
       "      <td>True</td>\n",
       "      <td>everyone sucks</td>\n",
       "      <td>589</td>\n",
       "      <td>111.0</td>\n",
       "      <td>1</td>\n",
       "      <td>28</td>\n",
       "      <td>...</td>\n",
       "      <td>0</td>\n",
       "      <td>0</td>\n",
       "      <td>0</td>\n",
       "      <td>0</td>\n",
       "      <td>0</td>\n",
       "      <td>0</td>\n",
       "      <td>0</td>\n",
       "      <td>0</td>\n",
       "      <td>0</td>\n",
       "      <td>1</td>\n",
       "    </tr>\n",
       "    <tr>\n",
       "      <th>65702</th>\n",
       "      <td>da1x3g</td>\n",
       "      <td>2019-09-27 15:20:39</td>\n",
       "      <td>WIBTA if I stopped paying my roommates rent?</td>\n",
       "      <td>Long story (gonna try to make it short)\\n\\n2 y...</td>\n",
       "      <td>False</td>\n",
       "      <td>not the asshole</td>\n",
       "      <td>86</td>\n",
       "      <td>41.0</td>\n",
       "      <td>0</td>\n",
       "      <td>8</td>\n",
       "      <td>...</td>\n",
       "      <td>0</td>\n",
       "      <td>0</td>\n",
       "      <td>0</td>\n",
       "      <td>0</td>\n",
       "      <td>0</td>\n",
       "      <td>0</td>\n",
       "      <td>0</td>\n",
       "      <td>1</td>\n",
       "      <td>0</td>\n",
       "      <td>0</td>\n",
       "    </tr>\n",
       "    <tr>\n",
       "      <th>75919</th>\n",
       "      <td>duf9dw</td>\n",
       "      <td>2019-11-10 18:34:44</td>\n",
       "      <td>AITA for bugging my friend to disclose his std...</td>\n",
       "      <td>\\nSo here it goes C (20F) have a friend L(21M)...</td>\n",
       "      <td>False</td>\n",
       "      <td>not the asshole</td>\n",
       "      <td>43</td>\n",
       "      <td>17.0</td>\n",
       "      <td>0</td>\n",
       "      <td>8</td>\n",
       "      <td>...</td>\n",
       "      <td>0</td>\n",
       "      <td>0</td>\n",
       "      <td>0</td>\n",
       "      <td>0</td>\n",
       "      <td>0</td>\n",
       "      <td>0</td>\n",
       "      <td>0</td>\n",
       "      <td>1</td>\n",
       "      <td>0</td>\n",
       "      <td>0</td>\n",
       "    </tr>\n",
       "    <tr>\n",
       "      <th>89410</th>\n",
       "      <td>ej0jzc</td>\n",
       "      <td>2020-01-02 16:42:56</td>\n",
       "      <td>AITA for not wanting to take another STD test?</td>\n",
       "      <td>So about a month ago I (33M) started seeing a ...</td>\n",
       "      <td>False</td>\n",
       "      <td>no assholes here</td>\n",
       "      <td>29</td>\n",
       "      <td>56.0</td>\n",
       "      <td>0</td>\n",
       "      <td>9</td>\n",
       "      <td>...</td>\n",
       "      <td>0</td>\n",
       "      <td>0</td>\n",
       "      <td>0</td>\n",
       "      <td>0</td>\n",
       "      <td>0</td>\n",
       "      <td>0</td>\n",
       "      <td>0</td>\n",
       "      <td>1</td>\n",
       "      <td>0</td>\n",
       "      <td>0</td>\n",
       "    </tr>\n",
       "    <tr>\n",
       "      <th>95433</th>\n",
       "      <td>et839w</td>\n",
       "      <td>2020-01-24 09:27:47</td>\n",
       "      <td>AITA : for being upset about my mother’s (50F)...</td>\n",
       "      <td>Last Friday I (30F)walked in on her and her ne...</td>\n",
       "      <td>False</td>\n",
       "      <td>asshole</td>\n",
       "      <td>10</td>\n",
       "      <td>49.0</td>\n",
       "      <td>1</td>\n",
       "      <td>10</td>\n",
       "      <td>...</td>\n",
       "      <td>0</td>\n",
       "      <td>0</td>\n",
       "      <td>0</td>\n",
       "      <td>0</td>\n",
       "      <td>0</td>\n",
       "      <td>1</td>\n",
       "      <td>0</td>\n",
       "      <td>1</td>\n",
       "      <td>0</td>\n",
       "      <td>0</td>\n",
       "    </tr>\n",
       "  </tbody>\n",
       "</table>\n",
       "<p>19 rows × 51 columns</p>\n",
       "</div>"
      ],
      "text/plain": [
       "           id            timestamp  \\\n",
       "5245   9u68zb  2018-11-04 19:26:38   \n",
       "11639  akgl0s  2019-01-27 22:24:24   \n",
       "22678  b82ybn  2019-04-01 14:17:19   \n",
       "22992  b8q7t3  2019-04-02 22:56:36   \n",
       "23472  b9mn2g  2019-04-05 04:10:42   \n",
       "29330  bjs6l8  2019-05-02 07:36:03   \n",
       "31356  bnpuht  2019-05-12 15:00:21   \n",
       "34792  bu8g6z  2019-05-29 01:25:27   \n",
       "41201  c5jcwd  2019-06-26 01:59:17   \n",
       "52583  cma42m  2019-08-05 12:03:41   \n",
       "60922  d0pgso  2019-09-07 01:00:49   \n",
       "60945  d0qz21  2019-09-07 03:22:55   \n",
       "61390  d1lqvz  2019-09-09 03:59:09   \n",
       "61928  d2nsy2  2019-09-11 10:10:58   \n",
       "62467  d3ptt7  2019-09-13 14:12:01   \n",
       "65702  da1x3g  2019-09-27 15:20:39   \n",
       "75919  duf9dw  2019-11-10 18:34:44   \n",
       "89410  ej0jzc  2020-01-02 16:42:56   \n",
       "95433  et839w  2020-01-24 09:27:47   \n",
       "\n",
       "                                                   title  \\\n",
       "5245   AITA for calling karma on my friend who had TW...   \n",
       "11639  AITA for ending a 24 year friendship with my b...   \n",
       "22678               AITA for how I split up with my FWB?   \n",
       "22992  WIBTA if I refuse to tell the guy Im dating or...   \n",
       "23472  AITA for getting upset my mother wants to sell...   \n",
       "29330  AITA for using the services of escorts in the ...   \n",
       "31356                              AITA For Not Shaving?   \n",
       "34792  AITA for breaking up with my gf for having and...   \n",
       "41201                                  aita about hsv-1?   \n",
       "52583  WIBTA if i tell my ex's mother about him cheat...   \n",
       "60922  WIBTA if I distance myself from guy who wants ...   \n",
       "60945  AITA for not depositing checks in a timely man...   \n",
       "61390              WIBTA if I called CPS on my neighbor?   \n",
       "61928  WIBTA if I demanded all of my Security Deposit...   \n",
       "62467  AITA if I don't let my ex know he's got chlamy...   \n",
       "65702       WIBTA if I stopped paying my roommates rent?   \n",
       "75919  AITA for bugging my friend to disclose his std...   \n",
       "89410     AITA for not wanting to take another STD test?   \n",
       "95433  AITA : for being upset about my mother’s (50F)...   \n",
       "\n",
       "                                                    body  edited  \\\n",
       "5245   And now he deleted me from his social media be...    True   \n",
       "11639  \\[\\n\\nI fully realize that anything I post is ...    True   \n",
       "22678   \\n\\nSo there is this girl (D) who I have been...   False   \n",
       "22992   So I am fairly young, 21, and I have been in ...   False   \n",
       "23472  Two months ago I had to move home to finish my...   False   \n",
       "29330  Like my title says, I slept with escorts in th...   False   \n",
       "31356  My birthday is coming up, so I went out with a...   False   \n",
       "34792  So my girlfriend (22) and I (24) have been dat...    True   \n",
       "41201  aita for not wanting to get serious with someo...   False   \n",
       "52583  Throwaway cuz he knows my real acc. We're both...    True   \n",
       "60922  I met this guy on a tinder. He told me he want...   False   \n",
       "60945  About 20 years ago I received an inheritance o...    True   \n",
       "61390  Obligatory apology for formatting due to being...    True   \n",
       "61928  In 2015 I rented an apartment for $3350 a mont...   False   \n",
       "62467  Please read everything before you comment. \\n\\...    True   \n",
       "65702  Long story (gonna try to make it short)\\n\\n2 y...   False   \n",
       "75919  \\nSo here it goes C (20F) have a friend L(21M)...   False   \n",
       "89410  So about a month ago I (33M) started seeing a ...   False   \n",
       "95433  Last Friday I (30F)walked in on her and her ne...   False   \n",
       "\n",
       "                verdict  score  num_comments  is_asshole  countI  ...  \\\n",
       "5245    not the asshole     10          19.0           0       6  ...   \n",
       "11639    everyone sucks     10          17.0           1     157  ...   \n",
       "22678           asshole      7          68.0           1      31  ...   \n",
       "22992   not the asshole      7          68.0           0      20  ...   \n",
       "23472           asshole      4          10.0           1      21  ...   \n",
       "29330   not the asshole     10          78.0           0      31  ...   \n",
       "31356  no assholes here    176         124.0           0      14  ...   \n",
       "34792           asshole     13          53.0           1      31  ...   \n",
       "41201  no assholes here      7          15.0           0       7  ...   \n",
       "52583    everyone sucks      4          15.0           1      14  ...   \n",
       "60922  no assholes here      4           4.0           0      21  ...   \n",
       "60945           asshole     52          49.0           1      47  ...   \n",
       "61390   not the asshole     11          22.0           0      17  ...   \n",
       "61928   not the asshole     37          39.0           0      27  ...   \n",
       "62467    everyone sucks    589         111.0           1      28  ...   \n",
       "65702   not the asshole     86          41.0           0       8  ...   \n",
       "75919   not the asshole     43          17.0           0       8  ...   \n",
       "89410  no assholes here     29          56.0           0       9  ...   \n",
       "95433           asshole     10          49.0           1      10  ...   \n",
       "\n",
       "       colleagues  employees  stepfam  godfam grandparents  parents  siblings  \\\n",
       "5245            0          0        0       0            0        0         0   \n",
       "11639           0          0        0       0            0        1         1   \n",
       "22678           0          0        0       0            0        0         0   \n",
       "22992           0          0        0       0            0        0         0   \n",
       "23472           0          0        0       0            0        1         0   \n",
       "29330           0          0        0       0            0        0         0   \n",
       "31356           1          0        0       0            0        0         0   \n",
       "34792           0          0        0       0            0        0         0   \n",
       "41201           0          0        0       0            0        0         0   \n",
       "52583           0          0        0       0            0        1         0   \n",
       "60922           0          0        0       0            0        0         0   \n",
       "60945           0          0        0       0            0        1         1   \n",
       "61390           0          0        0       0            0        1         0   \n",
       "61928           0          0        0       0            0        0         0   \n",
       "62467           0          0        0       0            0        0         0   \n",
       "65702           0          0        0       0            0        0         0   \n",
       "75919           0          0        0       0            0        0         0   \n",
       "89410           0          0        0       0            0        0         0   \n",
       "95433           0          0        0       0            0        1         0   \n",
       "\n",
       "       kids  relatives  inlaws  \n",
       "5245      0          0       0  \n",
       "11639     1          0       1  \n",
       "22678     1          0       0  \n",
       "22992     0          0       0  \n",
       "23472     1          0       0  \n",
       "29330     0          0       0  \n",
       "31356     1          0       0  \n",
       "34792     0          0       0  \n",
       "41201     0          0       0  \n",
       "52583     1          0       1  \n",
       "60922     1          0       1  \n",
       "60945     0          0       1  \n",
       "61390     1          0       1  \n",
       "61928     0          0       1  \n",
       "62467     0          0       1  \n",
       "65702     1          0       0  \n",
       "75919     1          0       0  \n",
       "89410     1          0       0  \n",
       "95433     1          0       0  \n",
       "\n",
       "[19 rows x 51 columns]"
      ]
     },
     "execution_count": 116,
     "metadata": {},
     "output_type": "execute_result"
    }
   ],
   "source": [
    "#Test code on str.contains, looking for specific words contained in titles/posts.\n",
    "mask = df['body'].str.contains(r'std')\n",
    "df.loc[mask]"
   ]
  },
  {
   "cell_type": "markdown",
   "metadata": {},
   "source": [
    "For future work: We can groupby verbs, nouns, and adjectives, to see if there are any interesting patterns that stick out."
   ]
  },
  {
   "cell_type": "code",
   "execution_count": 117,
   "metadata": {},
   "outputs": [],
   "source": [
    "sid = SentimentIntensityAnalyzer()\n",
    "\n",
    "def sidscore(title):\n",
    "    \n",
    "    isasshole_valence = []\n",
    "    \n",
    "    for i in title:\n",
    "        isasshole_valence.append(sid.polarity_scores(i))\n",
    "                             \n",
    "    return isasshole_valence"
   ]
  },
  {
   "cell_type": "code",
   "execution_count": 118,
   "metadata": {},
   "outputs": [],
   "source": [
    "new_var = sidscore(df['title'])\n",
    "new_var = pd.DataFrame(new_var)"
   ]
  },
  {
   "cell_type": "code",
   "execution_count": 119,
   "metadata": {},
   "outputs": [],
   "source": [
    "df = pd.concat([df, new_var], axis=1)"
   ]
  },
  {
   "cell_type": "code",
   "execution_count": 120,
   "metadata": {
    "scrolled": false
   },
   "outputs": [
    {
     "data": {
      "text/html": [
       "<div>\n",
       "<style scoped>\n",
       "    .dataframe tbody tr th:only-of-type {\n",
       "        vertical-align: middle;\n",
       "    }\n",
       "\n",
       "    .dataframe tbody tr th {\n",
       "        vertical-align: top;\n",
       "    }\n",
       "\n",
       "    .dataframe thead th {\n",
       "        text-align: right;\n",
       "    }\n",
       "</style>\n",
       "<table border=\"1\" class=\"dataframe\">\n",
       "  <thead>\n",
       "    <tr style=\"text-align: right;\">\n",
       "      <th></th>\n",
       "      <th>id</th>\n",
       "      <th>timestamp</th>\n",
       "      <th>title</th>\n",
       "      <th>body</th>\n",
       "      <th>edited</th>\n",
       "      <th>verdict</th>\n",
       "      <th>score</th>\n",
       "      <th>num_comments</th>\n",
       "      <th>is_asshole</th>\n",
       "      <th>countI</th>\n",
       "      <th>...</th>\n",
       "      <th>grandparents</th>\n",
       "      <th>parents</th>\n",
       "      <th>siblings</th>\n",
       "      <th>kids</th>\n",
       "      <th>relatives</th>\n",
       "      <th>inlaws</th>\n",
       "      <th>neg</th>\n",
       "      <th>neu</th>\n",
       "      <th>pos</th>\n",
       "      <th>compound</th>\n",
       "    </tr>\n",
       "  </thead>\n",
       "  <tbody>\n",
       "    <tr>\n",
       "      <th>0</th>\n",
       "      <td>1ytxov</td>\n",
       "      <td>2014-02-24 21:50:51</td>\n",
       "      <td>[AITA] I wrote an explanation in TIL and came ...</td>\n",
       "      <td>[Here is the post in question](http://www.redd...</td>\n",
       "      <td>False</td>\n",
       "      <td>asshole</td>\n",
       "      <td>52.0</td>\n",
       "      <td>13.0</td>\n",
       "      <td>1.0</td>\n",
       "      <td>8.0</td>\n",
       "      <td>...</td>\n",
       "      <td>0.0</td>\n",
       "      <td>0.0</td>\n",
       "      <td>0.0</td>\n",
       "      <td>0.0</td>\n",
       "      <td>0.0</td>\n",
       "      <td>0.0</td>\n",
       "      <td>0.000</td>\n",
       "      <td>1.000</td>\n",
       "      <td>0.000</td>\n",
       "      <td>0.0000</td>\n",
       "    </tr>\n",
       "    <tr>\n",
       "      <th>1</th>\n",
       "      <td>1yu29c</td>\n",
       "      <td>2014-02-24 22:33:04</td>\n",
       "      <td>[AITA] Threw my parent's donuts away</td>\n",
       "      <td>My parents are diabetic, morbidly obese, and a...</td>\n",
       "      <td>True</td>\n",
       "      <td>asshole</td>\n",
       "      <td>140.0</td>\n",
       "      <td>27.0</td>\n",
       "      <td>1.0</td>\n",
       "      <td>7.0</td>\n",
       "      <td>...</td>\n",
       "      <td>0.0</td>\n",
       "      <td>0.0</td>\n",
       "      <td>0.0</td>\n",
       "      <td>0.0</td>\n",
       "      <td>0.0</td>\n",
       "      <td>0.0</td>\n",
       "      <td>0.000</td>\n",
       "      <td>1.000</td>\n",
       "      <td>0.000</td>\n",
       "      <td>0.0000</td>\n",
       "    </tr>\n",
       "    <tr>\n",
       "      <th>2</th>\n",
       "      <td>1yu8hi</td>\n",
       "      <td>2014-02-24 23:31:17</td>\n",
       "      <td>I told a goth girl she looked like a clown.</td>\n",
       "      <td>I was four.</td>\n",
       "      <td>False</td>\n",
       "      <td>not the asshole</td>\n",
       "      <td>74.0</td>\n",
       "      <td>15.0</td>\n",
       "      <td>0.0</td>\n",
       "      <td>1.0</td>\n",
       "      <td>...</td>\n",
       "      <td>0.0</td>\n",
       "      <td>0.0</td>\n",
       "      <td>0.0</td>\n",
       "      <td>0.0</td>\n",
       "      <td>0.0</td>\n",
       "      <td>0.0</td>\n",
       "      <td>0.000</td>\n",
       "      <td>0.706</td>\n",
       "      <td>0.294</td>\n",
       "      <td>0.3612</td>\n",
       "    </tr>\n",
       "    <tr>\n",
       "      <th>3</th>\n",
       "      <td>1yuc78</td>\n",
       "      <td>2014-02-25 00:05:28</td>\n",
       "      <td>[AItA]: Argument I had with another redditor i...</td>\n",
       "      <td>http://www.reddit.com/r/HIMYM/comments/1vvfkq/...</td>\n",
       "      <td>True</td>\n",
       "      <td>everyone sucks</td>\n",
       "      <td>22.0</td>\n",
       "      <td>3.0</td>\n",
       "      <td>1.0</td>\n",
       "      <td>2.0</td>\n",
       "      <td>...</td>\n",
       "      <td>0.0</td>\n",
       "      <td>1.0</td>\n",
       "      <td>0.0</td>\n",
       "      <td>0.0</td>\n",
       "      <td>0.0</td>\n",
       "      <td>0.0</td>\n",
       "      <td>0.263</td>\n",
       "      <td>0.737</td>\n",
       "      <td>0.000</td>\n",
       "      <td>-0.3612</td>\n",
       "    </tr>\n",
       "    <tr>\n",
       "      <th>4</th>\n",
       "      <td>NaN</td>\n",
       "      <td>NaN</td>\n",
       "      <td>NaN</td>\n",
       "      <td>NaN</td>\n",
       "      <td>NaN</td>\n",
       "      <td>NaN</td>\n",
       "      <td>NaN</td>\n",
       "      <td>NaN</td>\n",
       "      <td>NaN</td>\n",
       "      <td>NaN</td>\n",
       "      <td>...</td>\n",
       "      <td>NaN</td>\n",
       "      <td>NaN</td>\n",
       "      <td>NaN</td>\n",
       "      <td>NaN</td>\n",
       "      <td>NaN</td>\n",
       "      <td>NaN</td>\n",
       "      <td>0.263</td>\n",
       "      <td>0.737</td>\n",
       "      <td>0.000</td>\n",
       "      <td>-0.3612</td>\n",
       "    </tr>\n",
       "  </tbody>\n",
       "</table>\n",
       "<p>5 rows × 55 columns</p>\n",
       "</div>"
      ],
      "text/plain": [
       "       id            timestamp  \\\n",
       "0  1ytxov  2014-02-24 21:50:51   \n",
       "1  1yu29c  2014-02-24 22:33:04   \n",
       "2  1yu8hi  2014-02-24 23:31:17   \n",
       "3  1yuc78  2014-02-25 00:05:28   \n",
       "4     NaN                  NaN   \n",
       "\n",
       "                                               title  \\\n",
       "0  [AITA] I wrote an explanation in TIL and came ...   \n",
       "1               [AITA] Threw my parent's donuts away   \n",
       "2        I told a goth girl she looked like a clown.   \n",
       "3  [AItA]: Argument I had with another redditor i...   \n",
       "4                                                NaN   \n",
       "\n",
       "                                                body edited          verdict  \\\n",
       "0  [Here is the post in question](http://www.redd...  False          asshole   \n",
       "1  My parents are diabetic, morbidly obese, and a...   True          asshole   \n",
       "2                                        I was four.  False  not the asshole   \n",
       "3  http://www.reddit.com/r/HIMYM/comments/1vvfkq/...   True   everyone sucks   \n",
       "4                                                NaN    NaN              NaN   \n",
       "\n",
       "   score  num_comments  is_asshole  countI  ...  grandparents  parents  \\\n",
       "0   52.0          13.0         1.0     8.0  ...           0.0      0.0   \n",
       "1  140.0          27.0         1.0     7.0  ...           0.0      0.0   \n",
       "2   74.0          15.0         0.0     1.0  ...           0.0      0.0   \n",
       "3   22.0           3.0         1.0     2.0  ...           0.0      1.0   \n",
       "4    NaN           NaN         NaN     NaN  ...           NaN      NaN   \n",
       "\n",
       "   siblings  kids relatives  inlaws    neg    neu    pos compound  \n",
       "0       0.0   0.0       0.0     0.0  0.000  1.000  0.000   0.0000  \n",
       "1       0.0   0.0       0.0     0.0  0.000  1.000  0.000   0.0000  \n",
       "2       0.0   0.0       0.0     0.0  0.000  0.706  0.294   0.3612  \n",
       "3       0.0   0.0       0.0     0.0  0.263  0.737  0.000  -0.3612  \n",
       "4       NaN   NaN       NaN     NaN  0.263  0.737  0.000  -0.3612  \n",
       "\n",
       "[5 rows x 55 columns]"
      ]
     },
     "execution_count": 120,
     "metadata": {},
     "output_type": "execute_result"
    }
   ],
   "source": [
    "df.head()\n",
    "\n",
    "#group by increasing neg, and see if is_asshole is more likely at the upper quartile vs lower quartile of neg."
   ]
  },
  {
   "cell_type": "code",
   "execution_count": 121,
   "metadata": {
    "scrolled": true
   },
   "outputs": [
    {
     "data": {
      "text/plain": [
       "Text(0.5, 1.0, 'neg')"
      ]
     },
     "execution_count": 121,
     "metadata": {},
     "output_type": "execute_result"
    },
    {
     "data": {
      "image/png": "[encoded data removed]",
      "text/plain": [
       "<Figure size 432x288 with 1 Axes>"
      ]
     },
     "metadata": {
      "needs_background": "light"
     },
     "output_type": "display_data"
    }
   ],
   "source": [
    "#Notice the huge amount of zeros, i.e. more than half are largely assessed as positive valence. Let's zoom in.\n",
    "\n",
    "plt.hist(df['neg'], bins=100);\n",
    "plt.xlabel('Negative Valence')\n",
    "plt.ylabel('How many posts with that particular proportion')\n",
    "plt.title('neg')"
   ]
  },
  {
   "cell_type": "code",
   "execution_count": 122,
   "metadata": {
    "scrolled": true
   },
   "outputs": [
    {
     "data": {
      "text/plain": [
       "Text(0.5, 1.0, 'neg')"
      ]
     },
     "execution_count": 122,
     "metadata": {},
     "output_type": "execute_result"
    },
    {
     "data": {
      "image/png": "[encoded data removed]",
      "text/plain": [
       "<Figure size 432x288 with 1 Axes>"
      ]
     },
     "metadata": {
      "needs_background": "light"
     },
     "output_type": "display_data"
    }
   ],
   "source": [
    "#Most neg, adding up to ~40,000\n",
    "\n",
    "plt.hist(df['neg'], bins=100);\n",
    "plt.xlim(0.01, 0.8)\n",
    "plt.ylim(0, 2000)\n",
    "plt.xlabel('Negative Valence')\n",
    "plt.ylabel('How many posts with that particular proportion')\n",
    "plt.title('neg')"
   ]
  },
  {
   "cell_type": "code",
   "execution_count": 123,
   "metadata": {},
   "outputs": [],
   "source": [
    "neg_quantilelow = df['neg'].quantile(q=0.2)\n",
    "neg_quantilehigh = df['neg'].quantile(q=0.8)\n",
    "\n",
    "df['neg_highQ'] = df['neg'].apply(lambda x: x > neg_quantilehigh)\n",
    "df['neg_lowQ'] = df['neg'].apply(lambda x: x > neg_quantilelow)"
   ]
  },
  {
   "cell_type": "code",
   "execution_count": 124,
   "metadata": {},
   "outputs": [],
   "source": [
    "negH_mean1, negH_mean2 = df.groupby('neg_highQ')['is_asshole'].mean()\n",
    "negL_mean1, negL_mean2 = df.groupby('neg_lowQ')['is_asshole'].mean()"
   ]
  },
  {
   "cell_type": "code",
   "execution_count": 125,
   "metadata": {},
   "outputs": [
    {
     "name": "stdout",
     "output_type": "stream",
     "text": [
      "0.27138926217444165 0.2713593733896733\n",
      "0.27041966688486435 0.2726289810788577\n"
     ]
    }
   ],
   "source": [
    "print(negH_mean1, negH_mean2)\n",
    "print(negL_mean1, negL_mean2)"
   ]
  },
  {
   "cell_type": "code",
   "execution_count": 126,
   "metadata": {},
   "outputs": [],
   "source": [
    "neg_HQ_isasshole = df.loc[df.is_asshole == 1, 'neg_highQ']\n",
    "neg_HQ_notasshole = df.loc[df.is_asshole == 0, 'neg_highQ']\n",
    "\n",
    "neg_LQ_isasshole = df.loc[df.is_asshole == 1, 'neg_lowQ']\n",
    "neg_LQ_notasshole = df.loc[df.is_asshole == 0, 'neg_lowQ']\n"
   ]
  },
  {
   "cell_type": "code",
   "execution_count": 127,
   "metadata": {},
   "outputs": [
    {
     "name": "stdout",
     "output_type": "stream",
     "text": [
      "Ttest_indResult(statistic=-0.008380306393523876, pvalue=0.99331357831679)\n",
      "Ttest_indResult(statistic=0.7695014353544162, pvalue=0.4415975561801805)\n"
     ]
    }
   ],
   "source": [
    "print(ttest_ind(neg_HQ_isasshole, neg_HQ_notasshole))\n",
    "\n",
    "print(ttest_ind(neg_LQ_isasshole, neg_LQ_notasshole))\n",
    "\n",
    "#No signifcance indicated here, esp. as compared to our other features."
   ]
  },
  {
   "cell_type": "code",
   "execution_count": 128,
   "metadata": {
    "scrolled": true
   },
   "outputs": [
    {
     "data": {
      "text/plain": [
       "Text(0.5, 1.0, 'pos')"
      ]
     },
     "execution_count": 128,
     "metadata": {},
     "output_type": "execute_result"
    },
    {
     "data": {
      "image/png": "[encoded data removed]",
      "text/plain": [
       "<Figure size 432x288 with 1 Axes>"
      ]
     },
     "metadata": {
      "needs_background": "light"
     },
     "output_type": "display_data"
    }
   ],
   "source": [
    "#Notice the huge amount of zeros, i.e. almost 70000 are not positive valence. Let's zoom in.\n",
    "\n",
    "plt.hist(df['pos'], bins=100);\n",
    "plt.xlabel('Positive Valence')\n",
    "plt.ylabel('How many posts with that particular proportion')\n",
    "plt.title('pos')"
   ]
  },
  {
   "cell_type": "code",
   "execution_count": 129,
   "metadata": {
    "scrolled": true
   },
   "outputs": [
    {
     "data": {
      "text/plain": [
       "Text(0.5, 1.0, 'neg')"
      ]
     },
     "execution_count": 129,
     "metadata": {},
     "output_type": "execute_result"
    },
    {
     "data": {
      "image/png": "[encoded data removed]",
      "text/plain": [
       "<Figure size 432x288 with 1 Axes>"
      ]
     },
     "metadata": {
      "needs_background": "light"
     },
     "output_type": "display_data"
    }
   ],
   "source": [
    "#Most neg, adding up to ~25,000\n",
    "\n",
    "plt.hist(df['pos'], bins=100);\n",
    "plt.xlim(0.01, 0.8)\n",
    "plt.ylim(0, 1500)\n",
    "plt.xlabel('Negative Valence')\n",
    "plt.ylabel('How many posts with that particular proportion')\n",
    "plt.title('neg')"
   ]
  },
  {
   "cell_type": "code",
   "execution_count": 130,
   "metadata": {},
   "outputs": [],
   "source": [
    "pos_quantilelow = df['pos'].quantile(q=0.2)\n",
    "pos_quantilehigh = df['pos'].quantile(q=0.8)\n",
    "\n",
    "df['pos_highQ'] = df['pos'].apply(lambda x: x > pos_quantilehigh)\n",
    "df['pos_lowQ'] = df['pos'].apply(lambda x: x > pos_quantilelow)"
   ]
  },
  {
   "cell_type": "code",
   "execution_count": 131,
   "metadata": {},
   "outputs": [],
   "source": [
    "posH_mean1, posH_mean2 = df.groupby('pos_highQ')['is_asshole'].mean()\n",
    "posL_mean1, posL_mean2 = df.groupby('pos_lowQ')['is_asshole'].mean()"
   ]
  },
  {
   "cell_type": "code",
   "execution_count": 132,
   "metadata": {},
   "outputs": [
    {
     "name": "stdout",
     "output_type": "stream",
     "text": [
      "0.2713307090639538 0.2715966212364616\n",
      "0.27072252435307476 0.27282825312816494\n"
     ]
    }
   ],
   "source": [
    "print(posH_mean1, posH_mean2)\n",
    "print(posL_mean1, posL_mean2)\n",
    "\n"
   ]
  },
  {
   "cell_type": "code",
   "execution_count": 133,
   "metadata": {},
   "outputs": [],
   "source": [
    "pos_HQ_isasshole = df.loc[df.is_asshole == 1, 'pos_highQ']\n",
    "pos_HQ_notasshole = df.loc[df.is_asshole == 0, 'pos_highQ']\n",
    "\n",
    "pos_LQ_isasshole = df.loc[df.is_asshole == 1, 'pos_lowQ']\n",
    "pos_LQ_notasshole = df.loc[df.is_asshole == 0, 'pos_lowQ']\n"
   ]
  },
  {
   "cell_type": "code",
   "execution_count": 134,
   "metadata": {},
   "outputs": [
    {
     "name": "stdout",
     "output_type": "stream",
     "text": [
      "Ttest_indResult(statistic=0.07439940610989329, pvalue=0.9406927339198379)\n",
      "Ttest_indResult(statistic=0.6862869961912869, pvalue=0.49253377880798055)\n"
     ]
    }
   ],
   "source": [
    "print(ttest_ind(pos_HQ_isasshole, pos_HQ_notasshole))\n",
    "\n",
    "print(ttest_ind(pos_LQ_isasshole, pos_LQ_notasshole))\n",
    "\n",
    "#No signifcance indicated here, esp. as compared to our other features."
   ]
  },
  {
   "cell_type": "markdown",
   "metadata": {},
   "source": [
    "And, finally, let's groupby negative, to see if valence in the title leads to a greater likelihood of being an asshole:\n",
    "\n",
    "& by compound:\n",
    "\n",
    "(We can delete the \"neutral\" column, since we're not very interested in neutrality.)"
   ]
  },
  {
   "cell_type": "code",
   "execution_count": 135,
   "metadata": {
    "scrolled": true
   },
   "outputs": [
    {
     "data": {
      "text/plain": [
       "Text(0.5, 1.0, 'Compound')"
      ]
     },
     "execution_count": 135,
     "metadata": {},
     "output_type": "execute_result"
    },
    {
     "data": {
      "image/png": "[encoded data removed]",
      "text/plain": [
       "<Figure size 432x288 with 1 Axes>"
      ]
     },
     "metadata": {
      "needs_background": "light"
     },
     "output_type": "display_data"
    }
   ],
   "source": [
    "#Most posts are revealed to have a neutral valence (0), adding up to < 40,000\n",
    "\n",
    "plt.hist(df['compound'], bins=100);\n",
    "plt.xlabel('Compounded Valence')\n",
    "plt.ylabel('Overall valence of post')\n",
    "plt.title('Compound')"
   ]
  },
  {
   "cell_type": "code",
   "execution_count": 136,
   "metadata": {
    "scrolled": false
   },
   "outputs": [
    {
     "data": {
      "text/plain": [
       "Text(0.5, 1.0, 'Overall valence of posts, negative tail')"
      ]
     },
     "execution_count": 136,
     "metadata": {},
     "output_type": "execute_result"
    },
    {
     "data": {
      "image/png": "[encoded data removed]",
      "text/plain": [
       "<Figure size 432x288 with 1 Axes>"
      ]
     },
     "metadata": {
      "needs_background": "light"
     },
     "output_type": "display_data"
    }
   ],
   "source": [
    "#Interesting that this is manifested differently from the standard curve we saw with \"neg\" earlier.\n",
    "\n",
    "plt.hist(df['compound'], bins=100);\n",
    "plt.xlim(-1, -0.001)\n",
    "plt.ylim(0, 5000)\n",
    "plt.xlabel('Posts having an overall negative valence')\n",
    "plt.ylabel('How many posts with that proportion')\n",
    "plt.title('Overall valence of posts, negative tail')"
   ]
  },
  {
   "cell_type": "code",
   "execution_count": 137,
   "metadata": {
    "scrolled": true
   },
   "outputs": [
    {
     "data": {
      "text/plain": [
       "Text(0.5, 1.0, 'Overall valence of posts, positive tail')"
      ]
     },
     "execution_count": 137,
     "metadata": {},
     "output_type": "execute_result"
    },
    {
     "data": {
      "image/png": "[encoded data removed]",
      "text/plain": [
       "<Figure size 432x288 with 1 Axes>"
      ]
     },
     "metadata": {
      "needs_background": "light"
     },
     "output_type": "display_data"
    }
   ],
   "source": [
    "#Notice the huge amount of zeros, i.e. more than half are largely assessed as positive valence. Let's zoom in.\n",
    "\n",
    "plt.hist(df['compound'], bins=100);\n",
    "plt.xlim(0.001, 1)\n",
    "plt.ylim(0, 5000)\n",
    "plt.xlabel('Posts having an overall positive valence')\n",
    "plt.ylabel('How many posts with that proportion')\n",
    "plt.title('Overall valence of posts, positive tail')"
   ]
  },
  {
   "cell_type": "markdown",
   "metadata": {},
   "source": [
    "Curious to see the spikes at the 0.5 and -0.4 space. Warrants further investigation."
   ]
  },
  {
   "cell_type": "code",
   "execution_count": 138,
   "metadata": {},
   "outputs": [],
   "source": [
    "compound_quantilelow = df['compound'].quantile(q=0.2)\n",
    "compound_quantilehigh = df['compound'].quantile(q=0.8)\n",
    "\n",
    "df['compound_highQ'] = df['compound'].apply(lambda x: x > compound_quantilehigh)\n",
    "df['compound_lowQ'] = df['compound'].apply(lambda x: x > compound_quantilelow)"
   ]
  },
  {
   "cell_type": "code",
   "execution_count": 139,
   "metadata": {},
   "outputs": [],
   "source": [
    "compoundH_mean1, compoundH_mean2 = df.groupby('compound_highQ')['is_asshole'].mean()\n",
    "compoundL_mean1, compoundL_mean2 = df.groupby('compound_lowQ')['is_asshole'].mean()"
   ]
  },
  {
   "cell_type": "code",
   "execution_count": 140,
   "metadata": {},
   "outputs": [
    {
     "name": "stdout",
     "output_type": "stream",
     "text": [
      "0.2707620409622555 0.27391417425227566\n",
      "0.26943593796305443 0.27189339543308105\n"
     ]
    }
   ],
   "source": [
    "print(compoundH_mean1, compoundH_mean2)\n",
    "print(compoundL_mean1, compoundL_mean2)"
   ]
  },
  {
   "cell_type": "code",
   "execution_count": 141,
   "metadata": {},
   "outputs": [],
   "source": [
    "compound_HQ_isasshole = df.loc[df.is_asshole == 1, 'compound_highQ']\n",
    "compound_HQ_notasshole = df.loc[df.is_asshole == 0, 'compound_highQ']\n",
    "\n",
    "compound_LQ_isasshole = df.loc[df.is_asshole == 1, 'compound_lowQ']\n",
    "compound_LQ_notasshole = df.loc[df.is_asshole == 0, 'compound_lowQ']\n"
   ]
  },
  {
   "cell_type": "code",
   "execution_count": 142,
   "metadata": {},
   "outputs": [
    {
     "name": "stdout",
     "output_type": "stream",
     "text": [
      "Ttest_indResult(statistic=0.880695021056485, pvalue=0.3784850823383167)\n",
      "Ttest_indResult(statistic=0.6999922568042284, pvalue=0.48393380961153787)\n"
     ]
    }
   ],
   "source": [
    "print(ttest_ind(compound_HQ_isasshole, compound_HQ_notasshole))\n",
    "\n",
    "print(ttest_ind(compound_LQ_isasshole, compound_LQ_notasshole))\n",
    "\n",
    "#No signifcance indicated here, esp. as compared to our other features."
   ]
  },
  {
   "cell_type": "markdown",
   "metadata": {},
   "source": [
    "Fascinating - valence in the title has no relationship with whether or not someone is an asshole."
   ]
  },
  {
   "cell_type": "markdown",
   "metadata": {},
   "source": [
    "Then some final cleanup:"
   ]
  },
  {
   "cell_type": "code",
   "execution_count": 143,
   "metadata": {
    "scrolled": false
   },
   "outputs": [
    {
     "data": {
      "text/plain": [
       "Index(['id', 'timestamp', 'title', 'body', 'edited', 'verdict', 'score',\n",
       "       'num_comments', 'is_asshole', 'countI', 'countHeSheThey',\n",
       "       'IvsHeSheThey', 'post_word_count', 'questionmarklast', 'WIBTA_AITA',\n",
       "       'bodyreadinglevel', 'countI_highQ', 'countI_lowQ',\n",
       "       'countHeSheThey_highQ', 'countHeSheThey_lowQ', 'IvsHeSheThey_highQ',\n",
       "       'IvsHeSheThey_lowQ', 'post_word_count_highQ', 'post_word_count_lowQ',\n",
       "       'IoverPostCount', 'IoverPostCount_highQ', 'IoverPostCount_lowQ',\n",
       "       'bodyreadinglevel_highQ', 'bodyreadinglevel_lowQ', 'family_issues',\n",
       "       'work_issues', 'relationship_issues', 'bfgf', 'drama', 'cheating',\n",
       "       'sex', 'friend', 'livein', 'marriage', 'bizpartners', 'bosses',\n",
       "       'colleagues', 'employees', 'stepfam', 'godfam', 'grandparents',\n",
       "       'parents', 'siblings', 'kids', 'relatives', 'inlaws', 'neg', 'neu',\n",
       "       'pos', 'compound', 'neg_highQ', 'neg_lowQ', 'pos_highQ', 'pos_lowQ',\n",
       "       'compound_highQ', 'compound_lowQ'],\n",
       "      dtype='object')"
      ]
     },
     "execution_count": 143,
     "metadata": {},
     "output_type": "execute_result"
    }
   ],
   "source": [
    "df.columns"
   ]
  },
  {
   "cell_type": "markdown",
   "metadata": {},
   "source": [
    "And we're ready for our modeling! We're going to evaluate our results using recall rather than accuracy - the goal is to figure out how many of our assessments of is_asshole are correct relative to all of the assholes in the dataset. I'm trying out Decision Trees and Random Forests, just to see how they do."
   ]
  },
  {
   "cell_type": "code",
   "execution_count": 162,
   "metadata": {},
   "outputs": [],
   "source": [
    "from sklearn.ensemble import RandomForestClassifier\n",
    "from sklearn.datasets import make_classification\n",
    "from sklearn import tree, metrics"
   ]
  },
  {
   "cell_type": "code",
   "execution_count": 153,
   "metadata": {},
   "outputs": [],
   "source": [
    "Prediction = df.dropna()"
   ]
  },
  {
   "cell_type": "code",
   "execution_count": 154,
   "metadata": {},
   "outputs": [],
   "source": [
    "features = ['edited', 'countI', 'countHeSheThey', 'IvsHeSheThey', 'post_word_count', 'questionmarklast', \n",
    "            'WIBTA_AITA', 'bodyreadinglevel', 'countI_highQ', 'countI_lowQ', 'countHeSheThey_highQ', \n",
    "            'countHeSheThey_lowQ', 'IvsHeSheThey_highQ', 'IvsHeSheThey_lowQ', 'post_word_count_highQ', \n",
    "            'post_word_count_lowQ', 'IoverPostCount', 'IoverPostCount_highQ', 'IoverPostCount_lowQ',\n",
    "            'bodyreadinglevel_highQ', 'bodyreadinglevel_lowQ', 'family_issues',\n",
    "            'work_issues', 'relationship_issues', 'bfgf', 'drama', 'cheating', 'sex', 'friend', 'livein', \n",
    "            'marriage', 'bizpartners', 'bosses', 'colleagues', 'employees', 'stepfam', 'godfam', 'grandparents',\n",
    "            'parents', 'siblings', 'kids', 'relatives', 'inlaws', 'neg', 'neu', 'pos', 'compound', 'neg_highQ', \n",
    "            'neg_lowQ', 'pos_highQ', 'pos_lowQ', 'compound_highQ', 'compound_lowQ']\n",
    "\n",
    "X = Prediction[features] \n",
    "y = Prediction.is_asshole"
   ]
  },
  {
   "cell_type": "code",
   "execution_count": 155,
   "metadata": {},
   "outputs": [],
   "source": [
    "X_train, X_test, y_train, y_test = train_test_split(X, y, test_size=0.25, random_state = 246)"
   ]
  },
  {
   "cell_type": "code",
   "execution_count": 156,
   "metadata": {},
   "outputs": [],
   "source": [
    "X_train = pd.get_dummies(X_train)\n",
    "\n",
    "X_test = pd.get_dummies(X_test)"
   ]
  },
  {
   "cell_type": "code",
   "execution_count": 157,
   "metadata": {},
   "outputs": [
    {
     "data": {
      "text/plain": [
       "DecisionTreeClassifier(class_weight=None, criterion='entropy', max_depth=3,\n",
       "                       max_features=None, max_leaf_nodes=None,\n",
       "                       min_impurity_decrease=0.0, min_impurity_split=None,\n",
       "                       min_samples_leaf=1, min_samples_split=2,\n",
       "                       min_weight_fraction_leaf=0.0, presort=False,\n",
       "                       random_state=1234, splitter='best')"
      ]
     },
     "execution_count": 157,
     "metadata": {},
     "output_type": "execute_result"
    }
   ],
   "source": [
    "# Declare a variable called entr_model and use tree.DecisionTreeClassifier. \n",
    "df_dectree = tree.DecisionTreeClassifier(criterion=\"entropy\", random_state = 1234, max_depth = 3)\n",
    "\n",
    "# Call fit() on entr_model\n",
    "df_dectree.fit(X_train, y_train)\n",
    "\n",
    "# Call predict() on entr_model with X_test passed to it, and assign the result to a variable y_pred \n",
    "y_pred = df_dectree.predict(X_test)\n",
    "\n",
    "# Call Series on our y_pred variable with the following: pd.Series(y_pred)\n",
    "pd.Series(y_pred)\n",
    "\n",
    "# Check out entr_model\n",
    "df_dectree"
   ]
  },
  {
   "cell_type": "code",
   "execution_count": 165,
   "metadata": {},
   "outputs": [
    {
     "name": "stdout",
     "output_type": "stream",
     "text": [
      "Model Entropy - no max depth\n",
      "Accuracy: 1.0\n",
      "Balanced accuracy: 1.0\n"
     ]
    },
    {
     "ename": "ValueError",
     "evalue": "y contains previously unseen labels: [1.0]",
     "output_type": "error",
     "traceback": [
      "\u001b[1;31m---------------------------------------------------------------------------\u001b[0m",
      "\u001b[1;31mValueError\u001b[0m                                Traceback (most recent call last)",
      "\u001b[1;32m<ipython-input-165-25f77f0fbf4f>\u001b[0m in \u001b[0;36m<module>\u001b[1;34m\u001b[0m\n\u001b[0;32m      5\u001b[0m \u001b[1;31m#print('Precision score for \"Yes\"' , metrics.precision_score(y_test,y_pred, pos_label = \"YES\"))\u001b[0m\u001b[1;33m\u001b[0m\u001b[1;33m\u001b[0m\u001b[1;33m\u001b[0m\u001b[0m\n\u001b[0;32m      6\u001b[0m \u001b[1;31m#print('Precision score for \"No\"' , metrics.precision_score(y_test,y_pred, pos_label = \"NO\"))\u001b[0m\u001b[1;33m\u001b[0m\u001b[1;33m\u001b[0m\u001b[1;33m\u001b[0m\u001b[0m\n\u001b[1;32m----> 7\u001b[1;33m \u001b[0mprint\u001b[0m\u001b[1;33m(\u001b[0m\u001b[1;34m'Recall score for \"Yes\"'\u001b[0m \u001b[1;33m,\u001b[0m \u001b[0mmetrics\u001b[0m\u001b[1;33m.\u001b[0m\u001b[0mrecall_score\u001b[0m\u001b[1;33m(\u001b[0m\u001b[0my_test\u001b[0m\u001b[1;33m,\u001b[0m\u001b[0my_pred\u001b[0m\u001b[1;33m,\u001b[0m \u001b[0mpos_label\u001b[0m \u001b[1;33m=\u001b[0m \u001b[1;34m\"YES\"\u001b[0m\u001b[1;33m)\u001b[0m\u001b[1;33m)\u001b[0m\u001b[1;33m\u001b[0m\u001b[1;33m\u001b[0m\u001b[0m\n\u001b[0m\u001b[0;32m      8\u001b[0m \u001b[0mprint\u001b[0m\u001b[1;33m(\u001b[0m\u001b[1;34m'Recall score for \"No\"'\u001b[0m \u001b[1;33m,\u001b[0m \u001b[0mmetrics\u001b[0m\u001b[1;33m.\u001b[0m\u001b[0mrecall_score\u001b[0m\u001b[1;33m(\u001b[0m\u001b[0my_test\u001b[0m\u001b[1;33m,\u001b[0m\u001b[0my_pred\u001b[0m\u001b[1;33m,\u001b[0m \u001b[0mpos_label\u001b[0m \u001b[1;33m=\u001b[0m \u001b[1;34m\"NO\"\u001b[0m\u001b[1;33m)\u001b[0m\u001b[1;33m)\u001b[0m\u001b[1;33m\u001b[0m\u001b[1;33m\u001b[0m\u001b[0m\n",
      "\u001b[1;32m~\\Anaconda3\\lib\\site-packages\\sklearn\\metrics\\classification.py\u001b[0m in \u001b[0;36mrecall_score\u001b[1;34m(y_true, y_pred, labels, pos_label, average, sample_weight)\u001b[0m\n\u001b[0;32m   1673\u001b[0m                                                  \u001b[0maverage\u001b[0m\u001b[1;33m=\u001b[0m\u001b[0maverage\u001b[0m\u001b[1;33m,\u001b[0m\u001b[1;33m\u001b[0m\u001b[1;33m\u001b[0m\u001b[0m\n\u001b[0;32m   1674\u001b[0m                                                  \u001b[0mwarn_for\u001b[0m\u001b[1;33m=\u001b[0m\u001b[1;33m(\u001b[0m\u001b[1;34m'recall'\u001b[0m\u001b[1;33m,\u001b[0m\u001b[1;33m)\u001b[0m\u001b[1;33m,\u001b[0m\u001b[1;33m\u001b[0m\u001b[1;33m\u001b[0m\u001b[0m\n\u001b[1;32m-> 1675\u001b[1;33m                                                  sample_weight=sample_weight)\n\u001b[0m\u001b[0;32m   1676\u001b[0m     \u001b[1;32mreturn\u001b[0m \u001b[0mr\u001b[0m\u001b[1;33m\u001b[0m\u001b[1;33m\u001b[0m\u001b[0m\n\u001b[0;32m   1677\u001b[0m \u001b[1;33m\u001b[0m\u001b[0m\n",
      "\u001b[1;32m~\\Anaconda3\\lib\\site-packages\\sklearn\\metrics\\classification.py\u001b[0m in \u001b[0;36mprecision_recall_fscore_support\u001b[1;34m(y_true, y_pred, beta, labels, pos_label, average, warn_for, sample_weight)\u001b[0m\n\u001b[0;32m   1419\u001b[0m     MCM = multilabel_confusion_matrix(y_true, y_pred,\n\u001b[0;32m   1420\u001b[0m                                       \u001b[0msample_weight\u001b[0m\u001b[1;33m=\u001b[0m\u001b[0msample_weight\u001b[0m\u001b[1;33m,\u001b[0m\u001b[1;33m\u001b[0m\u001b[1;33m\u001b[0m\u001b[0m\n\u001b[1;32m-> 1421\u001b[1;33m                                       labels=labels, samplewise=samplewise)\n\u001b[0m\u001b[0;32m   1422\u001b[0m     \u001b[0mtp_sum\u001b[0m \u001b[1;33m=\u001b[0m \u001b[0mMCM\u001b[0m\u001b[1;33m[\u001b[0m\u001b[1;33m:\u001b[0m\u001b[1;33m,\u001b[0m \u001b[1;36m1\u001b[0m\u001b[1;33m,\u001b[0m \u001b[1;36m1\u001b[0m\u001b[1;33m]\u001b[0m\u001b[1;33m\u001b[0m\u001b[1;33m\u001b[0m\u001b[0m\n\u001b[0;32m   1423\u001b[0m     \u001b[0mpred_sum\u001b[0m \u001b[1;33m=\u001b[0m \u001b[0mtp_sum\u001b[0m \u001b[1;33m+\u001b[0m \u001b[0mMCM\u001b[0m\u001b[1;33m[\u001b[0m\u001b[1;33m:\u001b[0m\u001b[1;33m,\u001b[0m \u001b[1;36m0\u001b[0m\u001b[1;33m,\u001b[0m \u001b[1;36m1\u001b[0m\u001b[1;33m]\u001b[0m\u001b[1;33m\u001b[0m\u001b[1;33m\u001b[0m\u001b[0m\n",
      "\u001b[1;32m~\\Anaconda3\\lib\\site-packages\\sklearn\\metrics\\classification.py\u001b[0m in \u001b[0;36mmultilabel_confusion_matrix\u001b[1;34m(y_true, y_pred, sample_weight, labels, samplewise)\u001b[0m\n\u001b[0;32m    418\u001b[0m         \u001b[0mle\u001b[0m \u001b[1;33m=\u001b[0m \u001b[0mLabelEncoder\u001b[0m\u001b[1;33m(\u001b[0m\u001b[1;33m)\u001b[0m\u001b[1;33m\u001b[0m\u001b[1;33m\u001b[0m\u001b[0m\n\u001b[0;32m    419\u001b[0m         \u001b[0mle\u001b[0m\u001b[1;33m.\u001b[0m\u001b[0mfit\u001b[0m\u001b[1;33m(\u001b[0m\u001b[0mlabels\u001b[0m\u001b[1;33m)\u001b[0m\u001b[1;33m\u001b[0m\u001b[1;33m\u001b[0m\u001b[0m\n\u001b[1;32m--> 420\u001b[1;33m         \u001b[0my_true\u001b[0m \u001b[1;33m=\u001b[0m \u001b[0mle\u001b[0m\u001b[1;33m.\u001b[0m\u001b[0mtransform\u001b[0m\u001b[1;33m(\u001b[0m\u001b[0my_true\u001b[0m\u001b[1;33m)\u001b[0m\u001b[1;33m\u001b[0m\u001b[1;33m\u001b[0m\u001b[0m\n\u001b[0m\u001b[0;32m    421\u001b[0m         \u001b[0my_pred\u001b[0m \u001b[1;33m=\u001b[0m \u001b[0mle\u001b[0m\u001b[1;33m.\u001b[0m\u001b[0mtransform\u001b[0m\u001b[1;33m(\u001b[0m\u001b[0my_pred\u001b[0m\u001b[1;33m)\u001b[0m\u001b[1;33m\u001b[0m\u001b[1;33m\u001b[0m\u001b[0m\n\u001b[0;32m    422\u001b[0m         \u001b[0msorted_labels\u001b[0m \u001b[1;33m=\u001b[0m \u001b[0mle\u001b[0m\u001b[1;33m.\u001b[0m\u001b[0mclasses_\u001b[0m\u001b[1;33m\u001b[0m\u001b[1;33m\u001b[0m\u001b[0m\n",
      "\u001b[1;32m~\\Anaconda3\\lib\\site-packages\\sklearn\\preprocessing\\label.py\u001b[0m in \u001b[0;36mtransform\u001b[1;34m(self, y)\u001b[0m\n\u001b[0;32m    255\u001b[0m             \u001b[1;32mreturn\u001b[0m \u001b[0mnp\u001b[0m\u001b[1;33m.\u001b[0m\u001b[0marray\u001b[0m\u001b[1;33m(\u001b[0m\u001b[1;33m[\u001b[0m\u001b[1;33m]\u001b[0m\u001b[1;33m)\u001b[0m\u001b[1;33m\u001b[0m\u001b[1;33m\u001b[0m\u001b[0m\n\u001b[0;32m    256\u001b[0m \u001b[1;33m\u001b[0m\u001b[0m\n\u001b[1;32m--> 257\u001b[1;33m         \u001b[0m_\u001b[0m\u001b[1;33m,\u001b[0m \u001b[0my\u001b[0m \u001b[1;33m=\u001b[0m \u001b[0m_encode\u001b[0m\u001b[1;33m(\u001b[0m\u001b[0my\u001b[0m\u001b[1;33m,\u001b[0m \u001b[0muniques\u001b[0m\u001b[1;33m=\u001b[0m\u001b[0mself\u001b[0m\u001b[1;33m.\u001b[0m\u001b[0mclasses_\u001b[0m\u001b[1;33m,\u001b[0m \u001b[0mencode\u001b[0m\u001b[1;33m=\u001b[0m\u001b[1;32mTrue\u001b[0m\u001b[1;33m)\u001b[0m\u001b[1;33m\u001b[0m\u001b[1;33m\u001b[0m\u001b[0m\n\u001b[0m\u001b[0;32m    258\u001b[0m         \u001b[1;32mreturn\u001b[0m \u001b[0my\u001b[0m\u001b[1;33m\u001b[0m\u001b[1;33m\u001b[0m\u001b[0m\n\u001b[0;32m    259\u001b[0m \u001b[1;33m\u001b[0m\u001b[0m\n",
      "\u001b[1;32m~\\Anaconda3\\lib\\site-packages\\sklearn\\preprocessing\\label.py\u001b[0m in \u001b[0;36m_encode\u001b[1;34m(values, uniques, encode)\u001b[0m\n\u001b[0;32m    108\u001b[0m         \u001b[1;32mreturn\u001b[0m \u001b[0mres\u001b[0m\u001b[1;33m\u001b[0m\u001b[1;33m\u001b[0m\u001b[0m\n\u001b[0;32m    109\u001b[0m     \u001b[1;32melse\u001b[0m\u001b[1;33m:\u001b[0m\u001b[1;33m\u001b[0m\u001b[1;33m\u001b[0m\u001b[0m\n\u001b[1;32m--> 110\u001b[1;33m         \u001b[1;32mreturn\u001b[0m \u001b[0m_encode_numpy\u001b[0m\u001b[1;33m(\u001b[0m\u001b[0mvalues\u001b[0m\u001b[1;33m,\u001b[0m \u001b[0muniques\u001b[0m\u001b[1;33m,\u001b[0m \u001b[0mencode\u001b[0m\u001b[1;33m)\u001b[0m\u001b[1;33m\u001b[0m\u001b[1;33m\u001b[0m\u001b[0m\n\u001b[0m\u001b[0;32m    111\u001b[0m \u001b[1;33m\u001b[0m\u001b[0m\n\u001b[0;32m    112\u001b[0m \u001b[1;33m\u001b[0m\u001b[0m\n",
      "\u001b[1;32m~\\Anaconda3\\lib\\site-packages\\sklearn\\preprocessing\\label.py\u001b[0m in \u001b[0;36m_encode_numpy\u001b[1;34m(values, uniques, encode)\u001b[0m\n\u001b[0;32m     47\u001b[0m         \u001b[1;32mif\u001b[0m \u001b[0mdiff\u001b[0m\u001b[1;33m:\u001b[0m\u001b[1;33m\u001b[0m\u001b[1;33m\u001b[0m\u001b[0m\n\u001b[0;32m     48\u001b[0m             raise ValueError(\"y contains previously unseen labels: %s\"\n\u001b[1;32m---> 49\u001b[1;33m                              % str(diff))\n\u001b[0m\u001b[0;32m     50\u001b[0m         \u001b[0mencoded\u001b[0m \u001b[1;33m=\u001b[0m \u001b[0mnp\u001b[0m\u001b[1;33m.\u001b[0m\u001b[0msearchsorted\u001b[0m\u001b[1;33m(\u001b[0m\u001b[0muniques\u001b[0m\u001b[1;33m,\u001b[0m \u001b[0mvalues\u001b[0m\u001b[1;33m)\u001b[0m\u001b[1;33m\u001b[0m\u001b[1;33m\u001b[0m\u001b[0m\n\u001b[0;32m     51\u001b[0m         \u001b[1;32mreturn\u001b[0m \u001b[0muniques\u001b[0m\u001b[1;33m,\u001b[0m \u001b[0mencoded\u001b[0m\u001b[1;33m\u001b[0m\u001b[1;33m\u001b[0m\u001b[0m\n",
      "\u001b[1;31mValueError\u001b[0m: y contains previously unseen labels: [1.0]"
     ]
    }
   ],
   "source": [
    "# Run this block for model evaluation metrics \n",
    "print(\"Model Entropy - no max depth\")\n",
    "print(\"Accuracy:\", metrics.accuracy_score(y_test,y_pred))\n",
    "print(\"Balanced accuracy:\", metrics.balanced_accuracy_score(y_test,y_pred))\n",
    "print('Precision score for \"Yes\"' , metrics.precision_score(y_test,y_pred, pos_label = \"YES\"))\n",
    "print('Precision score for \"No\"' , metrics.precision_score(y_test,y_pred, pos_label = \"NO\"))\n",
    "print('Recall score for \"Yes\"' , metrics.recall_score(y_test,y_pred, pos_label = \"YES\"))\n",
    "print('Recall score for \"No\"' , metrics.recall_score(y_test,y_pred, pos_label = \"NO\"))"
   ]
  },
  {
   "cell_type": "code",
   "execution_count": null,
   "metadata": {},
   "outputs": [],
   "source": []
  },
  {
   "cell_type": "code",
   "execution_count": null,
   "metadata": {},
   "outputs": [],
   "source": [
    "# Plug in appropriate max_depth and random_state parameters \n",
    "firstRFModel = RandomForestClassifier(max_depth=3, random_state=1234)\n",
    "\n",
    "firstRFModel.fit(X_train, y_train)\n",
    "\n",
    "y_pred = firstRFModel.predict(X_test)\n",
    "\n",
    "pd.Series(y_pred)"
   ]
  },
  {
   "cell_type": "code",
   "execution_count": null,
   "metadata": {},
   "outputs": [],
   "source": [
    "firstRFModel\n",
    "\n",
    "print(\"Random Forest model - max depth 3\")\n",
    "print(\"Accuracy:\", metrics.accuracy_score(y_test,y_pred))\n",
    "print(\"Balanced accuracy:\", metrics.balanced_accuracy_score(y_test,y_pred))\n",
    "print('Precision score' , metrics.precision_score(y_test,y_pred, pos_label = \"YES\"))\n",
    "print('Recall score' , metrics.recall_score(y_test,y_pred, pos_label = \"NO\"))"
   ]
  },
  {
   "cell_type": "code",
   "execution_count": null,
   "metadata": {},
   "outputs": [],
   "source": []
  },
  {
   "cell_type": "code",
   "execution_count": 144,
   "metadata": {},
   "outputs": [],
   "source": [
    "#XGBoost. \n",
    " #Can do .fit / predict in scikit.learn as well."
   ]
  },
  {
   "cell_type": "code",
   "execution_count": null,
   "metadata": {},
   "outputs": [],
   "source": []
  }
 ],
 "metadata": {
  "kernelspec": {
   "display_name": "Python 3",
   "language": "python",
   "name": "python3"
  },
  "language_info": {
   "codemirror_mode": {
    "name": "ipython",
    "version": 3
   },
   "file_extension": ".py",
   "mimetype": "text/x-python",
   "name": "python",
   "nbconvert_exporter": "python",
   "pygments_lexer": "ipython3",
   "version": "3.7.4"
  }
 },
 "nbformat": 4,
 "nbformat_minor": 2
}
