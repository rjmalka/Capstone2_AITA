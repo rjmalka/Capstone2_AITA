{
 "cells": [
  {
   "cell_type": "code",
   "execution_count": 1,
   "metadata": {},
   "outputs": [
    {
     "name": "stderr",
     "output_type": "stream",
     "text": [
      "C:\\Users\\Robert Malka\\Anaconda3\\lib\\site-packages\\statsmodels\\tools\\_testing.py:19: FutureWarning: pandas.util.testing is deprecated. Use the functions in the public API at pandas.testing instead.\n",
      "  import pandas.util.testing as tm\n"
     ]
    }
   ],
   "source": [
    "import os\n",
    "import pandas as pd\n",
    "import datetime\n",
    "import seaborn as sns\n",
    "import matplotlib.pyplot as plt\n",
    "import numpy as np\n",
    "%matplotlib inline"
   ]
  },
  {
   "cell_type": "code",
   "execution_count": 2,
   "metadata": {},
   "outputs": [],
   "source": [
    "df = pd.read_csv(r\"C:\\Users\\Robert Malka\\aita_clean.csv\")\n"
   ]
  },
  {
   "cell_type": "markdown",
   "metadata": {},
   "source": [
    "# Three objectives:\n",
    "\n",
    "- convert epoch time to datetime \n",
    "- convert epoch time to \"TRUE\" in the Edited column\n",
    "- replace â€™, â€œ, and â€ with \"'\"\n"
   ]
  },
  {
   "cell_type": "code",
   "execution_count": 3,
   "metadata": {},
   "outputs": [
    {
     "data": {
      "text/html": [
       "<div>\n",
       "<style scoped>\n",
       "    .dataframe tbody tr th:only-of-type {\n",
       "        vertical-align: middle;\n",
       "    }\n",
       "\n",
       "    .dataframe tbody tr th {\n",
       "        vertical-align: top;\n",
       "    }\n",
       "\n",
       "    .dataframe thead th {\n",
       "        text-align: right;\n",
       "    }\n",
       "</style>\n",
       "<table border=\"1\" class=\"dataframe\">\n",
       "  <thead>\n",
       "    <tr style=\"text-align: right;\">\n",
       "      <th></th>\n",
       "      <th>id</th>\n",
       "      <th>timestamp</th>\n",
       "      <th>title</th>\n",
       "      <th>body</th>\n",
       "      <th>edited</th>\n",
       "      <th>verdict</th>\n",
       "      <th>score</th>\n",
       "      <th>num_comments</th>\n",
       "      <th>is_asshole</th>\n",
       "    </tr>\n",
       "  </thead>\n",
       "  <tbody>\n",
       "    <tr>\n",
       "      <th>0</th>\n",
       "      <td>1ytxov</td>\n",
       "      <td>1.393279e+09</td>\n",
       "      <td>[AITA] I wrote an explanation in TIL and came ...</td>\n",
       "      <td>[Here is the post in question](http://www.redd...</td>\n",
       "      <td>False</td>\n",
       "      <td>asshole</td>\n",
       "      <td>52</td>\n",
       "      <td>13.0</td>\n",
       "      <td>1</td>\n",
       "    </tr>\n",
       "    <tr>\n",
       "      <th>1</th>\n",
       "      <td>1yu29c</td>\n",
       "      <td>1.393281e+09</td>\n",
       "      <td>[AITA] Threw my parent's donuts away</td>\n",
       "      <td>My parents are diabetic, morbidly obese, and a...</td>\n",
       "      <td>1393290576.0</td>\n",
       "      <td>asshole</td>\n",
       "      <td>140</td>\n",
       "      <td>27.0</td>\n",
       "      <td>1</td>\n",
       "    </tr>\n",
       "    <tr>\n",
       "      <th>2</th>\n",
       "      <td>1yu8hi</td>\n",
       "      <td>1.393285e+09</td>\n",
       "      <td>I told a goth girl she looked like a clown.</td>\n",
       "      <td>I was four.</td>\n",
       "      <td>False</td>\n",
       "      <td>not the asshole</td>\n",
       "      <td>74</td>\n",
       "      <td>15.0</td>\n",
       "      <td>0</td>\n",
       "    </tr>\n",
       "    <tr>\n",
       "      <th>3</th>\n",
       "      <td>1yuc78</td>\n",
       "      <td>1.393287e+09</td>\n",
       "      <td>[AItA]: Argument I had with another redditor i...</td>\n",
       "      <td>http://www.reddit.com/r/HIMYM/comments/1vvfkq/...</td>\n",
       "      <td>1393286962.0</td>\n",
       "      <td>everyone sucks</td>\n",
       "      <td>22</td>\n",
       "      <td>3.0</td>\n",
       "      <td>1</td>\n",
       "    </tr>\n",
       "    <tr>\n",
       "      <th>4</th>\n",
       "      <td>1yueqb</td>\n",
       "      <td>1.393288e+09</td>\n",
       "      <td>[AITA] I let my story get a little long and bo...</td>\n",
       "      <td>NaN</td>\n",
       "      <td>False</td>\n",
       "      <td>not the asshole</td>\n",
       "      <td>6</td>\n",
       "      <td>4.0</td>\n",
       "      <td>0</td>\n",
       "    </tr>\n",
       "  </tbody>\n",
       "</table>\n",
       "</div>"
      ],
      "text/plain": [
       "       id     timestamp                                              title  \\\n",
       "0  1ytxov  1.393279e+09  [AITA] I wrote an explanation in TIL and came ...   \n",
       "1  1yu29c  1.393281e+09               [AITA] Threw my parent's donuts away   \n",
       "2  1yu8hi  1.393285e+09        I told a goth girl she looked like a clown.   \n",
       "3  1yuc78  1.393287e+09  [AItA]: Argument I had with another redditor i...   \n",
       "4  1yueqb  1.393288e+09  [AITA] I let my story get a little long and bo...   \n",
       "\n",
       "                                                body        edited  \\\n",
       "0  [Here is the post in question](http://www.redd...         False   \n",
       "1  My parents are diabetic, morbidly obese, and a...  1393290576.0   \n",
       "2                                        I was four.         False   \n",
       "3  http://www.reddit.com/r/HIMYM/comments/1vvfkq/...  1393286962.0   \n",
       "4                                                NaN         False   \n",
       "\n",
       "           verdict  score  num_comments  is_asshole  \n",
       "0          asshole     52          13.0           1  \n",
       "1          asshole    140          27.0           1  \n",
       "2  not the asshole     74          15.0           0  \n",
       "3   everyone sucks     22           3.0           1  \n",
       "4  not the asshole      6           4.0           0  "
      ]
     },
     "execution_count": 3,
     "metadata": {},
     "output_type": "execute_result"
    }
   ],
   "source": [
    "df.head()"
   ]
  },
  {
   "cell_type": "code",
   "execution_count": 4,
   "metadata": {},
   "outputs": [],
   "source": [
    "# - convert epoch time to datetime \n",
    "\n",
    "df['timestamp'] = pd.to_datetime(df['timestamp'], unit='s')"
   ]
  },
  {
   "cell_type": "code",
   "execution_count": 5,
   "metadata": {},
   "outputs": [
    {
     "data": {
      "text/plain": [
       "False           71879\n",
       "1554930020.0        2\n",
       "1562083930.0        2\n",
       "1555232096.0        2\n",
       "1579726818.0        2\n",
       "                ...  \n",
       "1556841243.0        1\n",
       "1550201393.0        1\n",
       "1554254430.0        1\n",
       "1552009911.0        1\n",
       "1553170494.0        1\n",
       "Name: edited, Length: 25742, dtype: int64"
      ]
     },
     "execution_count": 5,
     "metadata": {},
     "output_type": "execute_result"
    }
   ],
   "source": [
    "df['edited'].value_counts()\n"
   ]
  },
  {
   "cell_type": "code",
   "execution_count": 6,
   "metadata": {},
   "outputs": [
    {
     "data": {
      "text/plain": [
       "array(['False', 'False', 'False', ..., 'False', 'False', 'False'],\n",
       "      dtype=object)"
      ]
     },
     "execution_count": 6,
     "metadata": {},
     "output_type": "execute_result"
    }
   ],
   "source": [
    "#Boolean\n",
    "\n",
    "df[df['edited'].apply(lambda x: 'F' in x)]['edited'].values\n"
   ]
  },
  {
   "cell_type": "code",
   "execution_count": 7,
   "metadata": {},
   "outputs": [],
   "source": [
    "#changing epochtime to \"True\"\n",
    "\n",
    "df['edited'] = df['edited'].apply(lambda x: len(x) > 7) #setting equal to series"
   ]
  },
  {
   "cell_type": "code",
   "execution_count": 8,
   "metadata": {},
   "outputs": [
    {
     "data": {
      "text/plain": [
       "False    71879\n",
       "True     25749\n",
       "Name: edited, dtype: int64"
      ]
     },
     "execution_count": 8,
     "metadata": {},
     "output_type": "execute_result"
    }
   ],
   "source": [
    "df['edited'].value_counts()"
   ]
  },
  {
   "cell_type": "code",
   "execution_count": 9,
   "metadata": {},
   "outputs": [
    {
     "data": {
      "text/html": [
       "<div>\n",
       "<style scoped>\n",
       "    .dataframe tbody tr th:only-of-type {\n",
       "        vertical-align: middle;\n",
       "    }\n",
       "\n",
       "    .dataframe tbody tr th {\n",
       "        vertical-align: top;\n",
       "    }\n",
       "\n",
       "    .dataframe thead th {\n",
       "        text-align: right;\n",
       "    }\n",
       "</style>\n",
       "<table border=\"1\" class=\"dataframe\">\n",
       "  <thead>\n",
       "    <tr style=\"text-align: right;\">\n",
       "      <th></th>\n",
       "      <th>id</th>\n",
       "      <th>timestamp</th>\n",
       "      <th>title</th>\n",
       "      <th>body</th>\n",
       "      <th>edited</th>\n",
       "      <th>verdict</th>\n",
       "      <th>score</th>\n",
       "      <th>num_comments</th>\n",
       "      <th>is_asshole</th>\n",
       "    </tr>\n",
       "  </thead>\n",
       "  <tbody>\n",
       "    <tr>\n",
       "      <th>0</th>\n",
       "      <td>1ytxov</td>\n",
       "      <td>2014-02-24 21:50:51</td>\n",
       "      <td>[AITA] I wrote an explanation in TIL and came ...</td>\n",
       "      <td>[Here is the post in question](http://www.redd...</td>\n",
       "      <td>False</td>\n",
       "      <td>asshole</td>\n",
       "      <td>52</td>\n",
       "      <td>13.0</td>\n",
       "      <td>1</td>\n",
       "    </tr>\n",
       "    <tr>\n",
       "      <th>1</th>\n",
       "      <td>1yu29c</td>\n",
       "      <td>2014-02-24 22:33:04</td>\n",
       "      <td>[AITA] Threw my parent's donuts away</td>\n",
       "      <td>My parents are diabetic, morbidly obese, and a...</td>\n",
       "      <td>True</td>\n",
       "      <td>asshole</td>\n",
       "      <td>140</td>\n",
       "      <td>27.0</td>\n",
       "      <td>1</td>\n",
       "    </tr>\n",
       "    <tr>\n",
       "      <th>2</th>\n",
       "      <td>1yu8hi</td>\n",
       "      <td>2014-02-24 23:31:17</td>\n",
       "      <td>I told a goth girl she looked like a clown.</td>\n",
       "      <td>I was four.</td>\n",
       "      <td>False</td>\n",
       "      <td>not the asshole</td>\n",
       "      <td>74</td>\n",
       "      <td>15.0</td>\n",
       "      <td>0</td>\n",
       "    </tr>\n",
       "    <tr>\n",
       "      <th>3</th>\n",
       "      <td>1yuc78</td>\n",
       "      <td>2014-02-25 00:05:28</td>\n",
       "      <td>[AItA]: Argument I had with another redditor i...</td>\n",
       "      <td>http://www.reddit.com/r/HIMYM/comments/1vvfkq/...</td>\n",
       "      <td>True</td>\n",
       "      <td>everyone sucks</td>\n",
       "      <td>22</td>\n",
       "      <td>3.0</td>\n",
       "      <td>1</td>\n",
       "    </tr>\n",
       "    <tr>\n",
       "      <th>4</th>\n",
       "      <td>1yueqb</td>\n",
       "      <td>2014-02-25 00:29:24</td>\n",
       "      <td>[AITA] I let my story get a little long and bo...</td>\n",
       "      <td>NaN</td>\n",
       "      <td>False</td>\n",
       "      <td>not the asshole</td>\n",
       "      <td>6</td>\n",
       "      <td>4.0</td>\n",
       "      <td>0</td>\n",
       "    </tr>\n",
       "  </tbody>\n",
       "</table>\n",
       "</div>"
      ],
      "text/plain": [
       "       id           timestamp  \\\n",
       "0  1ytxov 2014-02-24 21:50:51   \n",
       "1  1yu29c 2014-02-24 22:33:04   \n",
       "2  1yu8hi 2014-02-24 23:31:17   \n",
       "3  1yuc78 2014-02-25 00:05:28   \n",
       "4  1yueqb 2014-02-25 00:29:24   \n",
       "\n",
       "                                               title  \\\n",
       "0  [AITA] I wrote an explanation in TIL and came ...   \n",
       "1               [AITA] Threw my parent's donuts away   \n",
       "2        I told a goth girl she looked like a clown.   \n",
       "3  [AItA]: Argument I had with another redditor i...   \n",
       "4  [AITA] I let my story get a little long and bo...   \n",
       "\n",
       "                                                body  edited          verdict  \\\n",
       "0  [Here is the post in question](http://www.redd...   False          asshole   \n",
       "1  My parents are diabetic, morbidly obese, and a...    True          asshole   \n",
       "2                                        I was four.   False  not the asshole   \n",
       "3  http://www.reddit.com/r/HIMYM/comments/1vvfkq/...    True   everyone sucks   \n",
       "4                                                NaN   False  not the asshole   \n",
       "\n",
       "   score  num_comments  is_asshole  \n",
       "0     52          13.0           1  \n",
       "1    140          27.0           1  \n",
       "2     74          15.0           0  \n",
       "3     22           3.0           1  \n",
       "4      6           4.0           0  "
      ]
     },
     "execution_count": 9,
     "metadata": {},
     "output_type": "execute_result"
    }
   ],
   "source": [
    "df.head()"
   ]
  },
  {
   "cell_type": "code",
   "execution_count": 10,
   "metadata": {},
   "outputs": [],
   "source": [
    "df['body'] = df['body'].replace(r\"[\\â€™\\â€œ\\â€]\", '\\'')\n"
   ]
  },
  {
   "cell_type": "code",
   "execution_count": 11,
   "metadata": {},
   "outputs": [
    {
     "data": {
      "text/plain": [
       "['Last night, my girlfriend  and I got back from an evening at the beach. We went to my house for a little bit just to spend some time together (she texted her mom to let her know that she was safe). We watched a TV show here and there and then spent the next few hours just talking to each other, kissing and cuddling. Without us realizing, it got a little late and we grew tired. She asked if she could take a quick nap which I said was no problem. However, I ended up falling asleep as well and when I came to, it was 2:00 in the morning. I realized that I was way too tired to safely drive her home and we ended up spending the night together and didn’t wake up until 7:00 this morning. My parents were already asleep by this time and I didn’t want to wake them and I hoped that they’d be understanding. \\n\\nA few minutes after we were both awake, I made her breakfast and then drove her home. My mom was more understanding than her partner who said what I did was horrible and an asshole thing to do. My mom of course still wasn’t exactly pleased but she was happy to know that we didn’t have sex or anything (which I wouldn’t have done anyways because we’re not at that point yet.) Did I do the right thing last night or am I, like my mom’s partner says, an asshole?\\n\\nAdditional Information: \\n\\nMy girlfriend and I are both close to 19 (she turns 19 next week and I turn 19 in three months)\\n\\nWe have been together for a little over a month\\n\\nMy mom’s partner and I have been at each other’s throats for 8 of the 13 years that she and my mom have been together. Which is why I’m asking this on here because I know I might be a little biased when it comes to what she says. \\n\\n\\nEdit: Feel free to ask any further questions about the situation and I Will answer 100% honestly.\\n']"
      ]
     },
     "execution_count": 11,
     "metadata": {},
     "output_type": "execute_result"
    }
   ],
   "source": [
    "#converting something to a list prints everything out, so that's a nice way to cheat.\n",
    "#Sample of a cell of body text\n",
    "\n",
    "df.loc[df.id=='2ft7yg','body'].to_list()\n",
    "\n",
    "\n",
    "#When you think about specifying a string, you need .loc or .iloc."
   ]
  },
  {
   "cell_type": "code",
   "execution_count": 12,
   "metadata": {},
   "outputs": [],
   "source": [
    "#df to csv\n",
    "\n",
    "#Can pickle this, if preferred.\n",
    "\n",
    "df.to_csv(\"aita_clean_3.2.csv\", index=False)"
   ]
  }
 ],
 "metadata": {
  "kernelspec": {
   "display_name": "Python 3",
   "language": "python",
   "name": "python3"
  },
  "language_info": {
   "codemirror_mode": {
    "name": "ipython",
    "version": 3
   },
   "file_extension": ".py",
   "mimetype": "text/x-python",
   "name": "python",
   "nbconvert_exporter": "python",
   "pygments_lexer": "ipython3",
   "version": "3.7.4"
  }
 },
 "nbformat": 4,
 "nbformat_minor": 2
}
